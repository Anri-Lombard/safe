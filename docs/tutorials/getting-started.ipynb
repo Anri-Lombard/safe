{
 "cells": [
  {
   "cell_type": "code",
   "execution_count": 1,
   "metadata": {},
   "outputs": [],
   "source": [
    "%load_ext autoreload\n",
    "%autoreload 2"
   ]
  },
  {
   "attachments": {},
   "cell_type": "markdown",
   "metadata": {},
   "source": [
    "# Getting Started with SAFE\n",
    "\n",
    "\n",
    "The SAFE encoding format is a rewriting of SMILES to ensure that any molecule can be written as a sequence of fragments where atoms or tokens corresponding to given fragments form a **substring**(ontiguous sequence) in the line notation representation. \n",
    "\n",
    "SAFE addresses some of the limitation of SMILES strings when it comes to *generative design*:\n",
    "\n",
    "\n",
    "<table>\n",
    "<tr>\n",
    "    <th>SAFE</th>\n",
    "    <th>Others</th>\n",
    "</tr>\n",
    "<tr>\n",
    "<td>\n",
    "<sub>\n",
    "\n",
    "```diff\n",
    "+ native support for (sub)structure-constrained design\n",
    "```\n",
    "</sub>\n",
    "\n",
    "<td>\n",
    "\n",
    "<sub>\n",
    "\n",
    "```diff\n",
    "- different generative models for different generative tasks \n",
    "- extensive substructure matching for filtering after generation\n",
    "- multiple steps generative process (e.g Liao et al. 2023, 10.1093/bioinformatics/btac814)\n",
    "- graph based approaches with their limitations\n",
    "```\n",
    "\n",
    "</sub>\n",
    "</td>\n",
    "</tr>\n",
    "<tr>\n",
    "<td>\n",
    "<sub>\n",
    "\n",
    "```diff\n",
    "+ any molecule generation as a simple NLP task (sequence completion or mask filling)\n",
    "+ a single autoregressive sequence model for both linker generation and scaffold decoration.\n",
    "```\n",
    "</sub>\n",
    "\n",
    "<td>\n",
    "<sub>\n",
    "\n",
    "```diff\n",
    "- complex training and decoding schemes for scaffold-constrained generation (e.g Arús-Pous et al. 2020, 10.1186/s13321-020-00441-8)\n",
    "- complex sampling algorithms for scaffold-constrained generation (e.g Langevin et al. 2020, 10.1021/acs.jcim.0c01015)\n",
    "```\n",
    "\n",
    "</sub>\n",
    "</td>\n",
    "</tr>\n",
    "<tr>\n",
    "<td>\n",
    "<sub>\n",
    "\n",
    "```diff\n",
    "+ SAFE strings are SMILES strings\n",
    "```\n",
    "\n",
    "</sub>\n",
    "</td>\n",
    "\n",
    "<td>\n",
    "<sub>\n",
    "\n",
    "```diff\n",
    "- requires a different chemical language (e.g Krenn et al. 2022, 10.1016/j.patter.2022.100588)\n",
    "```\n",
    "\n",
    "</sub>\n",
    "</td>\n",
    "\n",
    "</tr>\n",
    "\n",
    "</table>"
   ]
  },
  {
   "attachments": {},
   "cell_type": "markdown",
   "metadata": {},
   "source": [
    "## Using SAFE\n",
    "\n",
    "In the following we will highlight how to use SAFE and some of the properties of SAFE strings."
   ]
  },
  {
   "cell_type": "code",
   "execution_count": 2,
   "metadata": {},
   "outputs": [
    {
     "data": {
      "image/svg+xml": [
       "<svg xmlns=\"http://www.w3.org/2000/svg\" xmlns:rdkit=\"http://www.rdkit.org/xml\" xmlns:xlink=\"http://www.w3.org/1999/xlink\" version=\"1.1\" baseProfile=\"full\" xml:space=\"preserve\" width=\"300px\" height=\"300px\" viewBox=\"0 0 300 300\">\n",
       "<!-- END OF HEADER -->\n",
       "<rect style=\"opacity:1.0;fill:#FFFFFF;stroke:none\" width=\"300.0\" height=\"300.0\" x=\"0.0\" y=\"0.0\"> </rect>\n",
       "<path class=\"bond-0 atom-0 atom-1\" d=\"M 152.7,246.8 L 140.2,219.0\" style=\"fill:none;fill-rule:evenodd;stroke:#000000;stroke-width:2.0px;stroke-linecap:butt;stroke-linejoin:miter;stroke-opacity:1\"/>\n",
       "<path class=\"bond-1 atom-1 atom-2\" d=\"M 140.2,219.0 L 109.8,216.0\" style=\"fill:none;fill-rule:evenodd;stroke:#000000;stroke-width:2.0px;stroke-linecap:butt;stroke-linejoin:miter;stroke-opacity:1\"/>\n",
       "<path class=\"bond-1 atom-1 atom-2\" d=\"M 138.0,214.2 L 112.9,211.7\" style=\"fill:none;fill-rule:evenodd;stroke:#000000;stroke-width:2.0px;stroke-linecap:butt;stroke-linejoin:miter;stroke-opacity:1\"/>\n",
       "<path class=\"bond-2 atom-2 atom-3\" d=\"M 109.8,216.0 L 97.2,188.2\" style=\"fill:none;fill-rule:evenodd;stroke:#000000;stroke-width:2.0px;stroke-linecap:butt;stroke-linejoin:miter;stroke-opacity:1\"/>\n",
       "<path class=\"bond-3 atom-3 atom-4\" d=\"M 97.2,188.2 L 115.0,163.4\" style=\"fill:none;fill-rule:evenodd;stroke:#000000;stroke-width:2.0px;stroke-linecap:butt;stroke-linejoin:miter;stroke-opacity:1\"/>\n",
       "<path class=\"bond-3 atom-3 atom-4\" d=\"M 102.5,188.7 L 117.2,168.2\" style=\"fill:none;fill-rule:evenodd;stroke:#000000;stroke-width:2.0px;stroke-linecap:butt;stroke-linejoin:miter;stroke-opacity:1\"/>\n",
       "<path class=\"bond-4 atom-4 atom-5\" d=\"M 115.0,163.4 L 102.5,135.6\" style=\"fill:none;fill-rule:evenodd;stroke:#000000;stroke-width:2.0px;stroke-linecap:butt;stroke-linejoin:miter;stroke-opacity:1\"/>\n",
       "<path class=\"bond-5 atom-5 atom-6\" d=\"M 102.5,135.6 L 72.6,129.4\" style=\"fill:none;fill-rule:evenodd;stroke:#000000;stroke-width:2.0px;stroke-linecap:butt;stroke-linejoin:miter;stroke-opacity:1\"/>\n",
       "<path class=\"bond-5 atom-5 atom-6\" d=\"M 100.1,130.5 L 76.8,125.6\" style=\"fill:none;fill-rule:evenodd;stroke:#000000;stroke-width:2.0px;stroke-linecap:butt;stroke-linejoin:miter;stroke-opacity:1\"/>\n",
       "<path class=\"bond-6 atom-6 atom-7\" d=\"M 72.6,129.4 L 69.2,99.1\" style=\"fill:none;fill-rule:evenodd;stroke:#000000;stroke-width:2.0px;stroke-linecap:butt;stroke-linejoin:miter;stroke-opacity:1\"/>\n",
       "<path class=\"bond-7 atom-7 atom-8\" d=\"M 69.2,99.1 L 42.7,84.0\" style=\"fill:none;fill-rule:evenodd;stroke:#000000;stroke-width:2.0px;stroke-linecap:butt;stroke-linejoin:miter;stroke-opacity:1\"/>\n",
       "<path class=\"bond-8 atom-8 atom-9\" d=\"M 42.7,84.0 L 31.2,77.5\" style=\"fill:none;fill-rule:evenodd;stroke:#000000;stroke-width:2.0px;stroke-linecap:butt;stroke-linejoin:miter;stroke-opacity:1\"/>\n",
       "<path class=\"bond-8 atom-8 atom-9\" d=\"M 31.2,77.5 L 19.8,71.0\" style=\"fill:none;fill-rule:evenodd;stroke:#33CCCC;stroke-width:2.0px;stroke-linecap:butt;stroke-linejoin:miter;stroke-opacity:1\"/>\n",
       "<path class=\"bond-9 atom-8 atom-10\" d=\"M 42.7,84.0 L 48.7,73.4\" style=\"fill:none;fill-rule:evenodd;stroke:#000000;stroke-width:2.0px;stroke-linecap:butt;stroke-linejoin:miter;stroke-opacity:1\"/>\n",
       "<path class=\"bond-9 atom-8 atom-10\" d=\"M 48.7,73.4 L 54.8,62.8\" style=\"fill:none;fill-rule:evenodd;stroke:#33CCCC;stroke-width:2.0px;stroke-linecap:butt;stroke-linejoin:miter;stroke-opacity:1\"/>\n",
       "<path class=\"bond-10 atom-8 atom-11\" d=\"M 42.7,84.0 L 36.7,94.6\" style=\"fill:none;fill-rule:evenodd;stroke:#000000;stroke-width:2.0px;stroke-linecap:butt;stroke-linejoin:miter;stroke-opacity:1\"/>\n",
       "<path class=\"bond-10 atom-8 atom-11\" d=\"M 36.7,94.6 L 30.6,105.2\" style=\"fill:none;fill-rule:evenodd;stroke:#33CCCC;stroke-width:2.0px;stroke-linecap:butt;stroke-linejoin:miter;stroke-opacity:1\"/>\n",
       "<path class=\"bond-11 atom-7 atom-12\" d=\"M 69.2,99.1 L 81.0,93.8\" style=\"fill:none;fill-rule:evenodd;stroke:#000000;stroke-width:2.0px;stroke-linecap:butt;stroke-linejoin:miter;stroke-opacity:1\"/>\n",
       "<path class=\"bond-11 atom-7 atom-12\" d=\"M 81.0,93.8 L 92.7,88.5\" style=\"fill:none;fill-rule:evenodd;stroke:#0000FF;stroke-width:2.0px;stroke-linecap:butt;stroke-linejoin:miter;stroke-opacity:1\"/>\n",
       "<path class=\"bond-11 atom-7 atom-12\" d=\"M 74.1,101.9 L 84.4,97.3\" style=\"fill:none;fill-rule:evenodd;stroke:#000000;stroke-width:2.0px;stroke-linecap:butt;stroke-linejoin:miter;stroke-opacity:1\"/>\n",
       "<path class=\"bond-11 atom-7 atom-12\" d=\"M 84.4,97.3 L 94.6,92.7\" style=\"fill:none;fill-rule:evenodd;stroke:#0000FF;stroke-width:2.0px;stroke-linecap:butt;stroke-linejoin:miter;stroke-opacity:1\"/>\n",
       "<path class=\"bond-12 atom-12 atom-13\" d=\"M 101.3,91.3 L 113.3,104.4\" style=\"fill:none;fill-rule:evenodd;stroke:#0000FF;stroke-width:2.0px;stroke-linecap:butt;stroke-linejoin:miter;stroke-opacity:1\"/>\n",
       "<path class=\"bond-13 atom-13 atom-14\" d=\"M 121.8,108.6 L 134.9,107.2\" style=\"fill:none;fill-rule:evenodd;stroke:#0000FF;stroke-width:2.0px;stroke-linecap:butt;stroke-linejoin:miter;stroke-opacity:1\"/>\n",
       "<path class=\"bond-13 atom-13 atom-14\" d=\"M 134.9,107.2 L 147.9,105.7\" style=\"fill:none;fill-rule:evenodd;stroke:#000000;stroke-width:2.0px;stroke-linecap:butt;stroke-linejoin:miter;stroke-opacity:1\"/>\n",
       "<path class=\"bond-14 atom-14 atom-15\" d=\"M 147.9,105.7 L 166.0,130.3\" style=\"fill:none;fill-rule:evenodd;stroke:#000000;stroke-width:2.0px;stroke-linecap:butt;stroke-linejoin:miter;stroke-opacity:1\"/>\n",
       "<path class=\"bond-14 atom-14 atom-15\" d=\"M 153.1,105.2 L 168.1,125.5\" style=\"fill:none;fill-rule:evenodd;stroke:#000000;stroke-width:2.0px;stroke-linecap:butt;stroke-linejoin:miter;stroke-opacity:1\"/>\n",
       "<path class=\"bond-15 atom-15 atom-16\" d=\"M 166.0,130.3 L 196.3,126.9\" style=\"fill:none;fill-rule:evenodd;stroke:#000000;stroke-width:2.0px;stroke-linecap:butt;stroke-linejoin:miter;stroke-opacity:1\"/>\n",
       "<path class=\"bond-16 atom-16 atom-17\" d=\"M 196.3,126.9 L 208.5,99.0\" style=\"fill:none;fill-rule:evenodd;stroke:#000000;stroke-width:2.0px;stroke-linecap:butt;stroke-linejoin:miter;stroke-opacity:1\"/>\n",
       "<path class=\"bond-16 atom-16 atom-17\" d=\"M 193.1,122.7 L 203.3,99.6\" style=\"fill:none;fill-rule:evenodd;stroke:#000000;stroke-width:2.0px;stroke-linecap:butt;stroke-linejoin:miter;stroke-opacity:1\"/>\n",
       "<path class=\"bond-17 atom-17 atom-18\" d=\"M 208.5,99.0 L 221.8,97.5\" style=\"fill:none;fill-rule:evenodd;stroke:#000000;stroke-width:2.0px;stroke-linecap:butt;stroke-linejoin:miter;stroke-opacity:1\"/>\n",
       "<path class=\"bond-17 atom-17 atom-18\" d=\"M 221.8,97.5 L 235.1,96.1\" style=\"fill:none;fill-rule:evenodd;stroke:#CCCC00;stroke-width:2.0px;stroke-linecap:butt;stroke-linejoin:miter;stroke-opacity:1\"/>\n",
       "<path class=\"bond-18 atom-18 atom-19\" d=\"M 242.6,95.2 L 253.7,94.0\" style=\"fill:none;fill-rule:evenodd;stroke:#CCCC00;stroke-width:2.0px;stroke-linecap:butt;stroke-linejoin:miter;stroke-opacity:1\"/>\n",
       "<path class=\"bond-18 atom-18 atom-19\" d=\"M 253.7,94.0 L 264.9,92.8\" style=\"fill:none;fill-rule:evenodd;stroke:#0000FF;stroke-width:2.0px;stroke-linecap:butt;stroke-linejoin:miter;stroke-opacity:1\"/>\n",
       "<path class=\"bond-19 atom-18 atom-20\" d=\"M 237.2,101.4 L 238.3,111.1\" style=\"fill:none;fill-rule:evenodd;stroke:#CCCC00;stroke-width:2.0px;stroke-linecap:butt;stroke-linejoin:miter;stroke-opacity:1\"/>\n",
       "<path class=\"bond-19 atom-18 atom-20\" d=\"M 238.3,111.1 L 239.3,120.8\" style=\"fill:none;fill-rule:evenodd;stroke:#FF0000;stroke-width:2.0px;stroke-linecap:butt;stroke-linejoin:miter;stroke-opacity:1\"/>\n",
       "<path class=\"bond-19 atom-18 atom-20\" d=\"M 241.7,100.9 L 242.8,110.6\" style=\"fill:none;fill-rule:evenodd;stroke:#CCCC00;stroke-width:2.0px;stroke-linecap:butt;stroke-linejoin:miter;stroke-opacity:1\"/>\n",
       "<path class=\"bond-19 atom-18 atom-20\" d=\"M 242.8,110.6 L 243.9,120.3\" style=\"fill:none;fill-rule:evenodd;stroke:#FF0000;stroke-width:2.0px;stroke-linecap:butt;stroke-linejoin:miter;stroke-opacity:1\"/>\n",
       "<path class=\"bond-20 atom-18 atom-21\" d=\"M 240.5,90.1 L 239.4,80.3\" style=\"fill:none;fill-rule:evenodd;stroke:#CCCC00;stroke-width:2.0px;stroke-linecap:butt;stroke-linejoin:miter;stroke-opacity:1\"/>\n",
       "<path class=\"bond-20 atom-18 atom-21\" d=\"M 239.4,80.3 L 238.4,70.6\" style=\"fill:none;fill-rule:evenodd;stroke:#FF0000;stroke-width:2.0px;stroke-linecap:butt;stroke-linejoin:miter;stroke-opacity:1\"/>\n",
       "<path class=\"bond-20 atom-18 atom-21\" d=\"M 236.0,90.6 L 234.9,80.8\" style=\"fill:none;fill-rule:evenodd;stroke:#CCCC00;stroke-width:2.0px;stroke-linecap:butt;stroke-linejoin:miter;stroke-opacity:1\"/>\n",
       "<path class=\"bond-20 atom-18 atom-21\" d=\"M 234.9,80.8 L 233.8,71.1\" style=\"fill:none;fill-rule:evenodd;stroke:#FF0000;stroke-width:2.0px;stroke-linecap:butt;stroke-linejoin:miter;stroke-opacity:1\"/>\n",
       "<path class=\"bond-21 atom-17 atom-22\" d=\"M 208.5,99.0 L 190.4,74.4\" style=\"fill:none;fill-rule:evenodd;stroke:#000000;stroke-width:2.0px;stroke-linecap:butt;stroke-linejoin:miter;stroke-opacity:1\"/>\n",
       "<path class=\"bond-22 atom-22 atom-23\" d=\"M 190.4,74.4 L 160.1,77.8\" style=\"fill:none;fill-rule:evenodd;stroke:#000000;stroke-width:2.0px;stroke-linecap:butt;stroke-linejoin:miter;stroke-opacity:1\"/>\n",
       "<path class=\"bond-22 atom-22 atom-23\" d=\"M 188.3,79.3 L 163.3,82.1\" style=\"fill:none;fill-rule:evenodd;stroke:#000000;stroke-width:2.0px;stroke-linecap:butt;stroke-linejoin:miter;stroke-opacity:1\"/>\n",
       "<path class=\"bond-23 atom-4 atom-24\" d=\"M 115.0,163.4 L 145.4,166.4\" style=\"fill:none;fill-rule:evenodd;stroke:#000000;stroke-width:2.0px;stroke-linecap:butt;stroke-linejoin:miter;stroke-opacity:1\"/>\n",
       "<path class=\"bond-24 atom-24 atom-25\" d=\"M 145.4,166.4 L 158.0,194.2\" style=\"fill:none;fill-rule:evenodd;stroke:#000000;stroke-width:2.0px;stroke-linecap:butt;stroke-linejoin:miter;stroke-opacity:1\"/>\n",
       "<path class=\"bond-24 atom-24 atom-25\" d=\"M 142.3,170.7 L 152.7,193.7\" style=\"fill:none;fill-rule:evenodd;stroke:#000000;stroke-width:2.0px;stroke-linecap:butt;stroke-linejoin:miter;stroke-opacity:1\"/>\n",
       "<path class=\"bond-25 atom-25 atom-1\" d=\"M 158.0,194.2 L 140.2,219.0\" style=\"fill:none;fill-rule:evenodd;stroke:#000000;stroke-width:2.0px;stroke-linecap:butt;stroke-linejoin:miter;stroke-opacity:1\"/>\n",
       "<path class=\"bond-26 atom-13 atom-5\" d=\"M 114.5,114.4 L 108.5,125.0\" style=\"fill:none;fill-rule:evenodd;stroke:#0000FF;stroke-width:2.0px;stroke-linecap:butt;stroke-linejoin:miter;stroke-opacity:1\"/>\n",
       "<path class=\"bond-26 atom-13 atom-5\" d=\"M 108.5,125.0 L 102.5,135.6\" style=\"fill:none;fill-rule:evenodd;stroke:#000000;stroke-width:2.0px;stroke-linecap:butt;stroke-linejoin:miter;stroke-opacity:1\"/>\n",
       "<path class=\"bond-27 atom-23 atom-14\" d=\"M 160.1,77.8 L 147.9,105.7\" style=\"fill:none;fill-rule:evenodd;stroke:#000000;stroke-width:2.0px;stroke-linecap:butt;stroke-linejoin:miter;stroke-opacity:1\"/>\n",
       "<path d=\"M 111.3,216.1 L 109.8,216.0 L 109.2,214.6\" style=\"fill:none;stroke:#000000;stroke-width:2.0px;stroke-linecap:butt;stroke-linejoin:miter;stroke-opacity:1;\"/>\n",
       "<path d=\"M 97.9,189.6 L 97.2,188.2 L 98.1,187.0\" style=\"fill:none;stroke:#000000;stroke-width:2.0px;stroke-linecap:butt;stroke-linejoin:miter;stroke-opacity:1;\"/>\n",
       "<path d=\"M 74.1,129.8 L 72.6,129.4 L 72.4,127.9\" style=\"fill:none;stroke:#000000;stroke-width:2.0px;stroke-linecap:butt;stroke-linejoin:miter;stroke-opacity:1;\"/>\n",
       "<path d=\"M 165.1,129.1 L 166.0,130.3 L 167.5,130.1\" style=\"fill:none;stroke:#000000;stroke-width:2.0px;stroke-linecap:butt;stroke-linejoin:miter;stroke-opacity:1;\"/>\n",
       "<path d=\"M 194.8,127.1 L 196.3,126.9 L 196.9,125.6\" style=\"fill:none;stroke:#000000;stroke-width:2.0px;stroke-linecap:butt;stroke-linejoin:miter;stroke-opacity:1;\"/>\n",
       "<path d=\"M 191.3,75.7 L 190.4,74.4 L 188.9,74.6\" style=\"fill:none;stroke:#000000;stroke-width:2.0px;stroke-linecap:butt;stroke-linejoin:miter;stroke-opacity:1;\"/>\n",
       "<path d=\"M 161.6,77.6 L 160.1,77.8 L 159.5,79.2\" style=\"fill:none;stroke:#000000;stroke-width:2.0px;stroke-linecap:butt;stroke-linejoin:miter;stroke-opacity:1;\"/>\n",
       "<path d=\"M 143.9,166.3 L 145.4,166.4 L 146.0,167.8\" style=\"fill:none;stroke:#000000;stroke-width:2.0px;stroke-linecap:butt;stroke-linejoin:miter;stroke-opacity:1;\"/>\n",
       "<path d=\"M 157.3,192.8 L 158.0,194.2 L 157.1,195.5\" style=\"fill:none;stroke:#000000;stroke-width:2.0px;stroke-linecap:butt;stroke-linejoin:miter;stroke-opacity:1;\"/>\n",
       "<path class=\"atom-9\" d=\"M 13.6 64.6 L 18.8 64.6 L 18.8 65.6 L 14.8 65.6 L 14.8 68.2 L 18.3 68.2 L 18.3 69.2 L 14.8 69.2 L 14.8 73.3 L 13.6 73.3 L 13.6 64.6 \" fill=\"#33CCCC\"/>\n",
       "<path class=\"atom-10\" d=\"M 55.2 53.2 L 60.4 53.2 L 60.4 54.2 L 56.4 54.2 L 56.4 56.8 L 59.9 56.8 L 59.9 57.8 L 56.4 57.8 L 56.4 61.8 L 55.2 61.8 L 55.2 53.2 \" fill=\"#33CCCC\"/>\n",
       "<path class=\"atom-11\" d=\"M 25.0 106.2 L 30.2 106.2 L 30.2 107.2 L 26.2 107.2 L 26.2 109.8 L 29.7 109.8 L 29.7 110.8 L 26.2 110.8 L 26.2 114.9 L 25.0 114.9 L 25.0 106.2 \" fill=\"#33CCCC\"/>\n",
       "<path class=\"atom-12\" d=\"M 95.1 82.2 L 97.9 86.8 Q 98.2 87.3, 98.7 88.1 Q 99.1 88.9, 99.1 88.9 L 99.1 82.2 L 100.3 82.2 L 100.3 90.9 L 99.1 90.9 L 96.1 85.9 Q 95.7 85.3, 95.3 84.6 Q 95.0 83.9, 94.9 83.7 L 94.9 90.9 L 93.7 90.9 L 93.7 82.2 L 95.1 82.2 \" fill=\"#0000FF\"/>\n",
       "<path class=\"atom-13\" d=\"M 115.7 104.8 L 118.5 109.4 Q 118.8 109.8, 119.2 110.6 Q 119.7 111.5, 119.7 111.5 L 119.7 104.8 L 120.8 104.8 L 120.8 113.4 L 119.7 113.4 L 116.6 108.4 Q 116.3 107.8, 115.9 107.2 Q 115.5 106.5, 115.4 106.3 L 115.4 113.4 L 114.3 113.4 L 114.3 104.8 L 115.7 104.8 \" fill=\"#0000FF\"/>\n",
       "<path class=\"atom-18\" d=\"M 236.4 98.6 Q 236.5 98.6, 236.9 98.8 Q 237.3 99.0, 237.7 99.1 Q 238.2 99.2, 238.6 99.2 Q 239.5 99.2, 239.9 98.8 Q 240.4 98.4, 240.4 97.7 Q 240.4 97.2, 240.2 96.9 Q 239.9 96.6, 239.6 96.5 Q 239.2 96.3, 238.6 96.1 Q 237.8 95.9, 237.4 95.7 Q 236.9 95.5, 236.6 95.0 Q 236.3 94.5, 236.3 93.8 Q 236.3 92.7, 237.0 92.0 Q 237.7 91.3, 239.2 91.3 Q 240.2 91.3, 241.3 91.8 L 241.0 92.7 Q 240.0 92.3, 239.2 92.3 Q 238.4 92.3, 237.9 92.7 Q 237.5 93.0, 237.5 93.6 Q 237.5 94.1, 237.7 94.4 Q 237.9 94.6, 238.3 94.8 Q 238.6 95.0, 239.2 95.1 Q 240.0 95.4, 240.5 95.6 Q 240.9 95.9, 241.3 96.4 Q 241.6 96.9, 241.6 97.7 Q 241.6 98.9, 240.8 99.5 Q 240.0 100.2, 238.7 100.2 Q 237.9 100.2, 237.3 100.0 Q 236.8 99.9, 236.1 99.6 L 236.4 98.6 \" fill=\"#CCCC00\"/>\n",
       "<path class=\"atom-19\" d=\"M 267.3 88.0 L 270.1 92.5 Q 270.4 93.0, 270.8 93.8 Q 271.3 94.6, 271.3 94.7 L 271.3 88.0 L 272.4 88.0 L 272.4 96.6 L 271.3 96.6 L 268.2 91.6 Q 267.9 91.0, 267.5 90.3 Q 267.1 89.7, 267.0 89.5 L 267.0 96.6 L 265.9 96.6 L 265.9 88.0 L 267.3 88.0 \" fill=\"#0000FF\"/>\n",
       "<path class=\"atom-19\" d=\"M 274.1 88.0 L 275.3 88.0 L 275.3 91.6 L 279.7 91.6 L 279.7 88.0 L 280.8 88.0 L 280.8 96.6 L 279.7 96.6 L 279.7 92.6 L 275.3 92.6 L 275.3 96.6 L 274.1 96.6 L 274.1 88.0 \" fill=\"#0000FF\"/>\n",
       "<path class=\"atom-19\" d=\"M 282.5 96.3 Q 282.7 95.8, 283.2 95.5 Q 283.7 95.1, 284.4 95.1 Q 285.3 95.1, 285.8 95.6 Q 286.3 96.1, 286.3 96.9 Q 286.3 97.8, 285.6 98.5 Q 285.0 99.3, 283.7 100.3 L 286.4 100.3 L 286.4 100.9 L 282.5 100.9 L 282.5 100.4 Q 283.6 99.6, 284.2 99.1 Q 284.8 98.5, 285.2 98.0 Q 285.5 97.5, 285.5 97.0 Q 285.5 96.4, 285.2 96.1 Q 284.9 95.8, 284.4 95.8 Q 284.0 95.8, 283.7 96.0 Q 283.4 96.2, 283.2 96.6 L 282.5 96.3 \" fill=\"#0000FF\"/>\n",
       "<path class=\"atom-20\" d=\"M 238.2 126.0 Q 238.2 123.9, 239.3 122.8 Q 240.3 121.6, 242.2 121.6 Q 244.1 121.6, 245.1 122.8 Q 246.2 123.9, 246.2 126.0 Q 246.2 128.1, 245.1 129.3 Q 244.1 130.5, 242.2 130.5 Q 240.3 130.5, 239.3 129.3 Q 238.2 128.1, 238.2 126.0 M 242.2 129.5 Q 243.5 129.5, 244.2 128.6 Q 245.0 127.7, 245.0 126.0 Q 245.0 124.3, 244.2 123.4 Q 243.5 122.6, 242.2 122.6 Q 240.9 122.6, 240.2 123.4 Q 239.5 124.3, 239.5 126.0 Q 239.5 127.7, 240.2 128.6 Q 240.9 129.5, 242.2 129.5 \" fill=\"#FF0000\"/>\n",
       "<path class=\"atom-21\" d=\"M 231.5 65.3 Q 231.5 63.3, 232.5 62.1 Q 233.6 61.0, 235.5 61.0 Q 237.4 61.0, 238.4 62.1 Q 239.4 63.3, 239.4 65.3 Q 239.4 67.4, 238.4 68.6 Q 237.4 69.8, 235.5 69.8 Q 233.6 69.8, 232.5 68.6 Q 231.5 67.5, 231.5 65.3 M 235.5 68.8 Q 236.8 68.8, 237.5 68.0 Q 238.2 67.1, 238.2 65.3 Q 238.2 63.7, 237.5 62.8 Q 236.8 61.9, 235.5 61.9 Q 234.2 61.9, 233.4 62.8 Q 232.7 63.6, 232.7 65.3 Q 232.7 67.1, 233.4 68.0 Q 234.2 68.8, 235.5 68.8 \" fill=\"#FF0000\"/>\n",
       "</svg>"
      ],
      "text/plain": [
       "<IPython.core.display.SVG object>"
      ]
     },
     "metadata": {},
     "output_type": "display_data"
    }
   ],
   "source": [
    "import safe as sf\n",
    "import datamol as dm\n",
    "\n",
    "celecoxib = \"Cc1ccc(-c2cc(C(F)(F)F)nn2-c2ccc(S(N)(=O)=O)cc2)cc1\"\n",
    "celecoxib_mol = dm.to_mol(celecoxib)\n",
    "display(dm.to_image(celecoxib_mol))"
   ]
  },
  {
   "attachments": {},
   "cell_type": "markdown",
   "metadata": {},
   "source": [
    "#### Encoding\n",
    "\n",
    "!!! info \"SAFE represents fragments\"\n",
    "\n",
    "    SAFE represents molecules as a set of N [Fragment_1].[Fragment_i].[Fragment_N]\n",
    "    "
   ]
  },
  {
   "cell_type": "code",
   "execution_count": 3,
   "metadata": {},
   "outputs": [
    {
     "name": "stdout",
     "output_type": "stream",
     "text": [
      "c14ccc(S(N)(=O)=O)cc1.Cc1ccc3cc1.c13cc5nn14.C5(F)(F)F\n",
      "Representation using 4 fragments\n"
     ]
    }
   ],
   "source": [
    "safe_str = sf.encode(celecoxib_mol)\n",
    "print(safe_str)\n",
    "print(f\"Representation using {len(safe_str.split('.'))} fragments\")"
   ]
  },
  {
   "attachments": {},
   "cell_type": "markdown",
   "metadata": {},
   "source": [
    "!!! info \"SAFE string are SMILES\"\n",
    "\n",
    "    Any SAFE string is a valid SMILES and can be read by RDKit without any decoding trick."
   ]
  },
  {
   "cell_type": "code",
   "execution_count": 4,
   "metadata": {},
   "outputs": [
    {
     "data": {
      "image/svg+xml": [
       "<svg xmlns=\"http://www.w3.org/2000/svg\" xmlns:rdkit=\"http://www.rdkit.org/xml\" xmlns:xlink=\"http://www.w3.org/1999/xlink\" version=\"1.1\" baseProfile=\"full\" xml:space=\"preserve\" width=\"300px\" height=\"300px\" viewBox=\"0 0 300 300\">\n",
       "<!-- END OF HEADER -->\n",
       "<rect style=\"opacity:1.0;fill:#FFFFFF;stroke:none\" width=\"300.0\" height=\"300.0\" x=\"0.0\" y=\"0.0\"> </rect>\n",
       "<path class=\"bond-0 atom-0 atom-1\" d=\"M 147.9,105.7 L 166.0,130.3\" style=\"fill:none;fill-rule:evenodd;stroke:#000000;stroke-width:2.0px;stroke-linecap:butt;stroke-linejoin:miter;stroke-opacity:1\"/>\n",
       "<path class=\"bond-0 atom-0 atom-1\" d=\"M 153.1,105.2 L 168.1,125.5\" style=\"fill:none;fill-rule:evenodd;stroke:#000000;stroke-width:2.0px;stroke-linecap:butt;stroke-linejoin:miter;stroke-opacity:1\"/>\n",
       "<path class=\"bond-1 atom-1 atom-2\" d=\"M 166.0,130.3 L 196.3,126.9\" style=\"fill:none;fill-rule:evenodd;stroke:#000000;stroke-width:2.0px;stroke-linecap:butt;stroke-linejoin:miter;stroke-opacity:1\"/>\n",
       "<path class=\"bond-2 atom-2 atom-3\" d=\"M 196.3,126.9 L 208.5,99.0\" style=\"fill:none;fill-rule:evenodd;stroke:#000000;stroke-width:2.0px;stroke-linecap:butt;stroke-linejoin:miter;stroke-opacity:1\"/>\n",
       "<path class=\"bond-2 atom-2 atom-3\" d=\"M 193.1,122.7 L 203.3,99.6\" style=\"fill:none;fill-rule:evenodd;stroke:#000000;stroke-width:2.0px;stroke-linecap:butt;stroke-linejoin:miter;stroke-opacity:1\"/>\n",
       "<path class=\"bond-3 atom-3 atom-4\" d=\"M 208.5,99.0 L 221.8,97.5\" style=\"fill:none;fill-rule:evenodd;stroke:#000000;stroke-width:2.0px;stroke-linecap:butt;stroke-linejoin:miter;stroke-opacity:1\"/>\n",
       "<path class=\"bond-3 atom-3 atom-4\" d=\"M 221.8,97.5 L 235.1,96.1\" style=\"fill:none;fill-rule:evenodd;stroke:#CCCC00;stroke-width:2.0px;stroke-linecap:butt;stroke-linejoin:miter;stroke-opacity:1\"/>\n",
       "<path class=\"bond-4 atom-4 atom-5\" d=\"M 242.6,95.2 L 253.7,94.0\" style=\"fill:none;fill-rule:evenodd;stroke:#CCCC00;stroke-width:2.0px;stroke-linecap:butt;stroke-linejoin:miter;stroke-opacity:1\"/>\n",
       "<path class=\"bond-4 atom-4 atom-5\" d=\"M 253.7,94.0 L 264.9,92.8\" style=\"fill:none;fill-rule:evenodd;stroke:#0000FF;stroke-width:2.0px;stroke-linecap:butt;stroke-linejoin:miter;stroke-opacity:1\"/>\n",
       "<path class=\"bond-5 atom-4 atom-6\" d=\"M 237.2,101.4 L 238.3,111.1\" style=\"fill:none;fill-rule:evenodd;stroke:#CCCC00;stroke-width:2.0px;stroke-linecap:butt;stroke-linejoin:miter;stroke-opacity:1\"/>\n",
       "<path class=\"bond-5 atom-4 atom-6\" d=\"M 238.3,111.1 L 239.3,120.8\" style=\"fill:none;fill-rule:evenodd;stroke:#FF0000;stroke-width:2.0px;stroke-linecap:butt;stroke-linejoin:miter;stroke-opacity:1\"/>\n",
       "<path class=\"bond-5 atom-4 atom-6\" d=\"M 241.7,100.9 L 242.8,110.6\" style=\"fill:none;fill-rule:evenodd;stroke:#CCCC00;stroke-width:2.0px;stroke-linecap:butt;stroke-linejoin:miter;stroke-opacity:1\"/>\n",
       "<path class=\"bond-5 atom-4 atom-6\" d=\"M 242.8,110.6 L 243.9,120.3\" style=\"fill:none;fill-rule:evenodd;stroke:#FF0000;stroke-width:2.0px;stroke-linecap:butt;stroke-linejoin:miter;stroke-opacity:1\"/>\n",
       "<path class=\"bond-6 atom-4 atom-7\" d=\"M 240.5,90.1 L 239.4,80.3\" style=\"fill:none;fill-rule:evenodd;stroke:#CCCC00;stroke-width:2.0px;stroke-linecap:butt;stroke-linejoin:miter;stroke-opacity:1\"/>\n",
       "<path class=\"bond-6 atom-4 atom-7\" d=\"M 239.4,80.3 L 238.4,70.6\" style=\"fill:none;fill-rule:evenodd;stroke:#FF0000;stroke-width:2.0px;stroke-linecap:butt;stroke-linejoin:miter;stroke-opacity:1\"/>\n",
       "<path class=\"bond-6 atom-4 atom-7\" d=\"M 236.0,90.6 L 234.9,80.8\" style=\"fill:none;fill-rule:evenodd;stroke:#CCCC00;stroke-width:2.0px;stroke-linecap:butt;stroke-linejoin:miter;stroke-opacity:1\"/>\n",
       "<path class=\"bond-6 atom-4 atom-7\" d=\"M 234.9,80.8 L 233.8,71.1\" style=\"fill:none;fill-rule:evenodd;stroke:#FF0000;stroke-width:2.0px;stroke-linecap:butt;stroke-linejoin:miter;stroke-opacity:1\"/>\n",
       "<path class=\"bond-7 atom-3 atom-8\" d=\"M 208.5,99.0 L 190.4,74.4\" style=\"fill:none;fill-rule:evenodd;stroke:#000000;stroke-width:2.0px;stroke-linecap:butt;stroke-linejoin:miter;stroke-opacity:1\"/>\n",
       "<path class=\"bond-8 atom-8 atom-9\" d=\"M 190.4,74.4 L 160.1,77.8\" style=\"fill:none;fill-rule:evenodd;stroke:#000000;stroke-width:2.0px;stroke-linecap:butt;stroke-linejoin:miter;stroke-opacity:1\"/>\n",
       "<path class=\"bond-8 atom-8 atom-9\" d=\"M 188.3,79.3 L 163.3,82.1\" style=\"fill:none;fill-rule:evenodd;stroke:#000000;stroke-width:2.0px;stroke-linecap:butt;stroke-linejoin:miter;stroke-opacity:1\"/>\n",
       "<path class=\"bond-9 atom-10 atom-11\" d=\"M 152.7,246.8 L 140.2,219.0\" style=\"fill:none;fill-rule:evenodd;stroke:#000000;stroke-width:2.0px;stroke-linecap:butt;stroke-linejoin:miter;stroke-opacity:1\"/>\n",
       "<path class=\"bond-10 atom-11 atom-12\" d=\"M 140.2,219.0 L 109.8,216.0\" style=\"fill:none;fill-rule:evenodd;stroke:#000000;stroke-width:2.0px;stroke-linecap:butt;stroke-linejoin:miter;stroke-opacity:1\"/>\n",
       "<path class=\"bond-10 atom-11 atom-12\" d=\"M 138.0,214.2 L 112.9,211.7\" style=\"fill:none;fill-rule:evenodd;stroke:#000000;stroke-width:2.0px;stroke-linecap:butt;stroke-linejoin:miter;stroke-opacity:1\"/>\n",
       "<path class=\"bond-11 atom-12 atom-13\" d=\"M 109.8,216.0 L 97.2,188.2\" style=\"fill:none;fill-rule:evenodd;stroke:#000000;stroke-width:2.0px;stroke-linecap:butt;stroke-linejoin:miter;stroke-opacity:1\"/>\n",
       "<path class=\"bond-12 atom-13 atom-14\" d=\"M 97.2,188.2 L 115.0,163.4\" style=\"fill:none;fill-rule:evenodd;stroke:#000000;stroke-width:2.0px;stroke-linecap:butt;stroke-linejoin:miter;stroke-opacity:1\"/>\n",
       "<path class=\"bond-12 atom-13 atom-14\" d=\"M 102.5,188.7 L 117.2,168.2\" style=\"fill:none;fill-rule:evenodd;stroke:#000000;stroke-width:2.0px;stroke-linecap:butt;stroke-linejoin:miter;stroke-opacity:1\"/>\n",
       "<path class=\"bond-13 atom-14 atom-15\" d=\"M 115.0,163.4 L 145.4,166.4\" style=\"fill:none;fill-rule:evenodd;stroke:#000000;stroke-width:2.0px;stroke-linecap:butt;stroke-linejoin:miter;stroke-opacity:1\"/>\n",
       "<path class=\"bond-14 atom-15 atom-16\" d=\"M 145.4,166.4 L 158.0,194.2\" style=\"fill:none;fill-rule:evenodd;stroke:#000000;stroke-width:2.0px;stroke-linecap:butt;stroke-linejoin:miter;stroke-opacity:1\"/>\n",
       "<path class=\"bond-14 atom-15 atom-16\" d=\"M 142.3,170.7 L 152.7,193.7\" style=\"fill:none;fill-rule:evenodd;stroke:#000000;stroke-width:2.0px;stroke-linecap:butt;stroke-linejoin:miter;stroke-opacity:1\"/>\n",
       "<path class=\"bond-15 atom-17 atom-18\" d=\"M 102.5,135.6 L 72.6,129.4\" style=\"fill:none;fill-rule:evenodd;stroke:#000000;stroke-width:2.0px;stroke-linecap:butt;stroke-linejoin:miter;stroke-opacity:1\"/>\n",
       "<path class=\"bond-15 atom-17 atom-18\" d=\"M 100.1,130.5 L 76.8,125.6\" style=\"fill:none;fill-rule:evenodd;stroke:#000000;stroke-width:2.0px;stroke-linecap:butt;stroke-linejoin:miter;stroke-opacity:1\"/>\n",
       "<path class=\"bond-16 atom-18 atom-19\" d=\"M 72.6,129.4 L 69.2,99.1\" style=\"fill:none;fill-rule:evenodd;stroke:#000000;stroke-width:2.0px;stroke-linecap:butt;stroke-linejoin:miter;stroke-opacity:1\"/>\n",
       "<path class=\"bond-17 atom-19 atom-20\" d=\"M 69.2,99.1 L 81.0,93.8\" style=\"fill:none;fill-rule:evenodd;stroke:#000000;stroke-width:2.0px;stroke-linecap:butt;stroke-linejoin:miter;stroke-opacity:1\"/>\n",
       "<path class=\"bond-17 atom-19 atom-20\" d=\"M 81.0,93.8 L 92.7,88.5\" style=\"fill:none;fill-rule:evenodd;stroke:#0000FF;stroke-width:2.0px;stroke-linecap:butt;stroke-linejoin:miter;stroke-opacity:1\"/>\n",
       "<path class=\"bond-17 atom-19 atom-20\" d=\"M 74.1,101.9 L 84.4,97.3\" style=\"fill:none;fill-rule:evenodd;stroke:#000000;stroke-width:2.0px;stroke-linecap:butt;stroke-linejoin:miter;stroke-opacity:1\"/>\n",
       "<path class=\"bond-17 atom-19 atom-20\" d=\"M 84.4,97.3 L 94.6,92.7\" style=\"fill:none;fill-rule:evenodd;stroke:#0000FF;stroke-width:2.0px;stroke-linecap:butt;stroke-linejoin:miter;stroke-opacity:1\"/>\n",
       "<path class=\"bond-18 atom-20 atom-21\" d=\"M 101.3,91.3 L 113.3,104.4\" style=\"fill:none;fill-rule:evenodd;stroke:#0000FF;stroke-width:2.0px;stroke-linecap:butt;stroke-linejoin:miter;stroke-opacity:1\"/>\n",
       "<path class=\"bond-19 atom-22 atom-23\" d=\"M 42.7,84.0 L 31.2,77.5\" style=\"fill:none;fill-rule:evenodd;stroke:#000000;stroke-width:2.0px;stroke-linecap:butt;stroke-linejoin:miter;stroke-opacity:1\"/>\n",
       "<path class=\"bond-19 atom-22 atom-23\" d=\"M 31.2,77.5 L 19.8,71.0\" style=\"fill:none;fill-rule:evenodd;stroke:#33CCCC;stroke-width:2.0px;stroke-linecap:butt;stroke-linejoin:miter;stroke-opacity:1\"/>\n",
       "<path class=\"bond-20 atom-22 atom-24\" d=\"M 42.7,84.0 L 48.7,73.4\" style=\"fill:none;fill-rule:evenodd;stroke:#000000;stroke-width:2.0px;stroke-linecap:butt;stroke-linejoin:miter;stroke-opacity:1\"/>\n",
       "<path class=\"bond-20 atom-22 atom-24\" d=\"M 48.7,73.4 L 54.8,62.8\" style=\"fill:none;fill-rule:evenodd;stroke:#33CCCC;stroke-width:2.0px;stroke-linecap:butt;stroke-linejoin:miter;stroke-opacity:1\"/>\n",
       "<path class=\"bond-21 atom-22 atom-25\" d=\"M 42.7,84.0 L 36.7,94.6\" style=\"fill:none;fill-rule:evenodd;stroke:#000000;stroke-width:2.0px;stroke-linecap:butt;stroke-linejoin:miter;stroke-opacity:1\"/>\n",
       "<path class=\"bond-21 atom-22 atom-25\" d=\"M 36.7,94.6 L 30.6,105.2\" style=\"fill:none;fill-rule:evenodd;stroke:#33CCCC;stroke-width:2.0px;stroke-linecap:butt;stroke-linejoin:miter;stroke-opacity:1\"/>\n",
       "<path class=\"bond-22 atom-9 atom-0\" d=\"M 160.1,77.8 L 147.9,105.7\" style=\"fill:none;fill-rule:evenodd;stroke:#000000;stroke-width:2.0px;stroke-linecap:butt;stroke-linejoin:miter;stroke-opacity:1\"/>\n",
       "<path class=\"bond-23 atom-16 atom-11\" d=\"M 158.0,194.2 L 140.2,219.0\" style=\"fill:none;fill-rule:evenodd;stroke:#000000;stroke-width:2.0px;stroke-linecap:butt;stroke-linejoin:miter;stroke-opacity:1\"/>\n",
       "<path class=\"bond-24 atom-21 atom-17\" d=\"M 114.5,114.4 L 108.5,125.0\" style=\"fill:none;fill-rule:evenodd;stroke:#0000FF;stroke-width:2.0px;stroke-linecap:butt;stroke-linejoin:miter;stroke-opacity:1\"/>\n",
       "<path class=\"bond-24 atom-21 atom-17\" d=\"M 108.5,125.0 L 102.5,135.6\" style=\"fill:none;fill-rule:evenodd;stroke:#000000;stroke-width:2.0px;stroke-linecap:butt;stroke-linejoin:miter;stroke-opacity:1\"/>\n",
       "<path class=\"bond-25 atom-17 atom-14\" d=\"M 102.5,135.6 L 115.0,163.4\" style=\"fill:none;fill-rule:evenodd;stroke:#000000;stroke-width:2.0px;stroke-linecap:butt;stroke-linejoin:miter;stroke-opacity:1\"/>\n",
       "<path class=\"bond-26 atom-21 atom-0\" d=\"M 121.8,108.6 L 134.9,107.2\" style=\"fill:none;fill-rule:evenodd;stroke:#0000FF;stroke-width:2.0px;stroke-linecap:butt;stroke-linejoin:miter;stroke-opacity:1\"/>\n",
       "<path class=\"bond-26 atom-21 atom-0\" d=\"M 134.9,107.2 L 147.9,105.7\" style=\"fill:none;fill-rule:evenodd;stroke:#000000;stroke-width:2.0px;stroke-linecap:butt;stroke-linejoin:miter;stroke-opacity:1\"/>\n",
       "<path class=\"bond-27 atom-22 atom-19\" d=\"M 42.7,84.0 L 69.2,99.1\" style=\"fill:none;fill-rule:evenodd;stroke:#000000;stroke-width:2.0px;stroke-linecap:butt;stroke-linejoin:miter;stroke-opacity:1\"/>\n",
       "<path d=\"M 165.1,129.1 L 166.0,130.3 L 167.5,130.1\" style=\"fill:none;stroke:#000000;stroke-width:2.0px;stroke-linecap:butt;stroke-linejoin:miter;stroke-opacity:1;\"/>\n",
       "<path d=\"M 194.8,127.1 L 196.3,126.9 L 196.9,125.6\" style=\"fill:none;stroke:#000000;stroke-width:2.0px;stroke-linecap:butt;stroke-linejoin:miter;stroke-opacity:1;\"/>\n",
       "<path d=\"M 191.3,75.7 L 190.4,74.4 L 188.9,74.6\" style=\"fill:none;stroke:#000000;stroke-width:2.0px;stroke-linecap:butt;stroke-linejoin:miter;stroke-opacity:1;\"/>\n",
       "<path d=\"M 161.6,77.6 L 160.1,77.8 L 159.5,79.2\" style=\"fill:none;stroke:#000000;stroke-width:2.0px;stroke-linecap:butt;stroke-linejoin:miter;stroke-opacity:1;\"/>\n",
       "<path d=\"M 111.3,216.1 L 109.8,216.0 L 109.2,214.6\" style=\"fill:none;stroke:#000000;stroke-width:2.0px;stroke-linecap:butt;stroke-linejoin:miter;stroke-opacity:1;\"/>\n",
       "<path d=\"M 97.9,189.6 L 97.2,188.2 L 98.1,187.0\" style=\"fill:none;stroke:#000000;stroke-width:2.0px;stroke-linecap:butt;stroke-linejoin:miter;stroke-opacity:1;\"/>\n",
       "<path d=\"M 143.9,166.3 L 145.4,166.4 L 146.0,167.8\" style=\"fill:none;stroke:#000000;stroke-width:2.0px;stroke-linecap:butt;stroke-linejoin:miter;stroke-opacity:1;\"/>\n",
       "<path d=\"M 157.3,192.8 L 158.0,194.2 L 157.1,195.5\" style=\"fill:none;stroke:#000000;stroke-width:2.0px;stroke-linecap:butt;stroke-linejoin:miter;stroke-opacity:1;\"/>\n",
       "<path d=\"M 74.1,129.8 L 72.6,129.4 L 72.4,127.9\" style=\"fill:none;stroke:#000000;stroke-width:2.0px;stroke-linecap:butt;stroke-linejoin:miter;stroke-opacity:1;\"/>\n",
       "<path class=\"atom-4\" d=\"M 236.4 98.6 Q 236.5 98.6, 236.9 98.8 Q 237.3 99.0, 237.7 99.1 Q 238.2 99.2, 238.6 99.2 Q 239.5 99.2, 239.9 98.8 Q 240.4 98.4, 240.4 97.7 Q 240.4 97.2, 240.2 96.9 Q 239.9 96.6, 239.6 96.5 Q 239.2 96.3, 238.6 96.1 Q 237.8 95.9, 237.4 95.7 Q 236.9 95.5, 236.6 95.0 Q 236.3 94.5, 236.3 93.8 Q 236.3 92.7, 237.0 92.0 Q 237.7 91.3, 239.2 91.3 Q 240.2 91.3, 241.3 91.8 L 241.0 92.7 Q 240.0 92.3, 239.2 92.3 Q 238.4 92.3, 237.9 92.7 Q 237.5 93.0, 237.5 93.6 Q 237.5 94.1, 237.7 94.4 Q 237.9 94.6, 238.3 94.8 Q 238.6 95.0, 239.2 95.1 Q 240.0 95.4, 240.5 95.6 Q 240.9 95.9, 241.3 96.4 Q 241.6 96.9, 241.6 97.7 Q 241.6 98.9, 240.8 99.5 Q 240.0 100.2, 238.7 100.2 Q 237.9 100.2, 237.3 100.0 Q 236.8 99.9, 236.1 99.6 L 236.4 98.6 \" fill=\"#CCCC00\"/>\n",
       "<path class=\"atom-5\" d=\"M 267.3 88.0 L 270.1 92.5 Q 270.4 93.0, 270.8 93.8 Q 271.3 94.6, 271.3 94.7 L 271.3 88.0 L 272.4 88.0 L 272.4 96.6 L 271.3 96.6 L 268.2 91.6 Q 267.9 91.0, 267.5 90.3 Q 267.1 89.7, 267.0 89.5 L 267.0 96.6 L 265.9 96.6 L 265.9 88.0 L 267.3 88.0 \" fill=\"#0000FF\"/>\n",
       "<path class=\"atom-5\" d=\"M 274.1 88.0 L 275.3 88.0 L 275.3 91.6 L 279.7 91.6 L 279.7 88.0 L 280.8 88.0 L 280.8 96.6 L 279.7 96.6 L 279.7 92.6 L 275.3 92.6 L 275.3 96.6 L 274.1 96.6 L 274.1 88.0 \" fill=\"#0000FF\"/>\n",
       "<path class=\"atom-5\" d=\"M 282.5 96.3 Q 282.7 95.8, 283.2 95.5 Q 283.7 95.1, 284.4 95.1 Q 285.3 95.1, 285.8 95.6 Q 286.3 96.1, 286.3 96.9 Q 286.3 97.8, 285.6 98.5 Q 285.0 99.3, 283.7 100.3 L 286.4 100.3 L 286.4 100.9 L 282.5 100.9 L 282.5 100.4 Q 283.6 99.6, 284.2 99.1 Q 284.8 98.5, 285.2 98.0 Q 285.5 97.5, 285.5 97.0 Q 285.5 96.4, 285.2 96.1 Q 284.9 95.8, 284.4 95.8 Q 284.0 95.8, 283.7 96.0 Q 283.4 96.2, 283.2 96.6 L 282.5 96.3 \" fill=\"#0000FF\"/>\n",
       "<path class=\"atom-6\" d=\"M 238.2 126.0 Q 238.2 123.9, 239.3 122.8 Q 240.3 121.6, 242.2 121.6 Q 244.1 121.6, 245.1 122.8 Q 246.2 123.9, 246.2 126.0 Q 246.2 128.1, 245.1 129.3 Q 244.1 130.5, 242.2 130.5 Q 240.3 130.5, 239.3 129.3 Q 238.2 128.1, 238.2 126.0 M 242.2 129.5 Q 243.5 129.5, 244.2 128.6 Q 245.0 127.7, 245.0 126.0 Q 245.0 124.3, 244.2 123.4 Q 243.5 122.6, 242.2 122.6 Q 240.9 122.6, 240.2 123.4 Q 239.5 124.3, 239.5 126.0 Q 239.5 127.7, 240.2 128.6 Q 240.9 129.5, 242.2 129.5 \" fill=\"#FF0000\"/>\n",
       "<path class=\"atom-7\" d=\"M 231.5 65.3 Q 231.5 63.3, 232.5 62.1 Q 233.6 61.0, 235.5 61.0 Q 237.4 61.0, 238.4 62.1 Q 239.4 63.3, 239.4 65.3 Q 239.4 67.4, 238.4 68.6 Q 237.4 69.8, 235.5 69.8 Q 233.6 69.8, 232.5 68.6 Q 231.5 67.5, 231.5 65.3 M 235.5 68.8 Q 236.8 68.8, 237.5 68.0 Q 238.2 67.1, 238.2 65.3 Q 238.2 63.7, 237.5 62.8 Q 236.8 61.9, 235.5 61.9 Q 234.2 61.9, 233.4 62.8 Q 232.7 63.6, 232.7 65.3 Q 232.7 67.1, 233.4 68.0 Q 234.2 68.8, 235.5 68.8 \" fill=\"#FF0000\"/>\n",
       "<path class=\"atom-20\" d=\"M 95.1 82.2 L 97.9 86.8 Q 98.2 87.3, 98.7 88.1 Q 99.1 88.9, 99.1 88.9 L 99.1 82.2 L 100.3 82.2 L 100.3 90.9 L 99.1 90.9 L 96.1 85.9 Q 95.7 85.3, 95.3 84.6 Q 95.0 83.9, 94.9 83.7 L 94.9 90.9 L 93.7 90.9 L 93.7 82.2 L 95.1 82.2 \" fill=\"#0000FF\"/>\n",
       "<path class=\"atom-21\" d=\"M 115.7 104.8 L 118.5 109.4 Q 118.8 109.8, 119.2 110.6 Q 119.7 111.5, 119.7 111.5 L 119.7 104.8 L 120.8 104.8 L 120.8 113.4 L 119.7 113.4 L 116.6 108.4 Q 116.3 107.8, 115.9 107.2 Q 115.5 106.5, 115.4 106.3 L 115.4 113.4 L 114.3 113.4 L 114.3 104.8 L 115.7 104.8 \" fill=\"#0000FF\"/>\n",
       "<path class=\"atom-23\" d=\"M 13.6 64.6 L 18.8 64.6 L 18.8 65.6 L 14.8 65.6 L 14.8 68.2 L 18.3 68.2 L 18.3 69.2 L 14.8 69.2 L 14.8 73.3 L 13.6 73.3 L 13.6 64.6 \" fill=\"#33CCCC\"/>\n",
       "<path class=\"atom-24\" d=\"M 55.2 53.2 L 60.4 53.2 L 60.4 54.2 L 56.4 54.2 L 56.4 56.8 L 59.9 56.8 L 59.9 57.8 L 56.4 57.8 L 56.4 61.8 L 55.2 61.8 L 55.2 53.2 \" fill=\"#33CCCC\"/>\n",
       "<path class=\"atom-25\" d=\"M 25.0 106.2 L 30.2 106.2 L 30.2 107.2 L 26.2 107.2 L 26.2 109.8 L 29.7 109.8 L 29.7 110.8 L 26.2 110.8 L 26.2 114.9 L 25.0 114.9 L 25.0 106.2 \" fill=\"#33CCCC\"/>\n",
       "</svg>"
      ],
      "text/plain": [
       "<IPython.core.display.SVG object>"
      ]
     },
     "metadata": {},
     "output_type": "display_data"
    },
    {
     "data": {
      "text/plain": [
       "True"
      ]
     },
     "execution_count": 4,
     "metadata": {},
     "output_type": "execute_result"
    }
   ],
   "source": [
    "reconstructed = dm.to_mol(safe_str)\n",
    "display(dm.to_image(reconstructed))\n",
    "dm.same_mol(celecoxib_mol, reconstructed)"
   ]
  },
  {
   "attachments": {},
   "cell_type": "markdown",
   "metadata": {},
   "source": [
    "!!! info \"SAFE supports randomization\"\n",
    "\n",
    "    You can generate randomized SAFE strings."
   ]
  },
  {
   "cell_type": "code",
   "execution_count": 5,
   "metadata": {},
   "outputs": [
    {
     "name": "stdout",
     "output_type": "stream",
     "text": [
      "C(F)(F)(F)4.c1cc(S(=O)(=O)N)ccc12.c13ccc(C)cc1.n12nc4cc13\n"
     ]
    },
    {
     "data": {
      "text/plain": [
       "True"
      ]
     },
     "execution_count": 5,
     "metadata": {},
     "output_type": "execute_result"
    }
   ],
   "source": [
    "random_safe_str = sf.encode(celecoxib_mol, canonical=False, randomize=True)\n",
    "print(random_safe_str)\n",
    "reconstructed = dm.to_mol(safe_str)\n",
    "dm.same_mol(celecoxib_mol, reconstructed)"
   ]
  },
  {
   "attachments": {},
   "cell_type": "markdown",
   "metadata": {},
   "source": [
    "!!! info \"Fragment order in SAFE does not matter\"\n",
    "\n",
    "    Any permutation of the fragment order in a SAFE string preserve the molecule identity"
   ]
  },
  {
   "cell_type": "code",
   "execution_count": 6,
   "metadata": {},
   "outputs": [
    {
     "name": "stdout",
     "output_type": "stream",
     "text": [
      "c14ccc(S(N)(=O)=O)cc1.c13cc5nn14.Cc1ccc3cc1.C5(F)(F)F c14ccc(S(N)(=O)=O)cc1.Cc1ccc3cc1.c13cc5nn14.C5(F)(F)F\n"
     ]
    },
    {
     "data": {
      "text/plain": [
       "True"
      ]
     },
     "execution_count": 6,
     "metadata": {},
     "output_type": "execute_result"
    }
   ],
   "source": [
    "import numpy as np\n",
    "fragments = safe_str.split(\".\")\n",
    "randomized_fragment_safe_str = np.random.permutation(fragments).tolist()\n",
    "randomized_fragment_safe_str = \".\".join(randomized_fragment_safe_str)\n",
    "print(randomized_fragment_safe_str, safe_str)\n",
    "dm.same_mol(celecoxib_mol, randomized_fragment_safe_str)"
   ]
  },
  {
   "attachments": {},
   "cell_type": "markdown",
   "metadata": {},
   "source": [
    "!!! info \"Use your own slicing logic\"\n",
    "    \n",
    "    By default SAFE strings are generated using `BRICS`, however, the following are supported:\n",
    "    * [Hussain-Rea (`hr`)](https://pubs.acs.org/doi/10.1021/ci900450m)\n",
    "    * [RECAP (`recap`)](https://pubmed.ncbi.nlm.nih.gov/9611787/)\n",
    "    * [RDKit's MMPA (`mmpa`)](https://www.rdkit.org/docs/source/rdkit.Chem.rdMMPA.html)\n",
    "    * Any possible attachment points (`attach`)\n",
    "        \n",
    "    Furthermore, you can also provide your own slicing algorithm, which should return a pair of atoms corresponding to the bonds to break. \n",
    "\n"
   ]
  },
  {
   "cell_type": "code",
   "execution_count": 7,
   "metadata": {},
   "outputs": [
    {
     "name": "stdout",
     "output_type": "stream",
     "text": [
      "C%19%20%17%24.c1%19c9c%15c%25c8c1%14.c1%25c5c%12nn1%26.C%18%217%12.F%18.F7.F%21.c1%26c%27c%22c4c%16c1%11.S=3=%1046.N%236%13.O=3.O=%10.[H]%17.[H]%24.[H]%20.[H]9.[H]%15.[H]5.[H]%27.[H]%22.[H]%13.[H]%23.[H]%16.[H]%11.[H]8.[H]%14\n",
      "Representation using 26 fragments\n"
     ]
    },
    {
     "data": {
      "image/svg+xml": [
       "<svg xmlns=\"http://www.w3.org/2000/svg\" xmlns:rdkit=\"http://www.rdkit.org/xml\" xmlns:xlink=\"http://www.w3.org/1999/xlink\" version=\"1.1\" baseProfile=\"full\" xml:space=\"preserve\" width=\"300px\" height=\"300px\" viewBox=\"0 0 300 300\">\n",
       "<!-- END OF HEADER -->\n",
       "<rect style=\"opacity:1.0;fill:#FFFFFF;stroke:none\" width=\"300.0\" height=\"300.0\" x=\"0.0\" y=\"0.0\"> </rect>\n",
       "<path class=\"bond-0 atom-1 atom-2\" d=\"M 140.2,219.0 L 109.8,216.0\" style=\"fill:none;fill-rule:evenodd;stroke:#000000;stroke-width:2.0px;stroke-linecap:butt;stroke-linejoin:miter;stroke-opacity:1\"/>\n",
       "<path class=\"bond-0 atom-1 atom-2\" d=\"M 138.0,214.2 L 112.9,211.7\" style=\"fill:none;fill-rule:evenodd;stroke:#000000;stroke-width:2.0px;stroke-linecap:butt;stroke-linejoin:miter;stroke-opacity:1\"/>\n",
       "<path class=\"bond-1 atom-2 atom-3\" d=\"M 109.8,216.0 L 97.2,188.2\" style=\"fill:none;fill-rule:evenodd;stroke:#000000;stroke-width:2.0px;stroke-linecap:butt;stroke-linejoin:miter;stroke-opacity:1\"/>\n",
       "<path class=\"bond-2 atom-3 atom-4\" d=\"M 97.2,188.2 L 115.0,163.4\" style=\"fill:none;fill-rule:evenodd;stroke:#000000;stroke-width:2.0px;stroke-linecap:butt;stroke-linejoin:miter;stroke-opacity:1\"/>\n",
       "<path class=\"bond-2 atom-3 atom-4\" d=\"M 102.5,188.7 L 117.2,168.2\" style=\"fill:none;fill-rule:evenodd;stroke:#000000;stroke-width:2.0px;stroke-linecap:butt;stroke-linejoin:miter;stroke-opacity:1\"/>\n",
       "<path class=\"bond-3 atom-4 atom-5\" d=\"M 115.0,163.4 L 145.4,166.4\" style=\"fill:none;fill-rule:evenodd;stroke:#000000;stroke-width:2.0px;stroke-linecap:butt;stroke-linejoin:miter;stroke-opacity:1\"/>\n",
       "<path class=\"bond-4 atom-5 atom-6\" d=\"M 145.4,166.4 L 158.0,194.2\" style=\"fill:none;fill-rule:evenodd;stroke:#000000;stroke-width:2.0px;stroke-linecap:butt;stroke-linejoin:miter;stroke-opacity:1\"/>\n",
       "<path class=\"bond-4 atom-5 atom-6\" d=\"M 142.3,170.7 L 152.7,193.7\" style=\"fill:none;fill-rule:evenodd;stroke:#000000;stroke-width:2.0px;stroke-linecap:butt;stroke-linejoin:miter;stroke-opacity:1\"/>\n",
       "<path class=\"bond-5 atom-7 atom-8\" d=\"M 102.5,135.6 L 72.6,129.4\" style=\"fill:none;fill-rule:evenodd;stroke:#000000;stroke-width:2.0px;stroke-linecap:butt;stroke-linejoin:miter;stroke-opacity:1\"/>\n",
       "<path class=\"bond-5 atom-7 atom-8\" d=\"M 100.1,130.5 L 76.8,125.6\" style=\"fill:none;fill-rule:evenodd;stroke:#000000;stroke-width:2.0px;stroke-linecap:butt;stroke-linejoin:miter;stroke-opacity:1\"/>\n",
       "<path class=\"bond-6 atom-8 atom-9\" d=\"M 72.6,129.4 L 69.2,99.1\" style=\"fill:none;fill-rule:evenodd;stroke:#000000;stroke-width:2.0px;stroke-linecap:butt;stroke-linejoin:miter;stroke-opacity:1\"/>\n",
       "<path class=\"bond-7 atom-9 atom-10\" d=\"M 69.2,99.1 L 81.0,93.8\" style=\"fill:none;fill-rule:evenodd;stroke:#000000;stroke-width:2.0px;stroke-linecap:butt;stroke-linejoin:miter;stroke-opacity:1\"/>\n",
       "<path class=\"bond-7 atom-9 atom-10\" d=\"M 81.0,93.8 L 92.7,88.5\" style=\"fill:none;fill-rule:evenodd;stroke:#0000FF;stroke-width:2.0px;stroke-linecap:butt;stroke-linejoin:miter;stroke-opacity:1\"/>\n",
       "<path class=\"bond-7 atom-9 atom-10\" d=\"M 74.1,101.9 L 84.4,97.3\" style=\"fill:none;fill-rule:evenodd;stroke:#000000;stroke-width:2.0px;stroke-linecap:butt;stroke-linejoin:miter;stroke-opacity:1\"/>\n",
       "<path class=\"bond-7 atom-9 atom-10\" d=\"M 84.4,97.3 L 94.6,92.7\" style=\"fill:none;fill-rule:evenodd;stroke:#0000FF;stroke-width:2.0px;stroke-linecap:butt;stroke-linejoin:miter;stroke-opacity:1\"/>\n",
       "<path class=\"bond-8 atom-10 atom-11\" d=\"M 101.3,91.3 L 113.3,104.4\" style=\"fill:none;fill-rule:evenodd;stroke:#0000FF;stroke-width:2.0px;stroke-linecap:butt;stroke-linejoin:miter;stroke-opacity:1\"/>\n",
       "<path class=\"bond-9 atom-16 atom-17\" d=\"M 147.9,105.7 L 166.0,130.3\" style=\"fill:none;fill-rule:evenodd;stroke:#000000;stroke-width:2.0px;stroke-linecap:butt;stroke-linejoin:miter;stroke-opacity:1\"/>\n",
       "<path class=\"bond-9 atom-16 atom-17\" d=\"M 153.1,105.2 L 168.1,125.5\" style=\"fill:none;fill-rule:evenodd;stroke:#000000;stroke-width:2.0px;stroke-linecap:butt;stroke-linejoin:miter;stroke-opacity:1\"/>\n",
       "<path class=\"bond-10 atom-17 atom-18\" d=\"M 166.0,130.3 L 196.3,126.9\" style=\"fill:none;fill-rule:evenodd;stroke:#000000;stroke-width:2.0px;stroke-linecap:butt;stroke-linejoin:miter;stroke-opacity:1\"/>\n",
       "<path class=\"bond-11 atom-18 atom-19\" d=\"M 196.3,126.9 L 208.5,99.0\" style=\"fill:none;fill-rule:evenodd;stroke:#000000;stroke-width:2.0px;stroke-linecap:butt;stroke-linejoin:miter;stroke-opacity:1\"/>\n",
       "<path class=\"bond-11 atom-18 atom-19\" d=\"M 193.1,122.7 L 203.3,99.6\" style=\"fill:none;fill-rule:evenodd;stroke:#000000;stroke-width:2.0px;stroke-linecap:butt;stroke-linejoin:miter;stroke-opacity:1\"/>\n",
       "<path class=\"bond-12 atom-19 atom-20\" d=\"M 208.5,99.0 L 190.4,74.4\" style=\"fill:none;fill-rule:evenodd;stroke:#000000;stroke-width:2.0px;stroke-linecap:butt;stroke-linejoin:miter;stroke-opacity:1\"/>\n",
       "<path class=\"bond-13 atom-20 atom-21\" d=\"M 190.4,74.4 L 160.1,77.8\" style=\"fill:none;fill-rule:evenodd;stroke:#000000;stroke-width:2.0px;stroke-linecap:butt;stroke-linejoin:miter;stroke-opacity:1\"/>\n",
       "<path class=\"bond-13 atom-20 atom-21\" d=\"M 188.3,79.3 L 163.3,82.1\" style=\"fill:none;fill-rule:evenodd;stroke:#000000;stroke-width:2.0px;stroke-linecap:butt;stroke-linejoin:miter;stroke-opacity:1\"/>\n",
       "<path class=\"bond-14 atom-6 atom-1\" d=\"M 158.0,194.2 L 140.2,219.0\" style=\"fill:none;fill-rule:evenodd;stroke:#000000;stroke-width:2.0px;stroke-linecap:butt;stroke-linejoin:miter;stroke-opacity:1\"/>\n",
       "<path class=\"bond-15 atom-11 atom-7\" d=\"M 114.5,114.4 L 108.5,125.0\" style=\"fill:none;fill-rule:evenodd;stroke:#0000FF;stroke-width:2.0px;stroke-linecap:butt;stroke-linejoin:miter;stroke-opacity:1\"/>\n",
       "<path class=\"bond-15 atom-11 atom-7\" d=\"M 108.5,125.0 L 102.5,135.6\" style=\"fill:none;fill-rule:evenodd;stroke:#000000;stroke-width:2.0px;stroke-linecap:butt;stroke-linejoin:miter;stroke-opacity:1\"/>\n",
       "<path class=\"bond-16 atom-21 atom-16\" d=\"M 160.1,77.8 L 147.9,105.7\" style=\"fill:none;fill-rule:evenodd;stroke:#000000;stroke-width:2.0px;stroke-linecap:butt;stroke-linejoin:miter;stroke-opacity:1\"/>\n",
       "<path class=\"bond-17 atom-22 atom-24\" d=\"M 237.2,101.4 L 238.3,111.1\" style=\"fill:none;fill-rule:evenodd;stroke:#CCCC00;stroke-width:2.0px;stroke-linecap:butt;stroke-linejoin:miter;stroke-opacity:1\"/>\n",
       "<path class=\"bond-17 atom-22 atom-24\" d=\"M 238.3,111.1 L 239.3,120.8\" style=\"fill:none;fill-rule:evenodd;stroke:#FF0000;stroke-width:2.0px;stroke-linecap:butt;stroke-linejoin:miter;stroke-opacity:1\"/>\n",
       "<path class=\"bond-17 atom-22 atom-24\" d=\"M 241.7,100.9 L 242.8,110.6\" style=\"fill:none;fill-rule:evenodd;stroke:#CCCC00;stroke-width:2.0px;stroke-linecap:butt;stroke-linejoin:miter;stroke-opacity:1\"/>\n",
       "<path class=\"bond-17 atom-22 atom-24\" d=\"M 242.8,110.6 L 243.9,120.3\" style=\"fill:none;fill-rule:evenodd;stroke:#FF0000;stroke-width:2.0px;stroke-linecap:butt;stroke-linejoin:miter;stroke-opacity:1\"/>\n",
       "<path class=\"bond-18 atom-22 atom-19\" d=\"M 235.1,96.1 L 221.8,97.5\" style=\"fill:none;fill-rule:evenodd;stroke:#CCCC00;stroke-width:2.0px;stroke-linecap:butt;stroke-linejoin:miter;stroke-opacity:1\"/>\n",
       "<path class=\"bond-18 atom-22 atom-19\" d=\"M 221.8,97.5 L 208.5,99.0\" style=\"fill:none;fill-rule:evenodd;stroke:#000000;stroke-width:2.0px;stroke-linecap:butt;stroke-linejoin:miter;stroke-opacity:1\"/>\n",
       "<path class=\"bond-19 atom-23 atom-22\" d=\"M 264.9,92.8 L 253.7,94.0\" style=\"fill:none;fill-rule:evenodd;stroke:#0000FF;stroke-width:2.0px;stroke-linecap:butt;stroke-linejoin:miter;stroke-opacity:1\"/>\n",
       "<path class=\"bond-19 atom-23 atom-22\" d=\"M 253.7,94.0 L 242.6,95.2\" style=\"fill:none;fill-rule:evenodd;stroke:#CCCC00;stroke-width:2.0px;stroke-linecap:butt;stroke-linejoin:miter;stroke-opacity:1\"/>\n",
       "<path class=\"bond-20 atom-14 atom-12\" d=\"M 54.8,62.8 L 48.7,73.4\" style=\"fill:none;fill-rule:evenodd;stroke:#33CCCC;stroke-width:2.0px;stroke-linecap:butt;stroke-linejoin:miter;stroke-opacity:1\"/>\n",
       "<path class=\"bond-20 atom-14 atom-12\" d=\"M 48.7,73.4 L 42.7,84.0\" style=\"fill:none;fill-rule:evenodd;stroke:#000000;stroke-width:2.0px;stroke-linecap:butt;stroke-linejoin:miter;stroke-opacity:1\"/>\n",
       "<path class=\"bond-21 atom-22 atom-25\" d=\"M 240.5,90.1 L 239.4,80.3\" style=\"fill:none;fill-rule:evenodd;stroke:#CCCC00;stroke-width:2.0px;stroke-linecap:butt;stroke-linejoin:miter;stroke-opacity:1\"/>\n",
       "<path class=\"bond-21 atom-22 atom-25\" d=\"M 239.4,80.3 L 238.4,70.6\" style=\"fill:none;fill-rule:evenodd;stroke:#FF0000;stroke-width:2.0px;stroke-linecap:butt;stroke-linejoin:miter;stroke-opacity:1\"/>\n",
       "<path class=\"bond-21 atom-22 atom-25\" d=\"M 236.0,90.6 L 234.9,80.8\" style=\"fill:none;fill-rule:evenodd;stroke:#CCCC00;stroke-width:2.0px;stroke-linecap:butt;stroke-linejoin:miter;stroke-opacity:1\"/>\n",
       "<path class=\"bond-21 atom-22 atom-25\" d=\"M 234.9,80.8 L 233.8,71.1\" style=\"fill:none;fill-rule:evenodd;stroke:#FF0000;stroke-width:2.0px;stroke-linecap:butt;stroke-linejoin:miter;stroke-opacity:1\"/>\n",
       "<path class=\"bond-22 atom-12 atom-9\" d=\"M 42.7,84.0 L 69.2,99.1\" style=\"fill:none;fill-rule:evenodd;stroke:#000000;stroke-width:2.0px;stroke-linecap:butt;stroke-linejoin:miter;stroke-opacity:1\"/>\n",
       "<path class=\"bond-23 atom-13 atom-12\" d=\"M 19.8,71.0 L 31.2,77.5\" style=\"fill:none;fill-rule:evenodd;stroke:#33CCCC;stroke-width:2.0px;stroke-linecap:butt;stroke-linejoin:miter;stroke-opacity:1\"/>\n",
       "<path class=\"bond-23 atom-13 atom-12\" d=\"M 31.2,77.5 L 42.7,84.0\" style=\"fill:none;fill-rule:evenodd;stroke:#000000;stroke-width:2.0px;stroke-linecap:butt;stroke-linejoin:miter;stroke-opacity:1\"/>\n",
       "<path class=\"bond-24 atom-1 atom-0\" d=\"M 140.2,219.0 L 152.7,246.8\" style=\"fill:none;fill-rule:evenodd;stroke:#000000;stroke-width:2.0px;stroke-linecap:butt;stroke-linejoin:miter;stroke-opacity:1\"/>\n",
       "<path class=\"bond-25 atom-15 atom-12\" d=\"M 30.6,105.2 L 36.7,94.6\" style=\"fill:none;fill-rule:evenodd;stroke:#33CCCC;stroke-width:2.0px;stroke-linecap:butt;stroke-linejoin:miter;stroke-opacity:1\"/>\n",
       "<path class=\"bond-25 atom-15 atom-12\" d=\"M 36.7,94.6 L 42.7,84.0\" style=\"fill:none;fill-rule:evenodd;stroke:#000000;stroke-width:2.0px;stroke-linecap:butt;stroke-linejoin:miter;stroke-opacity:1\"/>\n",
       "<path class=\"bond-26 atom-7 atom-4\" d=\"M 102.5,135.6 L 115.0,163.4\" style=\"fill:none;fill-rule:evenodd;stroke:#000000;stroke-width:2.0px;stroke-linecap:butt;stroke-linejoin:miter;stroke-opacity:1\"/>\n",
       "<path class=\"bond-27 atom-16 atom-11\" d=\"M 147.9,105.7 L 134.9,107.2\" style=\"fill:none;fill-rule:evenodd;stroke:#000000;stroke-width:2.0px;stroke-linecap:butt;stroke-linejoin:miter;stroke-opacity:1\"/>\n",
       "<path class=\"bond-27 atom-16 atom-11\" d=\"M 134.9,107.2 L 121.8,108.6\" style=\"fill:none;fill-rule:evenodd;stroke:#0000FF;stroke-width:2.0px;stroke-linecap:butt;stroke-linejoin:miter;stroke-opacity:1\"/>\n",
       "<path d=\"M 111.3,216.1 L 109.8,216.0 L 109.2,214.6\" style=\"fill:none;stroke:#000000;stroke-width:2.0px;stroke-linecap:butt;stroke-linejoin:miter;stroke-opacity:1;\"/>\n",
       "<path d=\"M 97.9,189.6 L 97.2,188.2 L 98.1,187.0\" style=\"fill:none;stroke:#000000;stroke-width:2.0px;stroke-linecap:butt;stroke-linejoin:miter;stroke-opacity:1;\"/>\n",
       "<path d=\"M 143.9,166.3 L 145.4,166.4 L 146.0,167.8\" style=\"fill:none;stroke:#000000;stroke-width:2.0px;stroke-linecap:butt;stroke-linejoin:miter;stroke-opacity:1;\"/>\n",
       "<path d=\"M 157.3,192.8 L 158.0,194.2 L 157.1,195.5\" style=\"fill:none;stroke:#000000;stroke-width:2.0px;stroke-linecap:butt;stroke-linejoin:miter;stroke-opacity:1;\"/>\n",
       "<path d=\"M 74.1,129.8 L 72.6,129.4 L 72.4,127.9\" style=\"fill:none;stroke:#000000;stroke-width:2.0px;stroke-linecap:butt;stroke-linejoin:miter;stroke-opacity:1;\"/>\n",
       "<path d=\"M 165.1,129.1 L 166.0,130.3 L 167.5,130.1\" style=\"fill:none;stroke:#000000;stroke-width:2.0px;stroke-linecap:butt;stroke-linejoin:miter;stroke-opacity:1;\"/>\n",
       "<path d=\"M 194.8,127.1 L 196.3,126.9 L 196.9,125.6\" style=\"fill:none;stroke:#000000;stroke-width:2.0px;stroke-linecap:butt;stroke-linejoin:miter;stroke-opacity:1;\"/>\n",
       "<path d=\"M 191.3,75.7 L 190.4,74.4 L 188.9,74.6\" style=\"fill:none;stroke:#000000;stroke-width:2.0px;stroke-linecap:butt;stroke-linejoin:miter;stroke-opacity:1;\"/>\n",
       "<path d=\"M 161.6,77.6 L 160.1,77.8 L 159.5,79.2\" style=\"fill:none;stroke:#000000;stroke-width:2.0px;stroke-linecap:butt;stroke-linejoin:miter;stroke-opacity:1;\"/>\n",
       "<path class=\"atom-10\" d=\"M 95.1 82.2 L 97.9 86.8 Q 98.2 87.3, 98.7 88.1 Q 99.1 88.9, 99.1 88.9 L 99.1 82.2 L 100.3 82.2 L 100.3 90.9 L 99.1 90.9 L 96.1 85.9 Q 95.7 85.3, 95.3 84.6 Q 95.0 83.9, 94.9 83.7 L 94.9 90.9 L 93.7 90.9 L 93.7 82.2 L 95.1 82.2 \" fill=\"#0000FF\"/>\n",
       "<path class=\"atom-11\" d=\"M 115.7 104.8 L 118.5 109.4 Q 118.8 109.8, 119.2 110.6 Q 119.7 111.5, 119.7 111.5 L 119.7 104.8 L 120.8 104.8 L 120.8 113.4 L 119.7 113.4 L 116.6 108.4 Q 116.3 107.8, 115.9 107.2 Q 115.5 106.5, 115.4 106.3 L 115.4 113.4 L 114.3 113.4 L 114.3 104.8 L 115.7 104.8 \" fill=\"#0000FF\"/>\n",
       "<path class=\"atom-13\" d=\"M 13.6 64.6 L 18.8 64.6 L 18.8 65.6 L 14.8 65.6 L 14.8 68.2 L 18.3 68.2 L 18.3 69.2 L 14.8 69.2 L 14.8 73.3 L 13.6 73.3 L 13.6 64.6 \" fill=\"#33CCCC\"/>\n",
       "<path class=\"atom-14\" d=\"M 55.2 53.2 L 60.4 53.2 L 60.4 54.2 L 56.4 54.2 L 56.4 56.8 L 59.9 56.8 L 59.9 57.8 L 56.4 57.8 L 56.4 61.8 L 55.2 61.8 L 55.2 53.2 \" fill=\"#33CCCC\"/>\n",
       "<path class=\"atom-15\" d=\"M 25.0 106.2 L 30.2 106.2 L 30.2 107.2 L 26.2 107.2 L 26.2 109.8 L 29.7 109.8 L 29.7 110.8 L 26.2 110.8 L 26.2 114.9 L 25.0 114.9 L 25.0 106.2 \" fill=\"#33CCCC\"/>\n",
       "<path class=\"atom-22\" d=\"M 236.4 98.6 Q 236.5 98.6, 236.9 98.8 Q 237.3 99.0, 237.7 99.1 Q 238.2 99.2, 238.6 99.2 Q 239.5 99.2, 239.9 98.8 Q 240.4 98.4, 240.4 97.7 Q 240.4 97.2, 240.2 96.9 Q 239.9 96.6, 239.6 96.5 Q 239.2 96.3, 238.6 96.1 Q 237.8 95.9, 237.4 95.7 Q 236.9 95.5, 236.6 95.0 Q 236.3 94.5, 236.3 93.8 Q 236.3 92.7, 237.0 92.0 Q 237.7 91.3, 239.2 91.3 Q 240.2 91.3, 241.3 91.8 L 241.0 92.7 Q 240.0 92.3, 239.2 92.3 Q 238.4 92.3, 237.9 92.7 Q 237.5 93.0, 237.5 93.6 Q 237.5 94.1, 237.7 94.4 Q 237.9 94.6, 238.3 94.8 Q 238.6 95.0, 239.2 95.1 Q 240.0 95.4, 240.5 95.6 Q 240.9 95.9, 241.3 96.4 Q 241.6 96.9, 241.6 97.7 Q 241.6 98.9, 240.8 99.5 Q 240.0 100.2, 238.7 100.2 Q 237.9 100.2, 237.3 100.0 Q 236.8 99.9, 236.1 99.6 L 236.4 98.6 \" fill=\"#CCCC00\"/>\n",
       "<path class=\"atom-23\" d=\"M 267.3 88.0 L 270.1 92.5 Q 270.4 93.0, 270.8 93.8 Q 271.3 94.6, 271.3 94.7 L 271.3 88.0 L 272.4 88.0 L 272.4 96.6 L 271.3 96.6 L 268.2 91.6 Q 267.9 91.0, 267.5 90.3 Q 267.1 89.7, 267.0 89.5 L 267.0 96.6 L 265.9 96.6 L 265.9 88.0 L 267.3 88.0 \" fill=\"#0000FF\"/>\n",
       "<path class=\"atom-23\" d=\"M 274.1 88.0 L 275.3 88.0 L 275.3 91.6 L 279.7 91.6 L 279.7 88.0 L 280.8 88.0 L 280.8 96.6 L 279.7 96.6 L 279.7 92.6 L 275.3 92.6 L 275.3 96.6 L 274.1 96.6 L 274.1 88.0 \" fill=\"#0000FF\"/>\n",
       "<path class=\"atom-23\" d=\"M 282.5 96.3 Q 282.7 95.8, 283.2 95.5 Q 283.7 95.1, 284.4 95.1 Q 285.3 95.1, 285.8 95.6 Q 286.3 96.1, 286.3 96.9 Q 286.3 97.8, 285.6 98.5 Q 285.0 99.3, 283.7 100.3 L 286.4 100.3 L 286.4 100.9 L 282.5 100.9 L 282.5 100.4 Q 283.6 99.6, 284.2 99.1 Q 284.8 98.5, 285.2 98.0 Q 285.5 97.5, 285.5 97.0 Q 285.5 96.4, 285.2 96.1 Q 284.9 95.8, 284.4 95.8 Q 284.0 95.8, 283.7 96.0 Q 283.4 96.2, 283.2 96.6 L 282.5 96.3 \" fill=\"#0000FF\"/>\n",
       "<path class=\"atom-24\" d=\"M 238.2 126.0 Q 238.2 123.9, 239.3 122.8 Q 240.3 121.6, 242.2 121.6 Q 244.1 121.6, 245.1 122.8 Q 246.2 123.9, 246.2 126.0 Q 246.2 128.1, 245.1 129.3 Q 244.1 130.5, 242.2 130.5 Q 240.3 130.5, 239.3 129.3 Q 238.2 128.1, 238.2 126.0 M 242.2 129.5 Q 243.5 129.5, 244.2 128.6 Q 245.0 127.7, 245.0 126.0 Q 245.0 124.3, 244.2 123.4 Q 243.5 122.6, 242.2 122.6 Q 240.9 122.6, 240.2 123.4 Q 239.5 124.3, 239.5 126.0 Q 239.5 127.7, 240.2 128.6 Q 240.9 129.5, 242.2 129.5 \" fill=\"#FF0000\"/>\n",
       "<path class=\"atom-25\" d=\"M 231.5 65.3 Q 231.5 63.3, 232.5 62.1 Q 233.6 61.0, 235.5 61.0 Q 237.4 61.0, 238.4 62.1 Q 239.4 63.3, 239.4 65.3 Q 239.4 67.4, 238.4 68.6 Q 237.4 69.8, 235.5 69.8 Q 233.6 69.8, 232.5 68.6 Q 231.5 67.5, 231.5 65.3 M 235.5 68.8 Q 236.8 68.8, 237.5 68.0 Q 238.2 67.1, 238.2 65.3 Q 238.2 63.7, 237.5 62.8 Q 236.8 61.9, 235.5 61.9 Q 234.2 61.9, 233.4 62.8 Q 232.7 63.6, 232.7 65.3 Q 232.7 67.1, 233.4 68.0 Q 234.2 68.8, 235.5 68.8 \" fill=\"#FF0000\"/>\n",
       "</svg>"
      ],
      "text/plain": [
       "<IPython.core.display.SVG object>"
      ]
     },
     "metadata": {},
     "output_type": "display_data"
    }
   ],
   "source": [
    "safe_str = sf.encode(celecoxib_mol, canonical=False, slicer=\"attach\")\n",
    "print(safe_str)\n",
    "print(f\"Representation using {len(safe_str.split('.'))} fragments\")\n",
    "display(dm.to_image(safe_str))"
   ]
  },
  {
   "cell_type": "code",
   "execution_count": 8,
   "metadata": {},
   "outputs": [],
   "source": [
    "def my_slicer(mol):\n",
    "    \"\"\"Slice on non single bonds where at both atoms are in a distinct rings\"\"\"\n",
    "    for bond in mol.GetBonds():\n",
    "        if bond.GetBondType() == dm.SINGLE_BOND and not bond.IsInRing() and (bond.GetBeginAtom().IsInRing() and bond.GetEndAtom().IsInRing()):\n",
    "            yield (bond.GetBeginAtomIdx(), bond.GetEndAtomIdx())"
   ]
  },
  {
   "cell_type": "code",
   "execution_count": 9,
   "metadata": {},
   "outputs": [
    {
     "name": "stdout",
     "output_type": "stream",
     "text": [
      "c14cc(C(F)(F)F)nn13.c13ccc(S(N)(=O)=O)cc1.Cc1ccc4cc1\n",
      "Representation using 3 fragments\n"
     ]
    }
   ],
   "source": [
    "safe_str = sf.encode(celecoxib_mol, canonical=True, slicer=my_slicer)\n",
    "print(safe_str)\n",
    "print(f\"Representation using {len(safe_str.split('.'))} fragments\")"
   ]
  },
  {
   "cell_type": "code",
   "execution_count": 10,
   "metadata": {},
   "outputs": [
    {
     "name": "stdout",
     "output_type": "stream",
     "text": [
      "c13cc(C(F)(F)F)nn14.c14ccc(S(N)(=O)=O)cc1.Cc1ccc3cc1\n",
      "Representation using 3 fragments\n"
     ]
    }
   ],
   "source": [
    "# The above is equivalent to using the following SMARTS:\n",
    "smart_slicer = [\"[r]-;!@[r]\"]\n",
    "safe_str = sf.encode(celecoxib_mol, canonical=True, slicer=smart_slicer)\n",
    "print(safe_str)\n",
    "print(f\"Representation using {len(safe_str.split('.'))} fragments\")"
   ]
  },
  {
   "attachments": {},
   "cell_type": "markdown",
   "metadata": {},
   "source": [
    "#### Decoding\n",
    "\n",
    "!!! info \"Fragment order in SAFE does not matter\"\n",
    "\n",
    "    Each `SAFE fragment` is a valid molecule itself, however, you need to use the decoder to recover molecules where all attachment point are not fullfiled."
   ]
  },
  {
   "cell_type": "code",
   "execution_count": 11,
   "metadata": {},
   "outputs": [
    {
     "data": {
      "text/plain": [
       "['c13cc(C(F)(F)F)nn14', 'c14ccc(S(N)(=O)=O)cc1', 'Cc1ccc3cc1']"
      ]
     },
     "execution_count": 11,
     "metadata": {},
     "output_type": "execute_result"
    }
   ],
   "source": [
    "safe_fragment = safe_str.split(\".\")\n",
    "safe_fragment"
   ]
  },
  {
   "cell_type": "code",
   "execution_count": 12,
   "metadata": {},
   "outputs": [
    {
     "name": "stderr",
     "output_type": "stream",
     "text": [
      "[14:10:13] SMILES Parse Error: unclosed ring for input: 'c13cc(C(F)(F)F)nn14'\n"
     ]
    }
   ],
   "source": [
    "# the following will fail\n",
    "dm.to_mol(safe_fragment[0])"
   ]
  },
  {
   "cell_type": "code",
   "execution_count": 13,
   "metadata": {},
   "outputs": [
    {
     "data": {
      "image/png": "[encoded data removed]",
      "text/plain": [
       "<rdkit.Chem.rdchem.Mol at 0x7feb1eb5ef10>"
      ]
     },
     "execution_count": 13,
     "metadata": {},
     "output_type": "execute_result"
    }
   ],
   "source": [
    "# while this works\n",
    "sf.decode(safe_fragment[0], as_mol=True)"
   ]
  },
  {
   "cell_type": "code",
   "execution_count": 14,
   "metadata": {},
   "outputs": [
    {
     "data": {
      "image/png": "[encoded data removed]",
      "text/plain": [
       "<rdkit.Chem.rdchem.Mol at 0x7feb1eb5edc0>"
      ]
     },
     "execution_count": 14,
     "metadata": {},
     "output_type": "execute_result"
    }
   ],
   "source": [
    "# if you want to keep the attachment points, then use remove_dummies=False\n",
    "sf.decode(safe_fragment[0], as_mol=True, remove_dummies=False)"
   ]
  },
  {
   "attachments": {},
   "cell_type": "markdown",
   "metadata": {},
   "source": [
    "### Displaying a SAFE encoding\n",
    "\n",
    "We provide a visualization module to display a safe string, with highlight of all the fragments that compose it.\n"
   ]
  },
  {
   "cell_type": "code",
   "execution_count": 15,
   "metadata": {},
   "outputs": [
    {
     "data": {
      "image/svg+xml": [
       "<svg xmlns=\"http://www.w3.org/2000/svg\" xmlns:rdkit=\"http://www.rdkit.org/xml\" xmlns:xlink=\"http://www.w3.org/1999/xlink\" version=\"1.1\" baseProfile=\"full\" xml:space=\"preserve\" width=\"300px\" height=\"300px\" viewBox=\"0 0 300 300\">\n",
       "<!-- END OF HEADER -->\n",
       "<rect style=\"opacity:1.0;fill:#FFFFFF;stroke:none\" width=\"300.0\" height=\"300.0\" x=\"0.0\" y=\"0.0\"> </rect>\n",
       "<path class=\"bond-0 atom-0 atom-1\" d=\"M 102.5,135.6 L 72.6,129.4\" style=\"fill:none;fill-rule:evenodd;stroke:#000000;stroke-width:2.0px;stroke-linecap:butt;stroke-linejoin:miter;stroke-opacity:1\"/>\n",
       "<path class=\"bond-0 atom-0 atom-1\" d=\"M 100.1,130.5 L 76.8,125.6\" style=\"fill:none;fill-rule:evenodd;stroke:#000000;stroke-width:2.0px;stroke-linecap:butt;stroke-linejoin:miter;stroke-opacity:1\"/>\n",
       "<path class=\"bond-1 atom-1 atom-2\" d=\"M 72.6,129.4 L 69.2,99.1\" style=\"fill:none;fill-rule:evenodd;stroke:#000000;stroke-width:2.0px;stroke-linecap:butt;stroke-linejoin:miter;stroke-opacity:1\"/>\n",
       "<path class=\"bond-2 atom-2 atom-3\" d=\"M 69.2,99.1 L 42.7,84.0\" style=\"fill:none;fill-rule:evenodd;stroke:#000000;stroke-width:2.0px;stroke-linecap:butt;stroke-linejoin:miter;stroke-opacity:1\"/>\n",
       "<path class=\"bond-3 atom-3 atom-4\" d=\"M 42.7,84.0 L 31.2,77.5\" style=\"fill:none;fill-rule:evenodd;stroke:#000000;stroke-width:2.0px;stroke-linecap:butt;stroke-linejoin:miter;stroke-opacity:1\"/>\n",
       "<path class=\"bond-3 atom-3 atom-4\" d=\"M 31.2,77.5 L 19.8,71.0\" style=\"fill:none;fill-rule:evenodd;stroke:#33CCCC;stroke-width:2.0px;stroke-linecap:butt;stroke-linejoin:miter;stroke-opacity:1\"/>\n",
       "<path class=\"bond-4 atom-3 atom-5\" d=\"M 42.7,84.0 L 48.7,73.4\" style=\"fill:none;fill-rule:evenodd;stroke:#000000;stroke-width:2.0px;stroke-linecap:butt;stroke-linejoin:miter;stroke-opacity:1\"/>\n",
       "<path class=\"bond-4 atom-3 atom-5\" d=\"M 48.7,73.4 L 54.8,62.8\" style=\"fill:none;fill-rule:evenodd;stroke:#33CCCC;stroke-width:2.0px;stroke-linecap:butt;stroke-linejoin:miter;stroke-opacity:1\"/>\n",
       "<path class=\"bond-5 atom-3 atom-6\" d=\"M 42.7,84.0 L 36.7,94.6\" style=\"fill:none;fill-rule:evenodd;stroke:#000000;stroke-width:2.0px;stroke-linecap:butt;stroke-linejoin:miter;stroke-opacity:1\"/>\n",
       "<path class=\"bond-5 atom-3 atom-6\" d=\"M 36.7,94.6 L 30.6,105.2\" style=\"fill:none;fill-rule:evenodd;stroke:#33CCCC;stroke-width:2.0px;stroke-linecap:butt;stroke-linejoin:miter;stroke-opacity:1\"/>\n",
       "<path class=\"bond-6 atom-2 atom-7\" d=\"M 69.2,99.1 L 81.0,93.8\" style=\"fill:none;fill-rule:evenodd;stroke:#000000;stroke-width:2.0px;stroke-linecap:butt;stroke-linejoin:miter;stroke-opacity:1\"/>\n",
       "<path class=\"bond-6 atom-2 atom-7\" d=\"M 81.0,93.8 L 92.7,88.5\" style=\"fill:none;fill-rule:evenodd;stroke:#0000FF;stroke-width:2.0px;stroke-linecap:butt;stroke-linejoin:miter;stroke-opacity:1\"/>\n",
       "<path class=\"bond-6 atom-2 atom-7\" d=\"M 74.1,101.9 L 84.4,97.3\" style=\"fill:none;fill-rule:evenodd;stroke:#000000;stroke-width:2.0px;stroke-linecap:butt;stroke-linejoin:miter;stroke-opacity:1\"/>\n",
       "<path class=\"bond-6 atom-2 atom-7\" d=\"M 84.4,97.3 L 94.6,92.7\" style=\"fill:none;fill-rule:evenodd;stroke:#0000FF;stroke-width:2.0px;stroke-linecap:butt;stroke-linejoin:miter;stroke-opacity:1\"/>\n",
       "<path class=\"bond-7 atom-7 atom-8\" d=\"M 101.3,91.3 L 113.3,104.4\" style=\"fill:none;fill-rule:evenodd;stroke:#0000FF;stroke-width:2.0px;stroke-linecap:butt;stroke-linejoin:miter;stroke-opacity:1\"/>\n",
       "<path class=\"bond-8 atom-9 atom-10\" d=\"M 147.9,105.7 L 166.0,130.3\" style=\"fill:none;fill-rule:evenodd;stroke:#000000;stroke-width:2.0px;stroke-linecap:butt;stroke-linejoin:miter;stroke-opacity:1\"/>\n",
       "<path class=\"bond-8 atom-9 atom-10\" d=\"M 153.1,105.2 L 168.1,125.5\" style=\"fill:none;fill-rule:evenodd;stroke:#000000;stroke-width:2.0px;stroke-linecap:butt;stroke-linejoin:miter;stroke-opacity:1\"/>\n",
       "<path class=\"bond-9 atom-10 atom-11\" d=\"M 166.0,130.3 L 196.3,126.9\" style=\"fill:none;fill-rule:evenodd;stroke:#000000;stroke-width:2.0px;stroke-linecap:butt;stroke-linejoin:miter;stroke-opacity:1\"/>\n",
       "<path class=\"bond-10 atom-11 atom-12\" d=\"M 196.3,126.9 L 208.5,99.0\" style=\"fill:none;fill-rule:evenodd;stroke:#000000;stroke-width:2.0px;stroke-linecap:butt;stroke-linejoin:miter;stroke-opacity:1\"/>\n",
       "<path class=\"bond-10 atom-11 atom-12\" d=\"M 193.1,122.7 L 203.3,99.6\" style=\"fill:none;fill-rule:evenodd;stroke:#000000;stroke-width:2.0px;stroke-linecap:butt;stroke-linejoin:miter;stroke-opacity:1\"/>\n",
       "<path class=\"bond-11 atom-12 atom-13\" d=\"M 208.5,99.0 L 221.8,97.5\" style=\"fill:none;fill-rule:evenodd;stroke:#000000;stroke-width:2.0px;stroke-linecap:butt;stroke-linejoin:miter;stroke-opacity:1\"/>\n",
       "<path class=\"bond-11 atom-12 atom-13\" d=\"M 221.8,97.5 L 235.1,96.1\" style=\"fill:none;fill-rule:evenodd;stroke:#CCCC00;stroke-width:2.0px;stroke-linecap:butt;stroke-linejoin:miter;stroke-opacity:1\"/>\n",
       "<path class=\"bond-12 atom-13 atom-14\" d=\"M 242.6,95.2 L 253.7,94.0\" style=\"fill:none;fill-rule:evenodd;stroke:#CCCC00;stroke-width:2.0px;stroke-linecap:butt;stroke-linejoin:miter;stroke-opacity:1\"/>\n",
       "<path class=\"bond-12 atom-13 atom-14\" d=\"M 253.7,94.0 L 264.9,92.8\" style=\"fill:none;fill-rule:evenodd;stroke:#0000FF;stroke-width:2.0px;stroke-linecap:butt;stroke-linejoin:miter;stroke-opacity:1\"/>\n",
       "<path class=\"bond-13 atom-13 atom-15\" d=\"M 237.2,101.4 L 238.3,111.1\" style=\"fill:none;fill-rule:evenodd;stroke:#CCCC00;stroke-width:2.0px;stroke-linecap:butt;stroke-linejoin:miter;stroke-opacity:1\"/>\n",
       "<path class=\"bond-13 atom-13 atom-15\" d=\"M 238.3,111.1 L 239.3,120.8\" style=\"fill:none;fill-rule:evenodd;stroke:#FF0000;stroke-width:2.0px;stroke-linecap:butt;stroke-linejoin:miter;stroke-opacity:1\"/>\n",
       "<path class=\"bond-13 atom-13 atom-15\" d=\"M 241.7,100.9 L 242.8,110.6\" style=\"fill:none;fill-rule:evenodd;stroke:#CCCC00;stroke-width:2.0px;stroke-linecap:butt;stroke-linejoin:miter;stroke-opacity:1\"/>\n",
       "<path class=\"bond-13 atom-13 atom-15\" d=\"M 242.8,110.6 L 243.9,120.3\" style=\"fill:none;fill-rule:evenodd;stroke:#FF0000;stroke-width:2.0px;stroke-linecap:butt;stroke-linejoin:miter;stroke-opacity:1\"/>\n",
       "<path class=\"bond-14 atom-13 atom-16\" d=\"M 240.5,90.1 L 239.4,80.3\" style=\"fill:none;fill-rule:evenodd;stroke:#CCCC00;stroke-width:2.0px;stroke-linecap:butt;stroke-linejoin:miter;stroke-opacity:1\"/>\n",
       "<path class=\"bond-14 atom-13 atom-16\" d=\"M 239.4,80.3 L 238.4,70.6\" style=\"fill:none;fill-rule:evenodd;stroke:#FF0000;stroke-width:2.0px;stroke-linecap:butt;stroke-linejoin:miter;stroke-opacity:1\"/>\n",
       "<path class=\"bond-14 atom-13 atom-16\" d=\"M 236.0,90.6 L 234.9,80.8\" style=\"fill:none;fill-rule:evenodd;stroke:#CCCC00;stroke-width:2.0px;stroke-linecap:butt;stroke-linejoin:miter;stroke-opacity:1\"/>\n",
       "<path class=\"bond-14 atom-13 atom-16\" d=\"M 234.9,80.8 L 233.8,71.1\" style=\"fill:none;fill-rule:evenodd;stroke:#FF0000;stroke-width:2.0px;stroke-linecap:butt;stroke-linejoin:miter;stroke-opacity:1\"/>\n",
       "<path class=\"bond-15 atom-12 atom-17\" d=\"M 208.5,99.0 L 190.4,74.4\" style=\"fill:none;fill-rule:evenodd;stroke:#000000;stroke-width:2.0px;stroke-linecap:butt;stroke-linejoin:miter;stroke-opacity:1\"/>\n",
       "<path class=\"bond-16 atom-17 atom-18\" d=\"M 190.4,74.4 L 160.1,77.8\" style=\"fill:none;fill-rule:evenodd;stroke:#000000;stroke-width:2.0px;stroke-linecap:butt;stroke-linejoin:miter;stroke-opacity:1\"/>\n",
       "<path class=\"bond-16 atom-17 atom-18\" d=\"M 188.3,79.3 L 163.3,82.1\" style=\"fill:none;fill-rule:evenodd;stroke:#000000;stroke-width:2.0px;stroke-linecap:butt;stroke-linejoin:miter;stroke-opacity:1\"/>\n",
       "<path class=\"bond-17 atom-19 atom-20\" d=\"M 152.7,246.8 L 140.2,219.0\" style=\"fill:none;fill-rule:evenodd;stroke:#000000;stroke-width:2.0px;stroke-linecap:butt;stroke-linejoin:miter;stroke-opacity:1\"/>\n",
       "<path class=\"bond-18 atom-20 atom-21\" d=\"M 140.2,219.0 L 109.8,216.0\" style=\"fill:none;fill-rule:evenodd;stroke:#000000;stroke-width:2.0px;stroke-linecap:butt;stroke-linejoin:miter;stroke-opacity:1\"/>\n",
       "<path class=\"bond-18 atom-20 atom-21\" d=\"M 138.0,214.2 L 112.9,211.7\" style=\"fill:none;fill-rule:evenodd;stroke:#000000;stroke-width:2.0px;stroke-linecap:butt;stroke-linejoin:miter;stroke-opacity:1\"/>\n",
       "<path class=\"bond-19 atom-21 atom-22\" d=\"M 109.8,216.0 L 97.2,188.2\" style=\"fill:none;fill-rule:evenodd;stroke:#000000;stroke-width:2.0px;stroke-linecap:butt;stroke-linejoin:miter;stroke-opacity:1\"/>\n",
       "<path class=\"bond-20 atom-22 atom-23\" d=\"M 97.2,188.2 L 115.0,163.4\" style=\"fill:none;fill-rule:evenodd;stroke:#000000;stroke-width:2.0px;stroke-linecap:butt;stroke-linejoin:miter;stroke-opacity:1\"/>\n",
       "<path class=\"bond-20 atom-22 atom-23\" d=\"M 102.5,188.7 L 117.2,168.2\" style=\"fill:none;fill-rule:evenodd;stroke:#000000;stroke-width:2.0px;stroke-linecap:butt;stroke-linejoin:miter;stroke-opacity:1\"/>\n",
       "<path class=\"bond-21 atom-23 atom-24\" d=\"M 115.0,163.4 L 145.4,166.4\" style=\"fill:none;fill-rule:evenodd;stroke:#000000;stroke-width:2.0px;stroke-linecap:butt;stroke-linejoin:miter;stroke-opacity:1\"/>\n",
       "<path class=\"bond-22 atom-24 atom-25\" d=\"M 145.4,166.4 L 158.0,194.2\" style=\"fill:none;fill-rule:evenodd;stroke:#000000;stroke-width:2.0px;stroke-linecap:butt;stroke-linejoin:miter;stroke-opacity:1\"/>\n",
       "<path class=\"bond-22 atom-24 atom-25\" d=\"M 142.3,170.7 L 152.7,193.7\" style=\"fill:none;fill-rule:evenodd;stroke:#000000;stroke-width:2.0px;stroke-linecap:butt;stroke-linejoin:miter;stroke-opacity:1\"/>\n",
       "<path class=\"bond-23 atom-8 atom-0\" d=\"M 114.5,114.4 L 108.5,125.0\" style=\"fill:none;fill-rule:evenodd;stroke:#0000FF;stroke-width:2.0px;stroke-linecap:butt;stroke-linejoin:miter;stroke-opacity:1\"/>\n",
       "<path class=\"bond-23 atom-8 atom-0\" d=\"M 108.5,125.0 L 102.5,135.6\" style=\"fill:none;fill-rule:evenodd;stroke:#000000;stroke-width:2.0px;stroke-linecap:butt;stroke-linejoin:miter;stroke-opacity:1\"/>\n",
       "<path class=\"bond-24 atom-18 atom-9\" d=\"M 160.1,77.8 L 147.9,105.7\" style=\"fill:none;fill-rule:evenodd;stroke:#000000;stroke-width:2.0px;stroke-linecap:butt;stroke-linejoin:miter;stroke-opacity:1\"/>\n",
       "<path class=\"bond-25 atom-25 atom-20\" d=\"M 158.0,194.2 L 140.2,219.0\" style=\"fill:none;fill-rule:evenodd;stroke:#000000;stroke-width:2.0px;stroke-linecap:butt;stroke-linejoin:miter;stroke-opacity:1\"/>\n",
       "<path class=\"bond-26 atom-23 atom-0\" d=\"M 115.0,163.4 L 102.5,135.6\" style=\"fill:none;fill-rule:evenodd;stroke:#000000;stroke-width:2.0px;stroke-linecap:butt;stroke-linejoin:miter;stroke-opacity:1\"/>\n",
       "<path class=\"bond-27 atom-9 atom-8\" d=\"M 147.9,105.7 L 134.9,107.2\" style=\"fill:none;fill-rule:evenodd;stroke:#000000;stroke-width:2.0px;stroke-linecap:butt;stroke-linejoin:miter;stroke-opacity:1\"/>\n",
       "<path class=\"bond-27 atom-9 atom-8\" d=\"M 134.9,107.2 L 121.8,108.6\" style=\"fill:none;fill-rule:evenodd;stroke:#0000FF;stroke-width:2.0px;stroke-linecap:butt;stroke-linejoin:miter;stroke-opacity:1\"/>\n",
       "<path d=\"M 74.1,129.8 L 72.6,129.4 L 72.4,127.9\" style=\"fill:none;stroke:#000000;stroke-width:2.0px;stroke-linecap:butt;stroke-linejoin:miter;stroke-opacity:1;\"/>\n",
       "<path d=\"M 165.1,129.1 L 166.0,130.3 L 167.5,130.1\" style=\"fill:none;stroke:#000000;stroke-width:2.0px;stroke-linecap:butt;stroke-linejoin:miter;stroke-opacity:1;\"/>\n",
       "<path d=\"M 194.8,127.1 L 196.3,126.9 L 196.9,125.6\" style=\"fill:none;stroke:#000000;stroke-width:2.0px;stroke-linecap:butt;stroke-linejoin:miter;stroke-opacity:1;\"/>\n",
       "<path d=\"M 191.3,75.7 L 190.4,74.4 L 188.9,74.6\" style=\"fill:none;stroke:#000000;stroke-width:2.0px;stroke-linecap:butt;stroke-linejoin:miter;stroke-opacity:1;\"/>\n",
       "<path d=\"M 161.6,77.6 L 160.1,77.8 L 159.5,79.2\" style=\"fill:none;stroke:#000000;stroke-width:2.0px;stroke-linecap:butt;stroke-linejoin:miter;stroke-opacity:1;\"/>\n",
       "<path d=\"M 111.3,216.1 L 109.8,216.0 L 109.2,214.6\" style=\"fill:none;stroke:#000000;stroke-width:2.0px;stroke-linecap:butt;stroke-linejoin:miter;stroke-opacity:1;\"/>\n",
       "<path d=\"M 97.9,189.6 L 97.2,188.2 L 98.1,187.0\" style=\"fill:none;stroke:#000000;stroke-width:2.0px;stroke-linecap:butt;stroke-linejoin:miter;stroke-opacity:1;\"/>\n",
       "<path d=\"M 143.9,166.3 L 145.4,166.4 L 146.0,167.8\" style=\"fill:none;stroke:#000000;stroke-width:2.0px;stroke-linecap:butt;stroke-linejoin:miter;stroke-opacity:1;\"/>\n",
       "<path d=\"M 157.3,192.8 L 158.0,194.2 L 157.1,195.5\" style=\"fill:none;stroke:#000000;stroke-width:2.0px;stroke-linecap:butt;stroke-linejoin:miter;stroke-opacity:1;\"/>\n",
       "<path class=\"atom-4\" d=\"M 13.6 64.6 L 18.8 64.6 L 18.8 65.6 L 14.8 65.6 L 14.8 68.2 L 18.3 68.2 L 18.3 69.2 L 14.8 69.2 L 14.8 73.3 L 13.6 73.3 L 13.6 64.6 \" fill=\"#33CCCC\"/>\n",
       "<path class=\"atom-5\" d=\"M 55.2 53.2 L 60.4 53.2 L 60.4 54.2 L 56.4 54.2 L 56.4 56.8 L 59.9 56.8 L 59.9 57.8 L 56.4 57.8 L 56.4 61.8 L 55.2 61.8 L 55.2 53.2 \" fill=\"#33CCCC\"/>\n",
       "<path class=\"atom-6\" d=\"M 25.0 106.2 L 30.2 106.2 L 30.2 107.2 L 26.2 107.2 L 26.2 109.8 L 29.7 109.8 L 29.7 110.8 L 26.2 110.8 L 26.2 114.9 L 25.0 114.9 L 25.0 106.2 \" fill=\"#33CCCC\"/>\n",
       "<path class=\"atom-7\" d=\"M 95.1 82.2 L 97.9 86.8 Q 98.2 87.3, 98.7 88.1 Q 99.1 88.9, 99.1 88.9 L 99.1 82.2 L 100.3 82.2 L 100.3 90.9 L 99.1 90.9 L 96.1 85.9 Q 95.7 85.3, 95.3 84.6 Q 95.0 83.9, 94.9 83.7 L 94.9 90.9 L 93.7 90.9 L 93.7 82.2 L 95.1 82.2 \" fill=\"#0000FF\"/>\n",
       "<path class=\"atom-8\" d=\"M 115.7 104.8 L 118.5 109.4 Q 118.8 109.8, 119.2 110.6 Q 119.7 111.5, 119.7 111.5 L 119.7 104.8 L 120.8 104.8 L 120.8 113.4 L 119.7 113.4 L 116.6 108.4 Q 116.3 107.8, 115.9 107.2 Q 115.5 106.5, 115.4 106.3 L 115.4 113.4 L 114.3 113.4 L 114.3 104.8 L 115.7 104.8 \" fill=\"#0000FF\"/>\n",
       "<path class=\"atom-13\" d=\"M 236.4 98.6 Q 236.5 98.6, 236.9 98.8 Q 237.3 99.0, 237.7 99.1 Q 238.2 99.2, 238.6 99.2 Q 239.5 99.2, 239.9 98.8 Q 240.4 98.4, 240.4 97.7 Q 240.4 97.2, 240.2 96.9 Q 239.9 96.6, 239.6 96.5 Q 239.2 96.3, 238.6 96.1 Q 237.8 95.9, 237.4 95.7 Q 236.9 95.5, 236.6 95.0 Q 236.3 94.5, 236.3 93.8 Q 236.3 92.7, 237.0 92.0 Q 237.7 91.3, 239.2 91.3 Q 240.2 91.3, 241.3 91.8 L 241.0 92.7 Q 240.0 92.3, 239.2 92.3 Q 238.4 92.3, 237.9 92.7 Q 237.5 93.0, 237.5 93.6 Q 237.5 94.1, 237.7 94.4 Q 237.9 94.6, 238.3 94.8 Q 238.6 95.0, 239.2 95.1 Q 240.0 95.4, 240.5 95.6 Q 240.9 95.9, 241.3 96.4 Q 241.6 96.9, 241.6 97.7 Q 241.6 98.9, 240.8 99.5 Q 240.0 100.2, 238.7 100.2 Q 237.9 100.2, 237.3 100.0 Q 236.8 99.9, 236.1 99.6 L 236.4 98.6 \" fill=\"#CCCC00\"/>\n",
       "<path class=\"atom-14\" d=\"M 267.3 88.0 L 270.1 92.5 Q 270.4 93.0, 270.8 93.8 Q 271.3 94.6, 271.3 94.7 L 271.3 88.0 L 272.4 88.0 L 272.4 96.6 L 271.3 96.6 L 268.2 91.6 Q 267.9 91.0, 267.5 90.3 Q 267.1 89.7, 267.0 89.5 L 267.0 96.6 L 265.9 96.6 L 265.9 88.0 L 267.3 88.0 \" fill=\"#0000FF\"/>\n",
       "<path class=\"atom-14\" d=\"M 274.1 88.0 L 275.3 88.0 L 275.3 91.6 L 279.7 91.6 L 279.7 88.0 L 280.8 88.0 L 280.8 96.6 L 279.7 96.6 L 279.7 92.6 L 275.3 92.6 L 275.3 96.6 L 274.1 96.6 L 274.1 88.0 \" fill=\"#0000FF\"/>\n",
       "<path class=\"atom-14\" d=\"M 282.5 96.3 Q 282.7 95.8, 283.2 95.5 Q 283.7 95.1, 284.4 95.1 Q 285.3 95.1, 285.8 95.6 Q 286.3 96.1, 286.3 96.9 Q 286.3 97.8, 285.6 98.5 Q 285.0 99.3, 283.7 100.3 L 286.4 100.3 L 286.4 100.9 L 282.5 100.9 L 282.5 100.4 Q 283.6 99.6, 284.2 99.1 Q 284.8 98.5, 285.2 98.0 Q 285.5 97.5, 285.5 97.0 Q 285.5 96.4, 285.2 96.1 Q 284.9 95.8, 284.4 95.8 Q 284.0 95.8, 283.7 96.0 Q 283.4 96.2, 283.2 96.6 L 282.5 96.3 \" fill=\"#0000FF\"/>\n",
       "<path class=\"atom-15\" d=\"M 238.2 126.0 Q 238.2 123.9, 239.3 122.8 Q 240.3 121.6, 242.2 121.6 Q 244.1 121.6, 245.1 122.8 Q 246.2 123.9, 246.2 126.0 Q 246.2 128.1, 245.1 129.3 Q 244.1 130.5, 242.2 130.5 Q 240.3 130.5, 239.3 129.3 Q 238.2 128.1, 238.2 126.0 M 242.2 129.5 Q 243.5 129.5, 244.2 128.6 Q 245.0 127.7, 245.0 126.0 Q 245.0 124.3, 244.2 123.4 Q 243.5 122.6, 242.2 122.6 Q 240.9 122.6, 240.2 123.4 Q 239.5 124.3, 239.5 126.0 Q 239.5 127.7, 240.2 128.6 Q 240.9 129.5, 242.2 129.5 \" fill=\"#FF0000\"/>\n",
       "<path class=\"atom-16\" d=\"M 231.5 65.3 Q 231.5 63.3, 232.5 62.1 Q 233.6 61.0, 235.5 61.0 Q 237.4 61.0, 238.4 62.1 Q 239.4 63.3, 239.4 65.3 Q 239.4 67.4, 238.4 68.6 Q 237.4 69.8, 235.5 69.8 Q 233.6 69.8, 232.5 68.6 Q 231.5 67.5, 231.5 65.3 M 235.5 68.8 Q 236.8 68.8, 237.5 68.0 Q 238.2 67.1, 238.2 65.3 Q 238.2 63.7, 237.5 62.8 Q 236.8 61.9, 235.5 61.9 Q 234.2 61.9, 233.4 62.8 Q 232.7 63.6, 232.7 65.3 Q 232.7 67.1, 233.4 68.0 Q 234.2 68.8, 235.5 68.8 \" fill=\"#FF0000\"/>\n",
       "<rect style=\"opacity:1.0;fill:#FFFFFF;stroke:none\" width=\"300.0\" height=\"300.0\" x=\"0.0\" y=\"0.0\"> </rect>\n",
       "<path class=\"bond-0 atom-0 atom-1\" d=\"M 112.6,134.6 L 84.9,128.9\" style=\"fill:none;fill-rule:evenodd;stroke:#000000;stroke-width:2.0px;stroke-linecap:butt;stroke-linejoin:miter;stroke-opacity:1\"/>\n",
       "<path class=\"bond-0 atom-0 atom-1\" d=\"M 110.5,129.8 L 88.8,125.4\" style=\"fill:none;fill-rule:evenodd;stroke:#000000;stroke-width:2.0px;stroke-linecap:butt;stroke-linejoin:miter;stroke-opacity:1\"/>\n",
       "<path class=\"bond-1 atom-1 atom-2\" d=\"M 84.9,128.9 L 81.8,100.7\" style=\"fill:none;fill-rule:evenodd;stroke:#000000;stroke-width:2.0px;stroke-linecap:butt;stroke-linejoin:miter;stroke-opacity:1\"/>\n",
       "<path class=\"bond-2 atom-2 atom-3\" d=\"M 81.8,100.7 L 57.1,86.7\" style=\"fill:none;fill-rule:evenodd;stroke:#000000;stroke-width:2.0px;stroke-linecap:butt;stroke-linejoin:miter;stroke-opacity:1\"/>\n",
       "<path class=\"bond-3 atom-3 atom-4\" d=\"M 57.1,86.7 L 46.5,80.7\" style=\"fill:none;fill-rule:evenodd;stroke:#000000;stroke-width:2.0px;stroke-linecap:butt;stroke-linejoin:miter;stroke-opacity:1\"/>\n",
       "<path class=\"bond-3 atom-3 atom-4\" d=\"M 46.5,80.7 L 35.8,74.6\" style=\"fill:none;fill-rule:evenodd;stroke:#33CCCC;stroke-width:2.0px;stroke-linecap:butt;stroke-linejoin:miter;stroke-opacity:1\"/>\n",
       "<path class=\"bond-4 atom-3 atom-5\" d=\"M 57.1,86.7 L 62.7,76.9\" style=\"fill:none;fill-rule:evenodd;stroke:#000000;stroke-width:2.0px;stroke-linecap:butt;stroke-linejoin:miter;stroke-opacity:1\"/>\n",
       "<path class=\"bond-4 atom-3 atom-5\" d=\"M 62.7,76.9 L 68.4,67.0\" style=\"fill:none;fill-rule:evenodd;stroke:#33CCCC;stroke-width:2.0px;stroke-linecap:butt;stroke-linejoin:miter;stroke-opacity:1\"/>\n",
       "<path class=\"bond-5 atom-3 atom-6\" d=\"M 57.1,86.7 L 51.5,96.6\" style=\"fill:none;fill-rule:evenodd;stroke:#000000;stroke-width:2.0px;stroke-linecap:butt;stroke-linejoin:miter;stroke-opacity:1\"/>\n",
       "<path class=\"bond-5 atom-3 atom-6\" d=\"M 51.5,96.6 L 45.9,106.4\" style=\"fill:none;fill-rule:evenodd;stroke:#33CCCC;stroke-width:2.0px;stroke-linecap:butt;stroke-linejoin:miter;stroke-opacity:1\"/>\n",
       "<path class=\"bond-6 atom-2 atom-7\" d=\"M 81.8,100.7 L 92.7,95.8\" style=\"fill:none;fill-rule:evenodd;stroke:#000000;stroke-width:2.0px;stroke-linecap:butt;stroke-linejoin:miter;stroke-opacity:1\"/>\n",
       "<path class=\"bond-6 atom-2 atom-7\" d=\"M 92.7,95.8 L 103.6,90.9\" style=\"fill:none;fill-rule:evenodd;stroke:#0000FF;stroke-width:2.0px;stroke-linecap:butt;stroke-linejoin:miter;stroke-opacity:1\"/>\n",
       "<path class=\"bond-6 atom-2 atom-7\" d=\"M 86.3,103.3 L 95.8,99.0\" style=\"fill:none;fill-rule:evenodd;stroke:#000000;stroke-width:2.0px;stroke-linecap:butt;stroke-linejoin:miter;stroke-opacity:1\"/>\n",
       "<path class=\"bond-6 atom-2 atom-7\" d=\"M 95.8,99.0 L 105.4,94.7\" style=\"fill:none;fill-rule:evenodd;stroke:#0000FF;stroke-width:2.0px;stroke-linecap:butt;stroke-linejoin:miter;stroke-opacity:1\"/>\n",
       "<path class=\"bond-7 atom-7 atom-8\" d=\"M 111.6,93.4 L 122.7,105.6\" style=\"fill:none;fill-rule:evenodd;stroke:#0000FF;stroke-width:2.0px;stroke-linecap:butt;stroke-linejoin:miter;stroke-opacity:1\"/>\n",
       "<path class=\"bond-8 atom-9 atom-10\" d=\"M 154.8,106.9 L 171.6,129.7\" style=\"fill:none;fill-rule:evenodd;stroke:#000000;stroke-width:2.0px;stroke-linecap:butt;stroke-linejoin:miter;stroke-opacity:1\"/>\n",
       "<path class=\"bond-8 atom-9 atom-10\" d=\"M 159.7,106.3 L 173.6,125.2\" style=\"fill:none;fill-rule:evenodd;stroke:#000000;stroke-width:2.0px;stroke-linecap:butt;stroke-linejoin:miter;stroke-opacity:1\"/>\n",
       "<path class=\"bond-9 atom-10 atom-11\" d=\"M 171.6,129.7 L 199.8,126.6\" style=\"fill:none;fill-rule:evenodd;stroke:#000000;stroke-width:2.0px;stroke-linecap:butt;stroke-linejoin:miter;stroke-opacity:1\"/>\n",
       "<path class=\"bond-10 atom-11 atom-12\" d=\"M 199.8,126.6 L 211.2,100.6\" style=\"fill:none;fill-rule:evenodd;stroke:#000000;stroke-width:2.0px;stroke-linecap:butt;stroke-linejoin:miter;stroke-opacity:1\"/>\n",
       "<path class=\"bond-10 atom-11 atom-12\" d=\"M 196.9,122.6 L 206.3,101.2\" style=\"fill:none;fill-rule:evenodd;stroke:#000000;stroke-width:2.0px;stroke-linecap:butt;stroke-linejoin:miter;stroke-opacity:1\"/>\n",
       "<path class=\"bond-11 atom-12 atom-13\" d=\"M 211.2,100.6 L 223.5,99.3\" style=\"fill:none;fill-rule:evenodd;stroke:#000000;stroke-width:2.0px;stroke-linecap:butt;stroke-linejoin:miter;stroke-opacity:1\"/>\n",
       "<path class=\"bond-11 atom-12 atom-13\" d=\"M 223.5,99.3 L 235.8,97.9\" style=\"fill:none;fill-rule:evenodd;stroke:#CCCC00;stroke-width:2.0px;stroke-linecap:butt;stroke-linejoin:miter;stroke-opacity:1\"/>\n",
       "<path class=\"bond-12 atom-13 atom-14\" d=\"M 242.8,97.1 L 253.2,96.0\" style=\"fill:none;fill-rule:evenodd;stroke:#CCCC00;stroke-width:2.0px;stroke-linecap:butt;stroke-linejoin:miter;stroke-opacity:1\"/>\n",
       "<path class=\"bond-12 atom-13 atom-14\" d=\"M 253.2,96.0 L 263.5,94.8\" style=\"fill:none;fill-rule:evenodd;stroke:#0000FF;stroke-width:2.0px;stroke-linecap:butt;stroke-linejoin:miter;stroke-opacity:1\"/>\n",
       "<path class=\"bond-13 atom-13 atom-15\" d=\"M 237.8,102.9 L 238.8,111.9\" style=\"fill:none;fill-rule:evenodd;stroke:#CCCC00;stroke-width:2.0px;stroke-linecap:butt;stroke-linejoin:miter;stroke-opacity:1\"/>\n",
       "<path class=\"bond-13 atom-13 atom-15\" d=\"M 238.8,111.9 L 239.8,120.9\" style=\"fill:none;fill-rule:evenodd;stroke:#FF0000;stroke-width:2.0px;stroke-linecap:butt;stroke-linejoin:miter;stroke-opacity:1\"/>\n",
       "<path class=\"bond-13 atom-13 atom-15\" d=\"M 242.0,102.4 L 243.0,111.4\" style=\"fill:none;fill-rule:evenodd;stroke:#CCCC00;stroke-width:2.0px;stroke-linecap:butt;stroke-linejoin:miter;stroke-opacity:1\"/>\n",
       "<path class=\"bond-13 atom-13 atom-15\" d=\"M 243.0,111.4 L 244.0,120.4\" style=\"fill:none;fill-rule:evenodd;stroke:#FF0000;stroke-width:2.0px;stroke-linecap:butt;stroke-linejoin:miter;stroke-opacity:1\"/>\n",
       "<path class=\"bond-14 atom-13 atom-16\" d=\"M 240.9,92.3 L 239.9,83.3\" style=\"fill:none;fill-rule:evenodd;stroke:#CCCC00;stroke-width:2.0px;stroke-linecap:butt;stroke-linejoin:miter;stroke-opacity:1\"/>\n",
       "<path class=\"bond-14 atom-13 atom-16\" d=\"M 239.9,83.3 L 238.9,74.2\" style=\"fill:none;fill-rule:evenodd;stroke:#FF0000;stroke-width:2.0px;stroke-linecap:butt;stroke-linejoin:miter;stroke-opacity:1\"/>\n",
       "<path class=\"bond-14 atom-13 atom-16\" d=\"M 236.7,92.8 L 235.6,83.7\" style=\"fill:none;fill-rule:evenodd;stroke:#CCCC00;stroke-width:2.0px;stroke-linecap:butt;stroke-linejoin:miter;stroke-opacity:1\"/>\n",
       "<path class=\"bond-14 atom-13 atom-16\" d=\"M 235.6,83.7 L 234.6,74.7\" style=\"fill:none;fill-rule:evenodd;stroke:#FF0000;stroke-width:2.0px;stroke-linecap:butt;stroke-linejoin:miter;stroke-opacity:1\"/>\n",
       "<path class=\"bond-15 atom-12 atom-17\" d=\"M 211.2,100.6 L 194.4,77.8\" style=\"fill:none;fill-rule:evenodd;stroke:#000000;stroke-width:2.0px;stroke-linecap:butt;stroke-linejoin:miter;stroke-opacity:1\"/>\n",
       "<path class=\"bond-16 atom-17 atom-18\" d=\"M 194.4,77.8 L 166.2,80.9\" style=\"fill:none;fill-rule:evenodd;stroke:#000000;stroke-width:2.0px;stroke-linecap:butt;stroke-linejoin:miter;stroke-opacity:1\"/>\n",
       "<path class=\"bond-16 atom-17 atom-18\" d=\"M 192.4,82.3 L 169.1,84.9\" style=\"fill:none;fill-rule:evenodd;stroke:#000000;stroke-width:2.0px;stroke-linecap:butt;stroke-linejoin:miter;stroke-opacity:1\"/>\n",
       "<path class=\"bond-17 atom-19 atom-20\" d=\"M 159.3,237.9 L 147.7,212.1\" style=\"fill:none;fill-rule:evenodd;stroke:#000000;stroke-width:2.0px;stroke-linecap:butt;stroke-linejoin:miter;stroke-opacity:1\"/>\n",
       "<path class=\"bond-18 atom-20 atom-21\" d=\"M 147.7,212.1 L 119.5,209.3\" style=\"fill:none;fill-rule:evenodd;stroke:#000000;stroke-width:2.0px;stroke-linecap:butt;stroke-linejoin:miter;stroke-opacity:1\"/>\n",
       "<path class=\"bond-18 atom-20 atom-21\" d=\"M 145.6,207.6 L 122.3,205.3\" style=\"fill:none;fill-rule:evenodd;stroke:#000000;stroke-width:2.0px;stroke-linecap:butt;stroke-linejoin:miter;stroke-opacity:1\"/>\n",
       "<path class=\"bond-19 atom-21 atom-22\" d=\"M 119.5,209.3 L 107.8,183.5\" style=\"fill:none;fill-rule:evenodd;stroke:#000000;stroke-width:2.0px;stroke-linecap:butt;stroke-linejoin:miter;stroke-opacity:1\"/>\n",
       "<path class=\"bond-20 atom-22 atom-23\" d=\"M 107.8,183.5 L 124.3,160.5\" style=\"fill:none;fill-rule:evenodd;stroke:#000000;stroke-width:2.0px;stroke-linecap:butt;stroke-linejoin:miter;stroke-opacity:1\"/>\n",
       "<path class=\"bond-20 atom-22 atom-23\" d=\"M 112.7,184.0 L 126.3,164.9\" style=\"fill:none;fill-rule:evenodd;stroke:#000000;stroke-width:2.0px;stroke-linecap:butt;stroke-linejoin:miter;stroke-opacity:1\"/>\n",
       "<path class=\"bond-21 atom-23 atom-24\" d=\"M 124.3,160.5 L 152.5,163.2\" style=\"fill:none;fill-rule:evenodd;stroke:#000000;stroke-width:2.0px;stroke-linecap:butt;stroke-linejoin:miter;stroke-opacity:1\"/>\n",
       "<path class=\"bond-22 atom-24 atom-25\" d=\"M 152.5,163.2 L 164.2,189.1\" style=\"fill:none;fill-rule:evenodd;stroke:#000000;stroke-width:2.0px;stroke-linecap:butt;stroke-linejoin:miter;stroke-opacity:1\"/>\n",
       "<path class=\"bond-22 atom-24 atom-25\" d=\"M 149.7,167.2 L 159.3,188.6\" style=\"fill:none;fill-rule:evenodd;stroke:#000000;stroke-width:2.0px;stroke-linecap:butt;stroke-linejoin:miter;stroke-opacity:1\"/>\n",
       "<path class=\"bond-23 atom-8 atom-0\" d=\"M 123.8,115.0 L 118.2,124.8\" style=\"fill:none;fill-rule:evenodd;stroke:#0000FF;stroke-width:2.0px;stroke-linecap:butt;stroke-linejoin:miter;stroke-opacity:1\"/>\n",
       "<path class=\"bond-23 atom-8 atom-0\" d=\"M 118.2,124.8 L 112.6,134.6\" style=\"fill:none;fill-rule:evenodd;stroke:#000000;stroke-width:2.0px;stroke-linecap:butt;stroke-linejoin:miter;stroke-opacity:1\"/>\n",
       "<path class=\"bond-24 atom-18 atom-9\" d=\"M 166.2,80.9 L 154.8,106.9\" style=\"fill:none;fill-rule:evenodd;stroke:#000000;stroke-width:2.0px;stroke-linecap:butt;stroke-linejoin:miter;stroke-opacity:1\"/>\n",
       "<path class=\"bond-25 atom-25 atom-20\" d=\"M 164.2,189.1 L 147.7,212.1\" style=\"fill:none;fill-rule:evenodd;stroke:#000000;stroke-width:2.0px;stroke-linecap:butt;stroke-linejoin:miter;stroke-opacity:1\"/>\n",
       "<path class=\"bond-26 atom-23 atom-0\" d=\"M 124.3,160.5 L 112.6,134.6\" style=\"fill:none;fill-rule:evenodd;stroke:#000000;stroke-width:2.0px;stroke-linecap:butt;stroke-linejoin:miter;stroke-opacity:1\"/>\n",
       "<path class=\"bond-27 atom-9 atom-8\" d=\"M 154.8,106.9 L 142.7,108.2\" style=\"fill:none;fill-rule:evenodd;stroke:#000000;stroke-width:2.0px;stroke-linecap:butt;stroke-linejoin:miter;stroke-opacity:1\"/>\n",
       "<path class=\"bond-27 atom-9 atom-8\" d=\"M 142.7,108.2 L 130.6,109.6\" style=\"fill:none;fill-rule:evenodd;stroke:#0000FF;stroke-width:2.0px;stroke-linecap:butt;stroke-linejoin:miter;stroke-opacity:1\"/>\n",
       "<path d=\"M 86.3,129.2 L 84.9,128.9 L 84.7,127.5\" style=\"fill:none;stroke:#000000;stroke-width:2.0px;stroke-linecap:butt;stroke-linejoin:miter;stroke-opacity:1;\"/>\n",
       "<path d=\"M 170.8,128.6 L 171.6,129.7 L 173.0,129.6\" style=\"fill:none;stroke:#000000;stroke-width:2.0px;stroke-linecap:butt;stroke-linejoin:miter;stroke-opacity:1;\"/>\n",
       "<path d=\"M 198.4,126.7 L 199.8,126.6 L 200.3,125.3\" style=\"fill:none;stroke:#000000;stroke-width:2.0px;stroke-linecap:butt;stroke-linejoin:miter;stroke-opacity:1;\"/>\n",
       "<path d=\"M 195.2,78.9 L 194.4,77.8 L 193.0,78.0\" style=\"fill:none;stroke:#000000;stroke-width:2.0px;stroke-linecap:butt;stroke-linejoin:miter;stroke-opacity:1;\"/>\n",
       "<path d=\"M 167.6,80.8 L 166.2,80.9 L 165.6,82.2\" style=\"fill:none;stroke:#000000;stroke-width:2.0px;stroke-linecap:butt;stroke-linejoin:miter;stroke-opacity:1;\"/>\n",
       "<path d=\"M 120.9,209.4 L 119.5,209.3 L 118.9,208.0\" style=\"fill:none;stroke:#000000;stroke-width:2.0px;stroke-linecap:butt;stroke-linejoin:miter;stroke-opacity:1;\"/>\n",
       "<path d=\"M 108.4,184.8 L 107.8,183.5 L 108.6,182.3\" style=\"fill:none;stroke:#000000;stroke-width:2.0px;stroke-linecap:butt;stroke-linejoin:miter;stroke-opacity:1;\"/>\n",
       "<path d=\"M 151.1,163.1 L 152.5,163.2 L 153.1,164.5\" style=\"fill:none;stroke:#000000;stroke-width:2.0px;stroke-linecap:butt;stroke-linejoin:miter;stroke-opacity:1;\"/>\n",
       "<path d=\"M 163.6,187.8 L 164.2,189.1 L 163.4,190.2\" style=\"fill:none;stroke:#000000;stroke-width:2.0px;stroke-linecap:butt;stroke-linejoin:miter;stroke-opacity:1;\"/>\n",
       "<path class=\"atom-4\" d=\"M 30.1 68.7 L 34.9 68.7 L 34.9 69.6 L 31.2 69.6 L 31.2 72.0 L 34.5 72.0 L 34.5 73.0 L 31.2 73.0 L 31.2 76.7 L 30.1 76.7 L 30.1 68.7 \" fill=\"#33CCCC\"/>\n",
       "<path class=\"atom-5\" d=\"M 68.8 58.1 L 73.6 58.1 L 73.6 59.0 L 69.9 59.0 L 69.9 61.4 L 73.1 61.4 L 73.1 62.4 L 69.9 62.4 L 69.9 66.1 L 68.8 66.1 L 68.8 58.1 \" fill=\"#33CCCC\"/>\n",
       "<path class=\"atom-6\" d=\"M 40.7 107.3 L 45.5 107.3 L 45.5 108.2 L 41.8 108.2 L 41.8 110.7 L 45.1 110.7 L 45.1 111.6 L 41.8 111.6 L 41.8 115.4 L 40.7 115.4 L 40.7 107.3 \" fill=\"#33CCCC\"/>\n",
       "<path class=\"atom-7\" d=\"M 105.8 85.1 L 108.4 89.3 Q 108.7 89.7, 109.1 90.5 Q 109.5 91.2, 109.6 91.3 L 109.6 85.1 L 110.6 85.1 L 110.6 93.1 L 109.5 93.1 L 106.7 88.4 Q 106.4 87.9, 106.0 87.3 Q 105.7 86.6, 105.6 86.4 L 105.6 93.1 L 104.5 93.1 L 104.5 85.1 L 105.8 85.1 \" fill=\"#0000FF\"/>\n",
       "<path class=\"atom-8\" d=\"M 124.9 106.0 L 127.5 110.3 Q 127.8 110.7, 128.2 111.4 Q 128.6 112.2, 128.6 112.2 L 128.6 106.0 L 129.7 106.0 L 129.7 114.0 L 128.6 114.0 L 125.8 109.4 Q 125.5 108.8, 125.1 108.2 Q 124.8 107.6, 124.7 107.4 L 124.7 114.0 L 123.6 114.0 L 123.6 106.0 L 124.9 106.0 \" fill=\"#0000FF\"/>\n",
       "<path class=\"atom-13\" d=\"M 237.0 100.3 Q 237.1 100.3, 237.5 100.5 Q 237.9 100.6, 238.3 100.7 Q 238.7 100.8, 239.1 100.8 Q 239.9 100.8, 240.3 100.4 Q 240.8 100.1, 240.8 99.4 Q 240.8 99.0, 240.5 98.7 Q 240.3 98.4, 240.0 98.3 Q 239.6 98.1, 239.1 98.0 Q 238.4 97.8, 237.9 97.6 Q 237.5 97.3, 237.2 96.9 Q 236.9 96.5, 236.9 95.8 Q 236.9 94.8, 237.6 94.1 Q 238.3 93.5, 239.6 93.5 Q 240.6 93.5, 241.6 93.9 L 241.4 94.8 Q 240.4 94.4, 239.7 94.4 Q 238.9 94.4, 238.5 94.8 Q 238.0 95.1, 238.0 95.6 Q 238.0 96.1, 238.3 96.3 Q 238.5 96.6, 238.8 96.7 Q 239.1 96.9, 239.7 97.0 Q 240.4 97.3, 240.8 97.5 Q 241.3 97.7, 241.6 98.2 Q 241.9 98.6, 241.9 99.4 Q 241.9 100.5, 241.1 101.1 Q 240.4 101.7, 239.2 101.7 Q 238.5 101.7, 237.9 101.6 Q 237.4 101.4, 236.7 101.2 L 237.0 100.3 \" fill=\"#CCCC00\"/>\n",
       "<path class=\"atom-14\" d=\"M 265.7 90.4 L 268.3 94.6 Q 268.6 95.0, 269.0 95.8 Q 269.4 96.6, 269.5 96.6 L 269.5 90.4 L 270.5 90.4 L 270.5 98.4 L 269.4 98.4 L 266.6 93.7 Q 266.3 93.2, 265.9 92.6 Q 265.6 92.0, 265.5 91.8 L 265.5 98.4 L 264.4 98.4 L 264.4 90.4 L 265.7 90.4 \" fill=\"#0000FF\"/>\n",
       "<path class=\"atom-14\" d=\"M 272.1 90.4 L 273.1 90.4 L 273.1 93.8 L 277.2 93.8 L 277.2 90.4 L 278.3 90.4 L 278.3 98.4 L 277.2 98.4 L 277.2 94.7 L 273.1 94.7 L 273.1 98.4 L 272.1 98.4 L 272.1 90.4 \" fill=\"#0000FF\"/>\n",
       "<path class=\"atom-14\" d=\"M 279.9 98.1 Q 280.1 97.6, 280.6 97.3 Q 281.0 97.0, 281.7 97.0 Q 282.5 97.0, 282.9 97.5 Q 283.4 97.9, 283.4 98.7 Q 283.4 99.5, 282.8 100.2 Q 282.2 100.9, 281.0 101.8 L 283.5 101.8 L 283.5 102.4 L 279.9 102.4 L 279.9 101.9 Q 280.9 101.2, 281.5 100.7 Q 282.0 100.2, 282.3 99.7 Q 282.6 99.2, 282.6 98.7 Q 282.6 98.2, 282.4 97.9 Q 282.1 97.6, 281.7 97.6 Q 281.2 97.6, 281.0 97.8 Q 280.7 98.0, 280.5 98.4 L 279.9 98.1 \" fill=\"#0000FF\"/>\n",
       "<path class=\"atom-15\" d=\"M 238.8 125.7 Q 238.8 123.8, 239.7 122.7 Q 240.7 121.6, 242.4 121.6 Q 244.2 121.6, 245.2 122.7 Q 246.1 123.8, 246.1 125.7 Q 246.1 127.6, 245.2 128.7 Q 244.2 129.8, 242.4 129.8 Q 240.7 129.8, 239.7 128.7 Q 238.8 127.7, 238.8 125.7 M 242.4 128.9 Q 243.7 128.9, 244.3 128.1 Q 245.0 127.3, 245.0 125.7 Q 245.0 124.1, 244.3 123.3 Q 243.7 122.5, 242.4 122.5 Q 241.2 122.5, 240.5 123.3 Q 239.9 124.1, 239.9 125.7 Q 239.9 127.3, 240.5 128.1 Q 241.2 128.9, 242.4 128.9 \" fill=\"#FF0000\"/>\n",
       "<path class=\"atom-16\" d=\"M 232.5 69.4 Q 232.5 67.4, 233.5 66.4 Q 234.4 65.3, 236.2 65.3 Q 238.0 65.3, 238.9 66.4 Q 239.9 67.4, 239.9 69.4 Q 239.9 71.3, 238.9 72.4 Q 237.9 73.5, 236.2 73.5 Q 234.4 73.5, 233.5 72.4 Q 232.5 71.3, 232.5 69.4 M 236.2 72.6 Q 237.4 72.6, 238.1 71.8 Q 238.7 71.0, 238.7 69.4 Q 238.7 67.8, 238.1 67.0 Q 237.4 66.2, 236.2 66.2 Q 235.0 66.2, 234.3 67.0 Q 233.6 67.8, 233.6 69.4 Q 233.6 71.0, 234.3 71.8 Q 235.0 72.6, 236.2 72.6 \" fill=\"#FF0000\"/>\n",
       "<path d=\"M 106.3,129.0 L 106.5,128.7 L 106.8,128.4 L 107.1,128.2 L 107.4,128.0 L 107.7,127.7 L 108.0,127.5 L 108.3,127.3 L 108.6,127.1 L 109.0,127.0 L 109.3,126.8 L 109.7,126.7 L 110.0,126.6 L 110.4,126.4 L 110.7,126.3 L 111.1,126.3 L 111.5,126.2 L 111.8,126.2 L 112.2,126.1 L 112.6,126.1\" style=\"fill:none;stroke:#FF0000;stroke-width:2.0px;stroke-linecap:butt;stroke-linejoin:miter;stroke-opacity:1;\"/>\n",
       "<path d=\"M 120.0,130.3 L 120.2,130.8 L 120.4,131.3 L 120.6,131.7 L 120.8,132.2 L 120.9,132.7 L 121.0,133.2 L 121.1,133.7 L 121.1,134.3 L 121.1,134.8 L 121.1,135.3 L 121.1,135.8 L 121.0,136.3 L 120.9,136.8 L 120.7,137.3 L 120.5,137.8 L 120.3,138.3 L 120.1,138.7 L 119.8,139.2 L 119.5,139.6\" style=\"fill:none;stroke:#FF0000;stroke-width:2.0px;stroke-linecap:butt;stroke-linejoin:miter;stroke-opacity:1;\"/>\n",
       "<path d=\"M 111.8,143.1 L 111.3,143.0 L 110.8,142.9 L 110.3,142.8 L 109.8,142.6 L 109.3,142.5 L 108.9,142.2 L 108.4,142.0 L 108.0,141.7 L 107.5,141.4 L 107.1,141.1 L 106.8,140.8 L 106.4,140.4 L 106.1,140.0 L 105.7,139.6 L 105.5,139.2 L 105.2,138.7 L 105.0,138.3 L 104.8,137.8 L 104.6,137.3\" style=\"fill:none;stroke:#FF0000;stroke-width:2.0px;stroke-linecap:butt;stroke-linejoin:miter;stroke-opacity:1;\"/>\n",
       "<path d=\"M 104.6,137.3 L 91.2,134.6\" style=\"fill:none;fill-rule:evenodd;stroke:#FF0000;stroke-width:2.0px;stroke-linecap:butt;stroke-linejoin:miter;stroke-opacity:1\"/>\n",
       "<path d=\"M 106.3,129.0 L 93.0,126.2\" style=\"fill:none;fill-rule:evenodd;stroke:#FF0000;stroke-width:2.0px;stroke-linecap:butt;stroke-linejoin:miter;stroke-opacity:1\"/>\n",
       "<path d=\"M 112.6,126.1 L 119.3,114.3\" style=\"fill:none;fill-rule:evenodd;stroke:#FF0000;stroke-width:2.0px;stroke-linecap:butt;stroke-linejoin:miter;stroke-opacity:1\"/>\n",
       "<path d=\"M 120.0,130.3 L 126.7,118.5\" style=\"fill:none;fill-rule:evenodd;stroke:#FF0000;stroke-width:2.0px;stroke-linecap:butt;stroke-linejoin:miter;stroke-opacity:1\"/>\n",
       "<path d=\"M 119.5,139.6 L 125.2,152.0\" style=\"fill:none;fill-rule:evenodd;stroke:#FF0000;stroke-width:2.0px;stroke-linecap:butt;stroke-linejoin:miter;stroke-opacity:1\"/>\n",
       "<path d=\"M 111.8,143.1 L 117.4,155.5\" style=\"fill:none;fill-rule:evenodd;stroke:#FF0000;stroke-width:2.0px;stroke-linecap:butt;stroke-linejoin:miter;stroke-opacity:1\"/>\n",
       "<path d=\"M 88.3,121.1 L 88.6,121.3 L 89.0,121.4 L 89.3,121.6 L 89.6,121.8 L 89.9,122.1 L 90.2,122.3 L 90.5,122.5 L 90.8,122.8 L 91.1,123.0 L 91.3,123.3 L 91.5,123.6 L 91.8,123.9 L 92.0,124.2 L 92.2,124.5 L 92.4,124.9 L 92.5,125.2 L 92.7,125.5 L 92.8,125.9 L 93.0,126.2\" style=\"fill:none;stroke:#FF0000;stroke-width:2.0px;stroke-linecap:butt;stroke-linejoin:miter;stroke-opacity:1;\"/>\n",
       "<path d=\"M 91.2,134.6 L 90.2,135.6 L 88.9,136.4 L 87.5,137.0 L 86.1,137.3 L 84.6,137.4 L 83.1,137.2 L 81.7,136.8 L 80.3,136.1 L 79.1,135.2 L 78.1,134.1 L 77.3,132.8 L 76.8,131.4 L 76.5,129.9 L 76.4,128.4 L 76.6,127.0 L 77.1,125.5 L 77.8,124.2 L 78.7,123.0 L 79.9,122.1\" style=\"fill:none;stroke:#FF0000;stroke-width:2.0px;stroke-linecap:butt;stroke-linejoin:miter;stroke-opacity:1;\"/>\n",
       "<path d=\"M 79.9,122.1 L 78.4,108.5\" style=\"fill:none;fill-rule:evenodd;stroke:#FF0000;stroke-width:2.0px;stroke-linecap:butt;stroke-linejoin:miter;stroke-opacity:1\"/>\n",
       "<path d=\"M 88.3,121.1 L 86.8,107.6\" style=\"fill:none;fill-rule:evenodd;stroke:#FF0000;stroke-width:2.0px;stroke-linecap:butt;stroke-linejoin:miter;stroke-opacity:1\"/>\n",
       "<path d=\"M 77.5,93.4 L 77.9,93.2 L 78.4,92.9 L 78.9,92.8 L 79.4,92.6 L 79.9,92.5 L 80.4,92.4 L 80.9,92.3 L 81.4,92.3 L 81.9,92.2 L 82.4,92.3 L 82.9,92.3 L 83.4,92.4 L 83.9,92.5 L 84.4,92.7 L 84.9,92.8 L 85.4,93.1 L 85.9,93.3 L 86.3,93.5 L 86.7,93.8\" style=\"fill:none;stroke:#FF0000;stroke-width:2.0px;stroke-linecap:butt;stroke-linejoin:miter;stroke-opacity:1;\"/>\n",
       "<path d=\"M 90.2,101.6 L 90.2,102.0 L 90.1,102.3 L 90.0,102.7 L 89.9,103.1 L 89.8,103.4 L 89.7,103.8 L 89.6,104.1 L 89.4,104.5 L 89.2,104.8 L 89.1,105.1 L 88.9,105.4 L 88.6,105.7 L 88.4,106.0 L 88.2,106.3 L 87.9,106.6 L 87.7,106.9 L 87.4,107.1 L 87.1,107.4 L 86.8,107.6\" style=\"fill:none;stroke:#FF0000;stroke-width:2.0px;stroke-linecap:butt;stroke-linejoin:miter;stroke-opacity:1;\"/>\n",
       "<path d=\"M 78.4,108.5 L 77.9,108.3 L 77.4,108.1 L 77.0,107.8 L 76.6,107.5 L 76.2,107.2 L 75.8,106.8 L 75.5,106.4 L 75.1,106.0 L 74.8,105.6 L 74.5,105.2 L 74.3,104.8 L 74.0,104.3 L 73.8,103.8 L 73.7,103.3 L 73.5,102.8 L 73.4,102.3 L 73.3,101.8 L 73.3,101.3 L 73.3,100.8\" style=\"fill:none;stroke:#FF0000;stroke-width:2.0px;stroke-linecap:butt;stroke-linejoin:miter;stroke-opacity:1;\"/>\n",
       "<path d=\"M 73.3,100.8 L 61.4,94.1\" style=\"fill:none;fill-rule:evenodd;stroke:#FF0000;stroke-width:2.0px;stroke-linecap:butt;stroke-linejoin:miter;stroke-opacity:1\"/>\n",
       "<path d=\"M 77.5,93.4 L 65.6,86.7\" style=\"fill:none;fill-rule:evenodd;stroke:#FF0000;stroke-width:2.0px;stroke-linecap:butt;stroke-linejoin:miter;stroke-opacity:1\"/>\n",
       "<path d=\"M 86.7,93.8 L 99.1,88.2\" style=\"fill:none;fill-rule:evenodd;stroke:#FF0000;stroke-width:2.0px;stroke-linecap:butt;stroke-linejoin:miter;stroke-opacity:1\"/>\n",
       "<path d=\"M 90.2,101.6 L 102.6,96.0\" style=\"fill:none;fill-rule:evenodd;stroke:#FF0000;stroke-width:2.0px;stroke-linecap:butt;stroke-linejoin:miter;stroke-opacity:1\"/>\n",
       "<path d=\"M 52.9,79.4 L 53.1,79.3 L 53.3,79.2 L 53.5,79.1 L 53.7,79.0 L 53.9,78.9 L 54.1,78.8 L 54.3,78.7 L 54.6,78.6 L 54.8,78.6 L 55.0,78.5 L 55.2,78.4 L 55.5,78.4 L 55.7,78.3 L 55.9,78.3 L 56.2,78.3 L 56.4,78.3 L 56.6,78.2 L 56.9,78.2 L 57.1,78.2\" style=\"fill:none;stroke:#FF0000;stroke-width:2.0px;stroke-linecap:butt;stroke-linejoin:miter;stroke-opacity:1;\"/>\n",
       "<path d=\"M 64.5,82.4 L 64.6,82.6 L 64.7,82.8 L 64.8,83.0 L 64.9,83.3 L 65.0,83.5 L 65.1,83.7 L 65.2,83.9 L 65.2,84.1 L 65.3,84.4 L 65.4,84.6 L 65.4,84.8 L 65.5,85.0 L 65.5,85.3 L 65.6,85.5 L 65.6,85.7 L 65.6,86.0 L 65.6,86.2 L 65.6,86.4 L 65.6,86.7\" style=\"fill:none;stroke:#FF0000;stroke-width:2.0px;stroke-linecap:butt;stroke-linejoin:miter;stroke-opacity:1;\"/>\n",
       "<path d=\"M 61.4,94.1 L 61.2,94.2 L 61.0,94.3 L 60.8,94.4 L 60.6,94.5 L 60.4,94.6 L 60.2,94.7 L 60.0,94.7 L 59.7,94.8 L 59.5,94.9 L 59.3,94.9 L 59.1,95.0 L 58.8,95.1 L 58.6,95.1 L 58.4,95.1 L 58.1,95.2 L 57.9,95.2 L 57.7,95.2 L 57.4,95.2 L 57.2,95.2\" style=\"fill:none;stroke:#FF0000;stroke-width:2.0px;stroke-linecap:butt;stroke-linejoin:miter;stroke-opacity:1;\"/>\n",
       "<path d=\"M 49.8,91.0 L 49.7,90.8 L 49.6,90.6 L 49.5,90.4 L 49.4,90.2 L 49.3,90.0 L 49.2,89.7 L 49.1,89.5 L 49.0,89.3 L 49.0,89.1 L 48.9,88.9 L 48.9,88.6 L 48.8,88.4 L 48.8,88.2 L 48.7,87.9 L 48.7,87.7 L 48.7,87.5 L 48.7,87.2 L 48.7,87.0 L 48.6,86.8\" style=\"fill:none;stroke:#FF0000;stroke-width:2.0px;stroke-linecap:butt;stroke-linejoin:miter;stroke-opacity:1;\"/>\n",
       "<path d=\"M 48.6,86.8 L 36.8,80.0\" style=\"fill:none;fill-rule:evenodd;stroke:#FF0000;stroke-width:2.0px;stroke-linecap:butt;stroke-linejoin:miter;stroke-opacity:1\"/>\n",
       "<path d=\"M 52.9,79.4 L 41.0,72.6\" style=\"fill:none;fill-rule:evenodd;stroke:#FF0000;stroke-width:2.0px;stroke-linecap:butt;stroke-linejoin:miter;stroke-opacity:1\"/>\n",
       "<path d=\"M 57.1,78.2 L 63.8,66.4\" style=\"fill:none;fill-rule:evenodd;stroke:#FF0000;stroke-width:2.0px;stroke-linecap:butt;stroke-linejoin:miter;stroke-opacity:1\"/>\n",
       "<path d=\"M 64.5,82.4 L 71.2,70.6\" style=\"fill:none;fill-rule:evenodd;stroke:#FF0000;stroke-width:2.0px;stroke-linecap:butt;stroke-linejoin:miter;stroke-opacity:1\"/>\n",
       "<path d=\"M 57.2,95.2 L 50.5,107.0\" style=\"fill:none;fill-rule:evenodd;stroke:#FF0000;stroke-width:2.0px;stroke-linecap:butt;stroke-linejoin:miter;stroke-opacity:1\"/>\n",
       "<path d=\"M 49.8,91.0 L 43.1,102.8\" style=\"fill:none;fill-rule:evenodd;stroke:#FF0000;stroke-width:2.0px;stroke-linecap:butt;stroke-linejoin:miter;stroke-opacity:1\"/>\n",
       "<path d=\"M 36.8,80.0 L 34.7,80.9 L 32.3,81.2 L 30.0,80.8 L 27.9,79.8 L 26.1,78.3 L 24.9,76.4 L 24.1,74.1 L 24.1,71.8 L 24.6,69.5 L 25.8,67.5 L 27.5,65.9 L 29.5,64.8 L 31.8,64.2 L 34.1,64.3 L 36.3,65.1 L 38.2,66.4 L 39.7,68.2 L 40.7,70.3 L 41.0,72.6\" style=\"fill:none;stroke:#FF0000;stroke-width:2.0px;stroke-linecap:butt;stroke-linejoin:miter;stroke-opacity:1;\"/>\n",
       "<path d=\"M 63.8,66.4 L 62.9,64.2 L 62.7,61.9 L 63.0,59.6 L 64.0,57.5 L 65.6,55.7 L 67.5,54.4 L 69.7,53.7 L 72.1,53.6 L 74.3,54.2 L 76.4,55.4 L 78.0,57.0 L 79.1,59.1 L 79.6,61.3 L 79.5,63.7 L 78.8,65.9 L 77.5,67.8 L 75.7,69.3 L 73.5,70.3 L 71.2,70.6\" style=\"fill:none;stroke:#FF0000;stroke-width:2.0px;stroke-linecap:butt;stroke-linejoin:miter;stroke-opacity:1;\"/>\n",
       "<path d=\"M 50.5,107.0 L 51.4,109.2 L 51.6,111.5 L 51.3,113.8 L 50.3,115.9 L 48.7,117.7 L 46.8,119.0 L 44.6,119.7 L 42.2,119.8 L 40.0,119.2 L 37.9,118.1 L 36.3,116.4 L 35.2,114.4 L 34.7,112.1 L 34.8,109.8 L 35.5,107.5 L 36.8,105.6 L 38.6,104.1 L 40.8,103.2 L 43.1,102.8\" style=\"fill:none;stroke:#FF0000;stroke-width:2.0px;stroke-linecap:butt;stroke-linejoin:miter;stroke-opacity:1;\"/>\n",
       "<path d=\"M 99.1,88.2 L 99.4,86.8 L 99.9,85.4 L 100.7,84.1 L 101.7,82.9 L 102.9,82.0 L 104.2,81.3 L 105.6,80.8 L 107.1,80.6 L 108.6,80.6 L 110.0,80.9 L 111.4,81.5 L 112.7,82.3 L 113.8,83.3 L 114.7,84.5 L 115.4,85.8 L 115.9,87.2 L 116.1,88.7 L 116.0,90.2 L 115.7,91.6\" style=\"fill:none;stroke:#FF0000;stroke-width:2.0px;stroke-linecap:butt;stroke-linejoin:miter;stroke-opacity:1;\"/>\n",
       "<path d=\"M 109.4,97.4 L 109.0,97.4 L 108.7,97.5 L 108.3,97.5 L 107.9,97.6 L 107.5,97.6 L 107.2,97.6 L 106.8,97.5 L 106.4,97.5 L 106.1,97.4 L 105.7,97.4 L 105.3,97.3 L 105.0,97.2 L 104.6,97.0 L 104.3,96.9 L 103.9,96.7 L 103.6,96.6 L 103.3,96.4 L 102.9,96.2 L 102.6,96.0\" style=\"fill:none;stroke:#FF0000;stroke-width:2.0px;stroke-linecap:butt;stroke-linejoin:miter;stroke-opacity:1;\"/>\n",
       "<path d=\"M 115.7,91.6 L 124.9,101.7\" style=\"fill:none;fill-rule:evenodd;stroke:#FF0000;stroke-width:2.0px;stroke-linecap:butt;stroke-linejoin:miter;stroke-opacity:1\"/>\n",
       "<path d=\"M 109.4,97.4 L 118.6,107.4\" style=\"fill:none;fill-rule:evenodd;stroke:#FF0000;stroke-width:2.0px;stroke-linecap:butt;stroke-linejoin:miter;stroke-opacity:1\"/>\n",
       "<path d=\"M 124.9,101.7 L 125.4,101.6 L 125.9,101.5 L 126.4,101.5 L 126.9,101.5 L 127.4,101.5 L 127.9,101.6 L 128.4,101.7 L 128.9,101.8 L 129.4,102.0 L 129.9,102.2 L 130.4,102.4 L 130.8,102.6 L 131.3,102.9 L 131.7,103.2 L 132.1,103.5 L 132.5,103.8 L 132.9,104.2 L 133.2,104.6 L 133.5,105.0\" style=\"fill:none;stroke:#FF0000;stroke-width:2.0px;stroke-linecap:butt;stroke-linejoin:miter;stroke-opacity:1;\"/>\n",
       "<path d=\"M 134.5,113.4 L 134.2,113.9 L 134.0,114.3 L 133.7,114.8 L 133.4,115.2 L 133.1,115.6 L 132.7,116.0 L 132.4,116.3 L 132.0,116.7 L 131.6,117.0 L 131.1,117.3 L 130.7,117.5 L 130.2,117.7 L 129.7,117.9 L 129.3,118.1 L 128.8,118.3 L 128.3,118.4 L 127.7,118.4 L 127.2,118.5 L 126.7,118.5\" style=\"fill:none;stroke:#FF0000;stroke-width:2.0px;stroke-linecap:butt;stroke-linejoin:miter;stroke-opacity:1;\"/>\n",
       "<path d=\"M 119.3,114.3 L 119.1,114.0 L 119.0,113.6 L 118.8,113.3 L 118.7,113.0 L 118.6,112.6 L 118.5,112.2 L 118.4,111.9 L 118.3,111.5 L 118.2,111.1 L 118.2,110.8 L 118.2,110.4 L 118.2,110.0 L 118.2,109.6 L 118.2,109.3 L 118.2,108.9 L 118.3,108.5 L 118.4,108.2 L 118.5,107.8 L 118.6,107.4\" style=\"fill:none;stroke:#FF0000;stroke-width:2.0px;stroke-linecap:butt;stroke-linejoin:miter;stroke-opacity:1;\"/>\n",
       "<path d=\"M 133.5,105.0 L 147.0,103.5\" style=\"fill:none;fill-rule:evenodd;stroke:#FF0000;stroke-width:2.0px;stroke-linecap:butt;stroke-linejoin:miter;stroke-opacity:1\"/>\n",
       "<path d=\"M 134.5,113.4 L 148.0,111.9\" style=\"fill:none;fill-rule:evenodd;stroke:#FF0000;stroke-width:2.0px;stroke-linecap:butt;stroke-linejoin:miter;stroke-opacity:1\"/>\n",
       "<path d=\"M 147.0,103.5 L 148.3,101.5 L 150.0,99.9 L 152.1,98.8 L 154.4,98.4 L 156.7,98.6 L 158.9,99.4 L 160.8,100.8 L 162.2,102.6 L 163.1,104.8 L 163.3,107.1 L 162.9,109.4 L 161.9,111.5 L 160.4,113.3 L 158.5,114.6 L 156.2,115.3 L 153.9,115.3 L 151.6,114.8 L 149.6,113.6 L 148.0,111.9\" style=\"fill:none;stroke:#FF0000;stroke-width:2.0px;stroke-linecap:butt;stroke-linejoin:miter;stroke-opacity:1;\"/>\n",
       "<path d=\"M 125.2,152.0 L 127.4,152.5 L 129.5,153.7 L 131.1,155.3 L 132.2,157.4 L 132.8,159.7 L 132.7,162.0 L 131.9,164.2 L 130.6,166.1 L 128.9,167.6 L 126.7,168.6 L 124.4,168.9 L 122.1,168.7 L 120.0,167.7 L 118.1,166.3 L 116.8,164.4 L 116.0,162.2 L 115.8,159.8 L 116.3,157.6 L 117.4,155.5\" style=\"fill:none;stroke:#FF0000;stroke-width:2.0px;stroke-linecap:butt;stroke-linejoin:miter;stroke-opacity:1;\"/>\n",
       "<path d=\"M 137.8,114.9 L 136.1,117.8 L 133.6,120.0 L 130.6,121.5 L 127.3,122.2 L 124.0,121.9 L 120.9,120.7 L 118.2,118.7 L 116.1,116.1 L 114.9,113.0 L 114.5,109.7 L 115.0,106.4 L 116.5,103.4 L 118.7,100.8 L 121.5,99.0 L 124.7,98.0 L 128.0,97.9 L 131.2,98.7 L 134.1,100.4 L 136.5,102.8\" style=\"fill:none;stroke:#007FFF;stroke-width:2.0px;stroke-linecap:butt;stroke-linejoin:miter;stroke-opacity:1;\"/>\n",
       "<path d=\"M 136.5,102.8 L 143.7,102.0\" style=\"fill:none;fill-rule:evenodd;stroke:#007FFF;stroke-width:2.0px;stroke-linecap:butt;stroke-linejoin:miter;stroke-opacity:1\"/>\n",
       "<path d=\"M 137.8,114.9 L 145.0,114.1\" style=\"fill:none;fill-rule:evenodd;stroke:#007FFF;stroke-width:2.0px;stroke-linecap:butt;stroke-linejoin:miter;stroke-opacity:1\"/>\n",
       "<path d=\"M 143.7,102.0 L 144.0,101.4 L 144.3,100.8 L 144.6,100.2 L 145.0,99.7 L 145.4,99.1 L 145.9,98.6 L 146.3,98.2 L 146.8,97.7 L 147.3,97.3 L 147.9,96.9 L 148.4,96.5 L 149.0,96.2 L 149.6,95.9 L 150.2,95.6 L 150.9,95.4 L 151.5,95.2 L 152.2,95.0 L 152.8,94.9 L 153.5,94.8\" style=\"fill:none;stroke:#007FFF;stroke-width:2.0px;stroke-linecap:butt;stroke-linejoin:miter;stroke-opacity:1;\"/>\n",
       "<path d=\"M 164.6,99.7 L 165.0,100.2 L 165.4,100.8 L 165.7,101.4 L 166.0,102.0 L 166.2,102.6 L 166.5,103.2 L 166.6,103.9 L 166.8,104.5 L 166.9,105.2 L 167.0,105.9 L 167.0,106.5 L 167.0,107.2 L 167.0,107.9 L 166.9,108.6 L 166.8,109.2 L 166.6,109.9 L 166.5,110.5 L 166.2,111.2 L 166.0,111.8\" style=\"fill:none;stroke:#007FFF;stroke-width:2.0px;stroke-linecap:butt;stroke-linejoin:miter;stroke-opacity:1;\"/>\n",
       "<path d=\"M 156.2,119.0 L 155.5,119.1 L 154.8,119.1 L 154.2,119.1 L 153.5,119.0 L 152.8,118.9 L 152.2,118.8 L 151.5,118.6 L 150.9,118.4 L 150.2,118.2 L 149.6,117.9 L 149.0,117.6 L 148.5,117.3 L 147.9,116.9 L 147.3,116.5 L 146.8,116.1 L 146.3,115.6 L 145.9,115.1 L 145.4,114.6 L 145.0,114.1\" style=\"fill:none;stroke:#007FFF;stroke-width:2.0px;stroke-linecap:butt;stroke-linejoin:miter;stroke-opacity:1;\"/>\n",
       "<path d=\"M 166.0,111.8 L 170.3,117.6\" style=\"fill:none;fill-rule:evenodd;stroke:#007FFF;stroke-width:2.0px;stroke-linecap:butt;stroke-linejoin:miter;stroke-opacity:1\"/>\n",
       "<path d=\"M 156.2,119.0 L 160.5,124.8\" style=\"fill:none;fill-rule:evenodd;stroke:#007FFF;stroke-width:2.0px;stroke-linecap:butt;stroke-linejoin:miter;stroke-opacity:1\"/>\n",
       "<path d=\"M 153.5,94.8 L 156.4,88.2\" style=\"fill:none;fill-rule:evenodd;stroke:#007FFF;stroke-width:2.0px;stroke-linecap:butt;stroke-linejoin:miter;stroke-opacity:1\"/>\n",
       "<path d=\"M 164.6,99.7 L 167.5,93.0\" style=\"fill:none;fill-rule:evenodd;stroke:#007FFF;stroke-width:2.0px;stroke-linecap:butt;stroke-linejoin:miter;stroke-opacity:1\"/>\n",
       "<path d=\"M 170.3,117.6 L 170.9,117.5 L 171.6,117.5 L 172.3,117.5 L 173.0,117.6 L 173.6,117.7 L 174.3,117.8 L 174.9,118.0 L 175.6,118.2 L 176.2,118.4 L 176.8,118.7 L 177.4,119.0 L 178.0,119.3 L 178.6,119.7 L 179.1,120.1 L 179.6,120.5 L 180.1,121.0 L 180.6,121.5 L 181.0,122.0 L 181.4,122.5\" style=\"fill:none;stroke:#007FFF;stroke-width:2.0px;stroke-linecap:butt;stroke-linejoin:miter;stroke-opacity:1;\"/>\n",
       "<path d=\"M 182.8,134.6 L 181.8,136.4 L 180.6,138.0 L 179.1,139.3 L 177.4,140.4 L 175.6,141.2 L 173.6,141.7 L 171.6,141.9 L 169.6,141.7 L 167.7,141.2 L 165.8,140.4 L 164.1,139.3 L 162.7,138.0 L 161.4,136.4 L 160.5,134.6 L 159.8,132.7 L 159.5,130.7 L 159.5,128.7 L 159.8,126.7 L 160.5,124.8\" style=\"fill:none;stroke:#007FFF;stroke-width:2.0px;stroke-linecap:butt;stroke-linejoin:miter;stroke-opacity:1;\"/>\n",
       "<path d=\"M 181.4,122.5 L 188.6,121.7\" style=\"fill:none;fill-rule:evenodd;stroke:#007FFF;stroke-width:2.0px;stroke-linecap:butt;stroke-linejoin:miter;stroke-opacity:1\"/>\n",
       "<path d=\"M 182.8,134.6 L 190.0,133.8\" style=\"fill:none;fill-rule:evenodd;stroke:#007FFF;stroke-width:2.0px;stroke-linecap:butt;stroke-linejoin:miter;stroke-opacity:1\"/>\n",
       "<path d=\"M 188.6,121.7 L 188.9,121.1 L 189.2,120.5 L 189.6,119.9 L 190.0,119.4 L 190.4,118.8 L 190.8,118.3 L 191.3,117.9 L 191.8,117.4 L 192.3,117.0 L 192.8,116.6 L 193.4,116.2 L 194.0,115.9 L 194.6,115.6 L 195.2,115.3 L 195.8,115.1 L 196.5,114.9 L 197.1,114.7 L 197.8,114.6 L 198.4,114.5\" style=\"fill:none;stroke:#007FFF;stroke-width:2.0px;stroke-linecap:butt;stroke-linejoin:miter;stroke-opacity:1;\"/>\n",
       "<path d=\"M 209.6,119.4 L 210.6,121.1 L 211.4,122.9 L 211.8,124.9 L 212.0,126.9 L 211.7,128.9 L 211.2,130.9 L 210.3,132.7 L 209.2,134.3 L 207.8,135.8 L 206.2,137.0 L 204.4,137.9 L 202.4,138.5 L 200.5,138.7 L 198.4,138.7 L 196.5,138.3 L 194.6,137.6 L 192.8,136.6 L 191.3,135.3 L 190.0,133.8\" style=\"fill:none;stroke:#007FFF;stroke-width:2.0px;stroke-linecap:butt;stroke-linejoin:miter;stroke-opacity:1;\"/>\n",
       "<path d=\"M 198.4,114.5 L 201.3,107.9\" style=\"fill:none;fill-rule:evenodd;stroke:#007FFF;stroke-width:2.0px;stroke-linecap:butt;stroke-linejoin:miter;stroke-opacity:1\"/>\n",
       "<path d=\"M 209.6,119.4 L 212.5,112.7\" style=\"fill:none;fill-rule:evenodd;stroke:#007FFF;stroke-width:2.0px;stroke-linecap:butt;stroke-linejoin:miter;stroke-opacity:1\"/>\n",
       "<path d=\"M 209.8,88.5 L 210.5,88.5 L 211.1,88.4 L 211.8,88.5 L 212.5,88.5 L 213.2,88.6 L 213.8,88.7 L 214.5,88.9 L 215.1,89.1 L 215.7,89.3 L 216.3,89.6 L 216.9,89.9 L 217.5,90.3 L 218.1,90.6 L 218.6,91.0 L 219.1,91.4 L 219.6,91.9 L 220.1,92.4 L 220.6,92.9 L 221.0,93.4\" style=\"fill:none;stroke:#007FFF;stroke-width:2.0px;stroke-linecap:butt;stroke-linejoin:miter;stroke-opacity:1;\"/>\n",
       "<path d=\"M 222.3,105.5 L 222.0,106.1 L 221.7,106.7 L 221.4,107.3 L 221.0,107.8 L 220.6,108.4 L 220.1,108.9 L 219.7,109.4 L 219.2,109.8 L 218.6,110.2 L 218.1,110.6 L 217.5,111.0 L 217.0,111.3 L 216.4,111.6 L 215.7,111.9 L 215.1,112.2 L 214.5,112.4 L 213.8,112.5 L 213.2,112.6 L 212.5,112.7\" style=\"fill:none;stroke:#007FFF;stroke-width:2.0px;stroke-linecap:butt;stroke-linejoin:miter;stroke-opacity:1;\"/>\n",
       "<path d=\"M 201.3,107.9 L 201.0,107.3 L 200.6,106.7 L 200.3,106.1 L 200.0,105.5 L 199.7,104.9 L 199.5,104.3 L 199.3,103.6 L 199.2,103.0 L 199.1,102.3 L 199.0,101.6 L 199.0,101.0 L 199.0,100.3 L 199.0,99.6 L 199.1,99.0 L 199.2,98.3 L 199.3,97.6 L 199.5,97.0 L 199.7,96.4 L 200.0,95.7\" style=\"fill:none;stroke:#007FFF;stroke-width:2.0px;stroke-linecap:butt;stroke-linejoin:miter;stroke-opacity:1;\"/>\n",
       "<path d=\"M 221.0,93.4 L 228.2,92.6\" style=\"fill:none;fill-rule:evenodd;stroke:#007FFF;stroke-width:2.0px;stroke-linecap:butt;stroke-linejoin:miter;stroke-opacity:1\"/>\n",
       "<path d=\"M 222.3,105.5 L 229.5,104.7\" style=\"fill:none;fill-rule:evenodd;stroke:#007FFF;stroke-width:2.0px;stroke-linecap:butt;stroke-linejoin:miter;stroke-opacity:1\"/>\n",
       "<path d=\"M 200.0,95.7 L 195.7,89.9\" style=\"fill:none;fill-rule:evenodd;stroke:#007FFF;stroke-width:2.0px;stroke-linecap:butt;stroke-linejoin:miter;stroke-opacity:1\"/>\n",
       "<path d=\"M 209.8,88.5 L 205.5,82.7\" style=\"fill:none;fill-rule:evenodd;stroke:#007FFF;stroke-width:2.0px;stroke-linecap:butt;stroke-linejoin:miter;stroke-opacity:1\"/>\n",
       "<path d=\"M 244.2,86.3 L 244.5,86.5 L 244.8,86.6 L 245.1,86.8 L 245.4,87.0 L 245.7,87.1 L 246.0,87.3 L 246.3,87.5 L 246.5,87.7 L 246.8,87.9 L 247.1,88.1 L 247.3,88.3 L 247.6,88.5 L 247.8,88.8 L 248.0,89.0 L 248.3,89.3 L 248.5,89.5 L 248.7,89.8 L 248.9,90.0 L 249.1,90.3\" style=\"fill:none;stroke:#007FFF;stroke-width:2.0px;stroke-linecap:butt;stroke-linejoin:miter;stroke-opacity:1;\"/>\n",
       "<path d=\"M 250.5,102.4 L 250.3,102.7 L 250.2,103.0 L 250.0,103.3 L 249.9,103.6 L 249.7,103.9 L 249.5,104.2 L 249.3,104.4 L 249.1,104.7 L 248.9,105.0 L 248.7,105.2 L 248.5,105.5 L 248.3,105.8 L 248.0,106.0 L 247.8,106.2 L 247.6,106.5 L 247.3,106.7 L 247.1,106.9 L 246.8,107.1 L 246.5,107.3\" style=\"fill:none;stroke:#007FFF;stroke-width:2.0px;stroke-linecap:butt;stroke-linejoin:miter;stroke-opacity:1;\"/>\n",
       "<path d=\"M 234.4,108.7 L 234.1,108.5 L 233.8,108.4 L 233.5,108.2 L 233.2,108.1 L 232.9,107.9 L 232.7,107.7 L 232.4,107.5 L 232.1,107.3 L 231.8,107.1 L 231.6,106.9 L 231.3,106.7 L 231.1,106.5 L 230.8,106.2 L 230.6,106.0 L 230.4,105.8 L 230.1,105.5 L 229.9,105.3 L 229.7,105.0 L 229.5,104.7\" style=\"fill:none;stroke:#007FFF;stroke-width:2.0px;stroke-linecap:butt;stroke-linejoin:miter;stroke-opacity:1;\"/>\n",
       "<path d=\"M 228.2,92.6 L 228.3,92.3 L 228.4,92.0 L 228.6,91.7 L 228.8,91.4 L 228.9,91.1 L 229.1,90.8 L 229.3,90.6 L 229.5,90.3 L 229.7,90.0 L 229.9,89.8 L 230.1,89.5 L 230.3,89.3 L 230.6,89.0 L 230.8,88.8 L 231.1,88.5 L 231.3,88.3 L 231.6,88.1 L 231.8,87.9 L 232.1,87.7\" style=\"fill:none;stroke:#007FFF;stroke-width:2.0px;stroke-linecap:butt;stroke-linejoin:miter;stroke-opacity:1;\"/>\n",
       "<path d=\"M 249.1,90.3 L 256.3,89.5\" style=\"fill:none;fill-rule:evenodd;stroke:#007FFF;stroke-width:2.0px;stroke-linecap:butt;stroke-linejoin:miter;stroke-opacity:1\"/>\n",
       "<path d=\"M 250.5,102.4 L 257.7,101.6\" style=\"fill:none;fill-rule:evenodd;stroke:#007FFF;stroke-width:2.0px;stroke-linecap:butt;stroke-linejoin:miter;stroke-opacity:1\"/>\n",
       "<path d=\"M 246.5,107.3 L 247.3,114.5\" style=\"fill:none;fill-rule:evenodd;stroke:#007FFF;stroke-width:2.0px;stroke-linecap:butt;stroke-linejoin:miter;stroke-opacity:1\"/>\n",
       "<path d=\"M 234.4,108.7 L 235.2,115.9\" style=\"fill:none;fill-rule:evenodd;stroke:#007FFF;stroke-width:2.0px;stroke-linecap:butt;stroke-linejoin:miter;stroke-opacity:1\"/>\n",
       "<path d=\"M 232.1,87.7 L 231.3,80.5\" style=\"fill:none;fill-rule:evenodd;stroke:#007FFF;stroke-width:2.0px;stroke-linecap:butt;stroke-linejoin:miter;stroke-opacity:1\"/>\n",
       "<path d=\"M 244.2,86.3 L 243.4,79.2\" style=\"fill:none;fill-rule:evenodd;stroke:#007FFF;stroke-width:2.0px;stroke-linecap:butt;stroke-linejoin:miter;stroke-opacity:1\"/>\n",
       "<path d=\"M 256.3,89.5 L 258.1,86.6 L 260.5,84.4 L 263.5,82.9 L 266.8,82.2 L 270.1,82.5 L 273.3,83.7 L 276.0,85.6 L 278.0,88.3 L 279.3,91.4 L 279.7,94.7 L 279.1,98.0 L 277.7,101.0 L 275.5,103.6 L 272.7,105.4 L 269.5,106.4 L 266.1,106.5 L 262.9,105.7 L 260.0,104.0 L 257.7,101.6\" style=\"fill:none;stroke:#007FFF;stroke-width:2.0px;stroke-linecap:butt;stroke-linejoin:miter;stroke-opacity:1;\"/>\n",
       "<path d=\"M 247.3,114.5 L 250.2,116.3 L 252.4,118.7 L 254.0,121.7 L 254.6,125.0 L 254.3,128.3 L 253.2,131.5 L 251.2,134.2 L 248.5,136.2 L 245.4,137.5 L 242.1,137.8 L 238.8,137.3 L 235.8,135.9 L 233.3,133.7 L 231.4,130.9 L 230.4,127.7 L 230.3,124.3 L 231.1,121.1 L 232.8,118.2 L 235.2,115.9\" style=\"fill:none;stroke:#007FFF;stroke-width:2.0px;stroke-linecap:butt;stroke-linejoin:miter;stroke-opacity:1;\"/>\n",
       "<path d=\"M 231.3,80.5 L 228.4,78.8 L 226.2,76.3 L 224.7,73.3 L 224.0,70.0 L 224.3,66.7 L 225.5,63.5 L 227.4,60.9 L 230.1,58.8 L 233.2,57.5 L 236.5,57.2 L 239.8,57.7 L 242.8,59.1 L 245.4,61.3 L 247.2,64.1 L 248.2,67.3 L 248.3,70.7 L 247.5,73.9 L 245.8,76.8 L 243.4,79.2\" style=\"fill:none;stroke:#007FFF;stroke-width:2.0px;stroke-linecap:butt;stroke-linejoin:miter;stroke-opacity:1;\"/>\n",
       "<path d=\"M 183.2,72.9 L 184.2,71.1 L 185.4,69.6 L 186.9,68.2 L 188.6,67.1 L 190.4,66.3 L 192.4,65.8 L 194.4,65.6 L 196.4,65.8 L 198.3,66.3 L 200.2,67.1 L 201.8,68.2 L 203.3,69.6 L 204.6,71.1 L 205.5,72.9 L 206.2,74.8 L 206.5,76.8 L 206.5,78.8 L 206.2,80.8 L 205.5,82.7\" style=\"fill:none;stroke:#007FFF;stroke-width:2.0px;stroke-linecap:butt;stroke-linejoin:miter;stroke-opacity:1;\"/>\n",
       "<path d=\"M 195.7,89.9 L 195.0,90.0 L 194.4,90.0 L 193.7,90.0 L 193.0,89.9 L 192.4,89.8 L 191.7,89.7 L 191.1,89.5 L 190.4,89.3 L 189.8,89.1 L 189.2,88.8 L 188.6,88.5 L 188.0,88.2 L 187.4,87.8 L 186.9,87.4 L 186.4,87.0 L 185.9,86.5 L 185.4,86.1 L 185.0,85.6 L 184.5,85.0\" style=\"fill:none;stroke:#007FFF;stroke-width:2.0px;stroke-linecap:butt;stroke-linejoin:miter;stroke-opacity:1;\"/>\n",
       "<path d=\"M 184.5,85.0 L 177.4,85.8\" style=\"fill:none;fill-rule:evenodd;stroke:#007FFF;stroke-width:2.0px;stroke-linecap:butt;stroke-linejoin:miter;stroke-opacity:1\"/>\n",
       "<path d=\"M 183.2,72.9 L 176.0,73.7\" style=\"fill:none;fill-rule:evenodd;stroke:#007FFF;stroke-width:2.0px;stroke-linecap:butt;stroke-linejoin:miter;stroke-opacity:1\"/>\n",
       "<path d=\"M 156.4,88.2 L 155.3,86.4 L 154.6,84.6 L 154.1,82.6 L 154.0,80.6 L 154.2,78.6 L 154.8,76.7 L 155.6,74.8 L 156.8,73.2 L 158.2,71.7 L 159.8,70.6 L 161.6,69.6 L 163.5,69.0 L 165.5,68.8 L 167.5,68.8 L 169.5,69.2 L 171.4,69.9 L 173.1,70.9 L 174.7,72.2 L 176.0,73.7\" style=\"fill:none;stroke:#007FFF;stroke-width:2.0px;stroke-linecap:butt;stroke-linejoin:miter;stroke-opacity:1;\"/>\n",
       "<path d=\"M 177.4,85.8 L 177.1,86.4 L 176.8,87.0 L 176.4,87.6 L 176.0,88.1 L 175.6,88.7 L 175.2,89.2 L 174.7,89.7 L 174.2,90.1 L 173.7,90.5 L 173.1,90.9 L 172.6,91.3 L 172.0,91.6 L 171.4,92.0 L 170.8,92.2 L 170.2,92.5 L 169.5,92.7 L 168.9,92.8 L 168.2,93.0 L 167.5,93.0\" style=\"fill:none;stroke:#007FFF;stroke-width:2.0px;stroke-linecap:butt;stroke-linejoin:miter;stroke-opacity:1;\"/>\n",
       "<path d=\"M 111.4,146.8 L 108.2,146.0 L 105.3,144.3 L 102.9,142.0 L 101.3,139.0 L 100.5,135.8 L 100.7,132.4 L 101.7,129.3 L 103.6,126.5 L 106.1,124.3 L 109.2,122.9 L 112.5,122.5 L 115.8,122.9 L 118.9,124.2 L 121.5,126.3 L 123.5,129.0 L 124.6,132.2 L 124.8,135.5 L 124.1,138.8 L 122.5,141.7\" style=\"fill:none;stroke:#FF7F00;stroke-width:2.0px;stroke-linecap:butt;stroke-linejoin:miter;stroke-opacity:1;\"/>\n",
       "<path d=\"M 122.5,141.7 L 125.5,148.3\" style=\"fill:none;fill-rule:evenodd;stroke:#FF7F00;stroke-width:2.0px;stroke-linecap:butt;stroke-linejoin:miter;stroke-opacity:1\"/>\n",
       "<path d=\"M 111.4,146.8 L 114.4,153.3\" style=\"fill:none;fill-rule:evenodd;stroke:#FF7F00;stroke-width:2.0px;stroke-linecap:butt;stroke-linejoin:miter;stroke-opacity:1\"/>\n",
       "<path d=\"M 160.6,225.8 L 163.8,226.6 L 166.7,228.2 L 169.1,230.6 L 170.7,233.5 L 171.5,236.8 L 171.3,240.1 L 170.3,243.3 L 168.4,246.1 L 165.8,248.2 L 162.8,249.6 L 159.5,250.1 L 156.2,249.7 L 153.1,248.4 L 150.5,246.3 L 148.5,243.5 L 147.4,240.4 L 147.2,237.0 L 147.9,233.8 L 149.4,230.8\" style=\"fill:none;stroke:#FF7F00;stroke-width:2.0px;stroke-linecap:butt;stroke-linejoin:miter;stroke-opacity:1;\"/>\n",
       "<path d=\"M 149.4,230.8 L 146.5,224.2\" style=\"fill:none;fill-rule:evenodd;stroke:#FF7F00;stroke-width:2.0px;stroke-linecap:butt;stroke-linejoin:miter;stroke-opacity:1\"/>\n",
       "<path d=\"M 160.6,225.8 L 157.6,219.2\" style=\"fill:none;fill-rule:evenodd;stroke:#FF7F00;stroke-width:2.0px;stroke-linecap:butt;stroke-linejoin:miter;stroke-opacity:1\"/>\n",
       "<path d=\"M 137.8,205.0 L 138.2,204.4 L 138.6,203.9 L 139.1,203.4 L 139.6,203.0 L 140.1,202.6 L 140.6,202.2 L 141.2,201.8 L 141.8,201.4 L 142.3,201.1 L 143.0,200.8 L 143.6,200.6 L 144.2,200.4 L 144.9,200.2 L 145.5,200.1 L 146.2,200.0 L 146.9,199.9 L 147.5,199.9 L 148.2,199.9 L 148.9,200.0\" style=\"fill:none;stroke:#FF7F00;stroke-width:2.0px;stroke-linecap:butt;stroke-linejoin:miter;stroke-opacity:1;\"/>\n",
       "<path d=\"M 158.8,207.1 L 159.0,207.7 L 159.3,208.3 L 159.4,209.0 L 159.6,209.6 L 159.7,210.3 L 159.8,210.9 L 159.8,211.6 L 159.9,212.3 L 159.8,213.0 L 159.8,213.6 L 159.7,214.3 L 159.5,214.9 L 159.3,215.6 L 159.1,216.2 L 158.9,216.9 L 158.6,217.5 L 158.3,218.1 L 157.9,218.6 L 157.6,219.2\" style=\"fill:none;stroke:#FF7F00;stroke-width:2.0px;stroke-linecap:butt;stroke-linejoin:miter;stroke-opacity:1;\"/>\n",
       "<path d=\"M 146.5,224.2 L 145.8,224.1 L 145.1,224.0 L 144.5,223.8 L 143.8,223.7 L 143.2,223.4 L 142.6,223.2 L 142.0,222.9 L 141.4,222.5 L 140.8,222.2 L 140.3,221.8 L 139.8,221.4 L 139.3,220.9 L 138.8,220.4 L 138.4,219.9 L 137.9,219.4 L 137.5,218.9 L 137.2,218.3 L 136.9,217.7 L 136.6,217.1\" style=\"fill:none;stroke:#FF7F00;stroke-width:2.0px;stroke-linecap:butt;stroke-linejoin:miter;stroke-opacity:1;\"/>\n",
       "<path d=\"M 136.6,217.1 L 129.4,216.4\" style=\"fill:none;fill-rule:evenodd;stroke:#FF7F00;stroke-width:2.0px;stroke-linecap:butt;stroke-linejoin:miter;stroke-opacity:1\"/>\n",
       "<path d=\"M 137.8,205.0 L 130.6,204.3\" style=\"fill:none;fill-rule:evenodd;stroke:#FF7F00;stroke-width:2.0px;stroke-linecap:butt;stroke-linejoin:miter;stroke-opacity:1\"/>\n",
       "<path d=\"M 148.9,200.0 L 153.1,194.1\" style=\"fill:none;fill-rule:evenodd;stroke:#FF7F00;stroke-width:2.0px;stroke-linecap:butt;stroke-linejoin:miter;stroke-opacity:1\"/>\n",
       "<path d=\"M 158.8,207.1 L 163.0,201.2\" style=\"fill:none;fill-rule:evenodd;stroke:#FF7F00;stroke-width:2.0px;stroke-linecap:butt;stroke-linejoin:miter;stroke-opacity:1\"/>\n",
       "<path d=\"M 120.7,197.2 L 121.3,197.2 L 122.0,197.4 L 122.7,197.5 L 123.3,197.7 L 123.9,197.9 L 124.6,198.2 L 125.2,198.5 L 125.7,198.8 L 126.3,199.2 L 126.8,199.6 L 127.4,200.0 L 127.9,200.5 L 128.3,200.9 L 128.8,201.4 L 129.2,202.0 L 129.6,202.5 L 130.0,203.1 L 130.3,203.7 L 130.6,204.3\" style=\"fill:none;stroke:#FF7F00;stroke-width:2.0px;stroke-linecap:butt;stroke-linejoin:miter;stroke-opacity:1;\"/>\n",
       "<path d=\"M 129.4,216.4 L 128.1,217.9 L 126.5,219.2 L 124.8,220.2 L 122.9,221.0 L 121.0,221.4 L 118.9,221.5 L 116.9,221.2 L 115.0,220.6 L 113.2,219.7 L 111.6,218.6 L 110.2,217.1 L 109.0,215.5 L 108.1,213.7 L 107.5,211.8 L 107.3,209.8 L 107.4,207.8 L 107.8,205.8 L 108.5,203.9 L 109.6,202.2\" style=\"fill:none;stroke:#FF7F00;stroke-width:2.0px;stroke-linecap:butt;stroke-linejoin:miter;stroke-opacity:1;\"/>\n",
       "<path d=\"M 109.6,202.2 L 106.6,195.6\" style=\"fill:none;fill-rule:evenodd;stroke:#FF7F00;stroke-width:2.0px;stroke-linecap:butt;stroke-linejoin:miter;stroke-opacity:1\"/>\n",
       "<path d=\"M 120.7,197.2 L 117.7,190.6\" style=\"fill:none;fill-rule:evenodd;stroke:#FF7F00;stroke-width:2.0px;stroke-linecap:butt;stroke-linejoin:miter;stroke-opacity:1\"/>\n",
       "<path d=\"M 106.6,195.6 L 104.6,195.2 L 102.7,194.5 L 101.0,193.6 L 99.4,192.3 L 98.1,190.8 L 97.0,189.1 L 96.2,187.2 L 95.8,185.3 L 95.6,183.3 L 95.8,181.3 L 96.3,179.3 L 97.2,177.5 L 98.3,175.8 L 99.7,174.4 L 101.3,173.2 L 103.1,172.2 L 105.0,171.6 L 107.0,171.3 L 109.0,171.3\" style=\"fill:none;stroke:#FF7F00;stroke-width:2.0px;stroke-linecap:butt;stroke-linejoin:miter;stroke-opacity:1;\"/>\n",
       "<path d=\"M 118.9,178.4 L 119.2,179.1 L 119.4,179.7 L 119.6,180.3 L 119.7,181.0 L 119.8,181.7 L 119.9,182.3 L 120.0,183.0 L 120.0,183.7 L 120.0,184.3 L 119.9,185.0 L 119.8,185.7 L 119.6,186.3 L 119.5,187.0 L 119.3,187.6 L 119.0,188.2 L 118.7,188.8 L 118.4,189.4 L 118.1,190.0 L 117.7,190.6\" style=\"fill:none;stroke:#FF7F00;stroke-width:2.0px;stroke-linecap:butt;stroke-linejoin:miter;stroke-opacity:1;\"/>\n",
       "<path d=\"M 109.0,171.3 L 113.2,165.5\" style=\"fill:none;fill-rule:evenodd;stroke:#FF7F00;stroke-width:2.0px;stroke-linecap:butt;stroke-linejoin:miter;stroke-opacity:1\"/>\n",
       "<path d=\"M 118.9,178.4 L 123.1,172.6\" style=\"fill:none;fill-rule:evenodd;stroke:#FF7F00;stroke-width:2.0px;stroke-linecap:butt;stroke-linejoin:miter;stroke-opacity:1\"/>\n",
       "<path d=\"M 125.5,148.3 L 126.2,148.4 L 126.8,148.5 L 127.5,148.7 L 128.1,148.9 L 128.8,149.1 L 129.4,149.4 L 130.0,149.7 L 130.6,150.0 L 131.1,150.4 L 131.7,150.8 L 132.2,151.2 L 132.7,151.6 L 133.2,152.1 L 133.6,152.6 L 134.1,153.1 L 134.4,153.7 L 134.8,154.2 L 135.1,154.8 L 135.4,155.4\" style=\"fill:none;stroke:#FF7F00;stroke-width:2.0px;stroke-linecap:butt;stroke-linejoin:miter;stroke-opacity:1;\"/>\n",
       "<path d=\"M 134.2,167.6 L 133.8,168.1 L 133.4,168.6 L 132.9,169.1 L 132.4,169.5 L 131.9,170.0 L 131.4,170.4 L 130.8,170.8 L 130.2,171.1 L 129.6,171.4 L 129.0,171.7 L 128.4,171.9 L 127.8,172.1 L 127.1,172.3 L 126.5,172.4 L 125.8,172.5 L 125.1,172.6 L 124.5,172.6 L 123.8,172.6 L 123.1,172.6\" style=\"fill:none;stroke:#FF7F00;stroke-width:2.0px;stroke-linecap:butt;stroke-linejoin:miter;stroke-opacity:1;\"/>\n",
       "<path d=\"M 113.2,165.5 L 113.0,164.9 L 112.7,164.2 L 112.5,163.6 L 112.4,162.9 L 112.3,162.3 L 112.2,161.6 L 112.1,160.9 L 112.1,160.3 L 112.2,159.6 L 112.2,158.9 L 112.3,158.3 L 112.5,157.6 L 112.7,156.9 L 112.9,156.3 L 113.1,155.7 L 113.4,155.1 L 113.7,154.5 L 114.0,153.9 L 114.4,153.3\" style=\"fill:none;stroke:#FF7F00;stroke-width:2.0px;stroke-linecap:butt;stroke-linejoin:miter;stroke-opacity:1;\"/>\n",
       "<path d=\"M 135.4,155.4 L 142.6,156.1\" style=\"fill:none;fill-rule:evenodd;stroke:#FF7F00;stroke-width:2.0px;stroke-linecap:butt;stroke-linejoin:miter;stroke-opacity:1\"/>\n",
       "<path d=\"M 134.2,167.6 L 141.4,168.3\" style=\"fill:none;fill-rule:evenodd;stroke:#FF7F00;stroke-width:2.0px;stroke-linecap:butt;stroke-linejoin:miter;stroke-opacity:1\"/>\n",
       "<path d=\"M 142.6,156.1 L 143.9,154.6 L 145.5,153.3 L 147.2,152.3 L 149.1,151.6 L 151.0,151.2 L 153.0,151.1 L 155.0,151.3 L 157.0,151.9 L 158.8,152.8 L 160.4,154.0 L 161.8,155.4 L 163.0,157.0 L 163.9,158.8 L 164.4,160.8 L 164.7,162.8 L 164.6,164.8 L 164.2,166.8 L 163.4,168.6 L 162.4,170.4\" style=\"fill:none;stroke:#FF7F00;stroke-width:2.0px;stroke-linecap:butt;stroke-linejoin:miter;stroke-opacity:1;\"/>\n",
       "<path d=\"M 151.3,175.4 L 150.6,175.3 L 150.0,175.2 L 149.3,175.0 L 148.7,174.8 L 148.1,174.6 L 147.4,174.3 L 146.8,174.0 L 146.3,173.7 L 145.7,173.3 L 145.1,172.9 L 144.6,172.5 L 144.1,172.1 L 143.6,171.6 L 143.2,171.1 L 142.8,170.6 L 142.4,170.0 L 142.0,169.5 L 141.7,168.9 L 141.4,168.3\" style=\"fill:none;stroke:#FF7F00;stroke-width:2.0px;stroke-linecap:butt;stroke-linejoin:miter;stroke-opacity:1;\"/>\n",
       "<path d=\"M 162.4,170.4 L 165.4,176.9\" style=\"fill:none;fill-rule:evenodd;stroke:#FF7F00;stroke-width:2.0px;stroke-linecap:butt;stroke-linejoin:miter;stroke-opacity:1\"/>\n",
       "<path d=\"M 151.3,175.4 L 154.3,182.0\" style=\"fill:none;fill-rule:evenodd;stroke:#FF7F00;stroke-width:2.0px;stroke-linecap:butt;stroke-linejoin:miter;stroke-opacity:1\"/>\n",
       "<path d=\"M 165.4,176.9 L 167.4,177.3 L 169.3,178.0 L 171.0,179.0 L 172.6,180.2 L 173.9,181.7 L 175.0,183.4 L 175.8,185.3 L 176.2,187.3 L 176.4,189.3 L 176.2,191.3 L 175.7,193.2 L 174.8,195.0 L 173.7,196.7 L 172.3,198.2 L 170.7,199.4 L 168.9,200.3 L 167.0,200.9 L 165.0,201.2 L 163.0,201.2\" style=\"fill:none;stroke:#FF7F00;stroke-width:2.0px;stroke-linecap:butt;stroke-linejoin:miter;stroke-opacity:1;\"/>\n",
       "<path d=\"M 153.1,194.1 L 152.8,193.5 L 152.6,192.8 L 152.4,192.2 L 152.3,191.5 L 152.1,190.9 L 152.1,190.2 L 152.0,189.5 L 152.0,188.9 L 152.0,188.2 L 152.1,187.5 L 152.2,186.9 L 152.3,186.2 L 152.5,185.6 L 152.7,184.9 L 153.0,184.3 L 153.3,183.7 L 153.6,183.1 L 153.9,182.5 L 154.3,182.0\" style=\"fill:none;stroke:#FF7F00;stroke-width:2.0px;stroke-linecap:butt;stroke-linejoin:miter;stroke-opacity:1;\"/>\n",
       "</svg>"
      ],
      "text/plain": [
       "<IPython.core.display.SVG object>"
      ]
     },
     "execution_count": 15,
     "metadata": {},
     "output_type": "execute_result"
    }
   ],
   "source": [
    "sf.to_image(safe_str)"
   ]
  },
  {
   "attachments": {},
   "cell_type": "markdown",
   "metadata": {},
   "source": [
    "There are 3 display modes for highlighting the fragments in a SAFE string. The difference between those modes is highlighted below using two different slicing algorithm. "
   ]
  },
  {
   "attachments": {},
   "cell_type": "markdown",
   "metadata": {},
   "source": [
    "!!! danger \"Overlapping fragments\"\n",
    "    Note that because some fragment might be matching overlapping substructure of the molecules (for example the same fragment appearing multiple time in the molecule), the highlighting might assigned the same color to these fragments."
   ]
  },
  {
   "cell_type": "code",
   "execution_count": 16,
   "metadata": {},
   "outputs": [],
   "source": [
    "\n",
    "from IPython.display import display\n",
    "from ipywidgets import widgets, HBox\n",
    "\n",
    "def display_image(safe_str):\n",
    "    image_lasso = widgets.Image(value=sf.to_image(safe_str, highlight_mode=\"lasso\", legend=\"lasso mode\").data.encode(), format='svg+xml')\n",
    "    image_fill = widgets.Image(value=sf.to_image(safe_str, highlight_mode=\"fill\", legend=\"fill mode\").data.encode(), format='svg+xml')\n",
    "    image_color = widgets.Image(value=sf.to_image(safe_str, highlight_mode=\"color\", legend=\"color mode\").data.encode(), format='svg+xml')\n",
    "    hbox = HBox([image_lasso, image_fill, image_color])\n",
    "    display(hbox)"
   ]
  },
  {
   "cell_type": "code",
   "execution_count": 17,
   "metadata": {},
   "outputs": [
    {
     "data": {
      "application/vnd.jupyter.widget-view+json": {
       "model_id": "55dcf23f9b50458a9a344fe02ae3da40",
       "version_major": 2,
       "version_minor": 0
      },
      "text/plain": [
       "HBox(children=(Image(value=b'<svg xmlns=\"http://www.w3.org/2000/svg\" ...', format='svg+xml'), Image(value=b'<s…"
      ]
     },
     "metadata": {},
     "output_type": "display_data"
    }
   ],
   "source": [
    "# display for brics\n",
    "safe_str_brics = sf.encode(celecoxib_mol, canonical=True, slicer=\"brics\")\n",
    "display_image(safe_str_brics)"
   ]
  },
  {
   "cell_type": "code",
   "execution_count": 18,
   "metadata": {},
   "outputs": [
    {
     "data": {
      "application/vnd.jupyter.widget-view+json": {
       "model_id": "be7f52a0d8ba48539086897d4de6c37c",
       "version_major": 2,
       "version_minor": 0
      },
      "text/plain": [
       "HBox(children=(Image(value=b'<svg xmlns=\"http://www.w3.org/2000/svg\" ...', format='svg+xml'), Image(value=b'<s…"
      ]
     },
     "metadata": {},
     "output_type": "display_data"
    }
   ],
   "source": [
    "# display with HR\n",
    "safe_str_hr = sf.encode(celecoxib_mol, canonical=True, slicer=\"mmpa\")\n",
    "display_image(safe_str_hr)"
   ]
  },
  {
   "attachments": {},
   "cell_type": "markdown",
   "metadata": {},
   "source": [
    "## Understanding SAFE\n",
    "\n",
    "The intuition behind safe is quite simple: we want to represent any molecule as a  `set of connected fragments`.\n",
    "\n",
    "### Preliminary on SMILES.\n",
    "\n",
    "Let's start first by revisiting some information about the SMILES syntax:\n",
    "\n",
    "- **An asterisk `*` in a smiles is usually employed to indicate any atom OR an attachment point of any group. It's particularly useful for smarts matching.**\n",
    "\n",
    "- **Number in smiles syntax indicates connectivity points between two atoms. For 2 digits numbers they would need to be preceeded by `%`**. \n",
    "\n",
    "This is partially explained on the wikipedia [ring section of SMILES](https://en.wikipedia.org/wiki/Simplified_molecular-input_line-entry_system#Rings).\n",
    "\n",
    "- **A dot `.` in smiles indicates the presence of additional fragments and is used to separate them**. \n",
    "\n",
    "A good ressource on the subject is the [DAYLIGHT page](https://www.daylight.com/dayhtml/doc/theory/theory.smiles.html).\n",
    "\n",
    "We illustrate these informations below !"
   ]
  },
  {
   "cell_type": "code",
   "execution_count": 19,
   "metadata": {},
   "outputs": [],
   "source": [
    "import datamol as dm\n",
    "import safe as sf\n",
    "from rdkit import Chem\n",
    "from rdkit.Chem.Draw import rdDepictor\n",
    "from rdkit.Chem import rdChemReactions as rdr\n",
    "rdDepictor.SetPreferCoordGen(True)"
   ]
  },
  {
   "cell_type": "code",
   "execution_count": 20,
   "metadata": {},
   "outputs": [
    {
     "data": {
      "image/svg+xml": [
       "<svg xmlns=\"http://www.w3.org/2000/svg\" xmlns:rdkit=\"http://www.rdkit.org/xml\" xmlns:xlink=\"http://www.w3.org/1999/xlink\" version=\"1.1\" baseProfile=\"full\" xml:space=\"preserve\" width=\"1500px\" height=\"300px\" viewBox=\"0 0 1500 300\">\n",
       "<!-- END OF HEADER -->\n",
       "<rect style=\"opacity:1.0;fill:#FFFFFF;stroke:none\" width=\"1500.0\" height=\"300.0\" x=\"0.0\" y=\"0.0\"> </rect>\n",
       "<path class=\"bond-0 atom-0 atom-1\" d=\"M 101.6,162.9 L 101.6,107.0\" style=\"fill:none;fill-rule:evenodd;stroke:#000000;stroke-width:2.0px;stroke-linecap:butt;stroke-linejoin:miter;stroke-opacity:1\"/>\n",
       "<path class=\"bond-0 atom-0 atom-1\" d=\"M 110.0,158.1 L 110.0,111.9\" style=\"fill:none;fill-rule:evenodd;stroke:#000000;stroke-width:2.0px;stroke-linecap:butt;stroke-linejoin:miter;stroke-opacity:1\"/>\n",
       "<path class=\"bond-1 atom-1 atom-2\" d=\"M 101.6,107.0 L 150.0,79.1\" style=\"fill:none;fill-rule:evenodd;stroke:#000000;stroke-width:2.0px;stroke-linecap:butt;stroke-linejoin:miter;stroke-opacity:1\"/>\n",
       "<path class=\"bond-2 atom-2 atom-3\" d=\"M 150.0,79.1 L 198.4,107.1\" style=\"fill:none;fill-rule:evenodd;stroke:#000000;stroke-width:2.0px;stroke-linecap:butt;stroke-linejoin:miter;stroke-opacity:1\"/>\n",
       "<path class=\"bond-2 atom-2 atom-3\" d=\"M 150.0,88.8 L 190.0,111.9\" style=\"fill:none;fill-rule:evenodd;stroke:#000000;stroke-width:2.0px;stroke-linecap:butt;stroke-linejoin:miter;stroke-opacity:1\"/>\n",
       "<path class=\"bond-3 atom-3 atom-4\" d=\"M 198.4,107.1 L 198.4,163.0\" style=\"fill:none;fill-rule:evenodd;stroke:#000000;stroke-width:2.0px;stroke-linecap:butt;stroke-linejoin:miter;stroke-opacity:1\"/>\n",
       "<path class=\"bond-4 atom-4 atom-5\" d=\"M 198.4,163.0 L 150.0,190.9\" style=\"fill:none;fill-rule:evenodd;stroke:#000000;stroke-width:2.0px;stroke-linecap:butt;stroke-linejoin:miter;stroke-opacity:1\"/>\n",
       "<path class=\"bond-4 atom-4 atom-5\" d=\"M 190.0,158.1 L 150.0,181.2\" style=\"fill:none;fill-rule:evenodd;stroke:#000000;stroke-width:2.0px;stroke-linecap:butt;stroke-linejoin:miter;stroke-opacity:1\"/>\n",
       "<path class=\"bond-5 atom-5 atom-0\" d=\"M 150.0,190.9 L 101.6,162.9\" style=\"fill:none;fill-rule:evenodd;stroke:#000000;stroke-width:2.0px;stroke-linecap:butt;stroke-linejoin:miter;stroke-opacity:1\"/>\n",
       "<path d=\"M 101.6,160.1 L 101.6,162.9 L 104.0,164.3\" style=\"fill:none;stroke:#000000;stroke-width:2.0px;stroke-linecap:butt;stroke-linejoin:miter;stroke-opacity:1;\"/>\n",
       "<path d=\"M 101.6,109.8 L 101.6,107.0 L 104.0,105.6\" style=\"fill:none;stroke:#000000;stroke-width:2.0px;stroke-linecap:butt;stroke-linejoin:miter;stroke-opacity:1;\"/>\n",
       "<path d=\"M 147.6,80.5 L 150.0,79.1 L 152.5,80.5\" style=\"fill:none;stroke:#000000;stroke-width:2.0px;stroke-linecap:butt;stroke-linejoin:miter;stroke-opacity:1;\"/>\n",
       "<path d=\"M 196.0,105.7 L 198.4,107.1 L 198.4,109.9\" style=\"fill:none;stroke:#000000;stroke-width:2.0px;stroke-linecap:butt;stroke-linejoin:miter;stroke-opacity:1;\"/>\n",
       "<path d=\"M 198.4,160.2 L 198.4,163.0 L 196.0,164.4\" style=\"fill:none;stroke:#000000;stroke-width:2.0px;stroke-linecap:butt;stroke-linejoin:miter;stroke-opacity:1;\"/>\n",
       "<path d=\"M 152.4,189.5 L 150.0,190.9 L 147.5,189.5\" style=\"fill:none;stroke:#000000;stroke-width:2.0px;stroke-linecap:butt;stroke-linejoin:miter;stroke-opacity:1;\"/>\n",
       "<path class=\"legend\" d=\"M 124.4 284.0 Q 126.1 284.0, 127.1 285.1 Q 128.0 286.1, 128.0 288.1 Q 128.0 290.2, 126.9 291.3 Q 125.8 292.5, 123.8 292.5 Q 122.5 292.5, 121.3 292.0 L 120.6 291.8 L 120.6 280.2 L 122.1 280.2 L 122.1 285.0 Q 123.0 284.0, 124.4 284.0 M 123.8 291.3 Q 125.1 291.3, 125.8 290.5 Q 126.5 289.6, 126.5 288.1 Q 126.5 286.7, 125.9 286.0 Q 125.4 285.2, 124.3 285.2 Q 123.5 285.2, 122.9 285.6 Q 122.3 286.1, 122.1 286.9 L 122.1 291.1 Q 122.9 291.3, 123.8 291.3 \" fill=\"#000000\"/>\n",
       "<path class=\"legend\" d=\"M 129.5 288.2 Q 129.5 286.2, 130.5 285.1 Q 131.5 284.0, 133.3 284.0 Q 135.2 284.0, 136.0 285.1 Q 136.8 286.2, 136.8 288.2 L 136.8 288.5 L 131.0 288.5 Q 131.1 289.8, 131.7 290.6 Q 132.3 291.3, 133.5 291.3 Q 134.1 291.3, 134.7 291.2 Q 135.3 291.0, 136.0 290.7 L 136.4 291.7 Q 135.6 292.1, 134.9 292.3 Q 134.2 292.5, 133.4 292.5 Q 131.5 292.5, 130.5 291.4 Q 129.5 290.3, 129.5 288.2 M 133.3 285.2 Q 132.4 285.2, 131.8 285.7 Q 131.3 286.3, 131.1 287.3 L 135.2 287.3 Q 135.1 286.2, 134.6 285.7 Q 134.2 285.2, 133.3 285.2 \" fill=\"#000000\"/>\n",
       "<path class=\"legend\" d=\"M 142.4 284.0 Q 143.7 284.0, 144.4 284.8 Q 145.1 285.5, 145.1 286.9 L 145.1 292.4 L 143.6 292.4 L 143.6 287.0 Q 143.6 286.1, 143.2 285.6 Q 142.8 285.2, 142.0 285.2 Q 141.2 285.2, 140.6 285.5 Q 140.0 285.9, 139.6 286.5 L 139.6 292.4 L 138.1 292.4 L 138.1 284.1 L 139.3 284.1 L 139.5 285.3 Q 140.6 284.0, 142.4 284.0 \" fill=\"#000000\"/>\n",
       "<path class=\"legend\" d=\"M 148.8 291.2 L 153.3 291.2 L 153.3 292.4 L 147.0 292.4 L 147.0 291.4 L 151.3 285.3 L 147.2 285.3 L 147.2 284.1 L 153.2 284.1 L 153.2 285.1 L 148.8 291.2 \" fill=\"#000000\"/>\n",
       "<path class=\"legend\" d=\"M 154.6 288.2 Q 154.6 286.2, 155.6 285.1 Q 156.6 284.0, 158.5 284.0 Q 160.3 284.0, 161.1 285.1 Q 161.9 286.2, 161.9 288.2 L 161.9 288.5 L 156.1 288.5 Q 156.2 289.8, 156.8 290.6 Q 157.4 291.3, 158.6 291.3 Q 159.2 291.3, 159.8 291.2 Q 160.4 291.0, 161.1 290.7 L 161.6 291.7 Q 160.7 292.1, 160.0 292.3 Q 159.3 292.5, 158.5 292.5 Q 156.7 292.5, 155.6 291.4 Q 154.6 290.3, 154.6 288.2 M 158.5 285.2 Q 157.5 285.2, 156.9 285.7 Q 156.4 286.3, 156.2 287.3 L 160.3 287.3 Q 160.2 286.2, 159.7 285.7 Q 159.3 285.2, 158.5 285.2 \" fill=\"#000000\"/>\n",
       "<path class=\"legend\" d=\"M 167.5 284.0 Q 168.8 284.0, 169.5 284.8 Q 170.2 285.5, 170.2 286.9 L 170.2 292.4 L 168.7 292.4 L 168.7 287.0 Q 168.7 286.1, 168.3 285.6 Q 167.9 285.2, 167.1 285.2 Q 166.4 285.2, 165.7 285.5 Q 165.1 285.9, 164.7 286.5 L 164.7 292.4 L 163.2 292.4 L 163.2 284.1 L 164.4 284.1 L 164.6 285.3 Q 165.7 284.0, 167.5 284.0 \" fill=\"#000000\"/>\n",
       "<path class=\"legend\" d=\"M 172.1 288.2 Q 172.1 286.2, 173.1 285.1 Q 174.1 284.0, 176.0 284.0 Q 177.8 284.0, 178.6 285.1 Q 179.4 286.2, 179.4 288.2 L 179.4 288.5 L 173.7 288.5 Q 173.7 289.8, 174.3 290.6 Q 174.9 291.3, 176.1 291.3 Q 176.8 291.3, 177.3 291.2 Q 177.9 291.0, 178.7 290.7 L 179.1 291.7 Q 178.3 292.1, 177.5 292.3 Q 176.8 292.5, 176.0 292.5 Q 174.2 292.5, 173.2 291.4 Q 172.1 290.3, 172.1 288.2 M 176.0 285.2 Q 175.0 285.2, 174.5 285.7 Q 173.9 286.3, 173.7 287.3 L 177.8 287.3 Q 177.7 286.2, 177.3 285.7 Q 176.8 285.2, 176.0 285.2 \" fill=\"#000000\"/>\n",
       "<path class=\"bond-0 atom-0 atom-1\" d=\"M 452.0,134.8 L 473.5,134.8\" style=\"fill:none;fill-rule:evenodd;stroke:#FF0000;stroke-width:2.0px;stroke-linecap:butt;stroke-linejoin:miter;stroke-opacity:1\"/>\n",
       "<path class=\"bond-0 atom-0 atom-1\" d=\"M 473.5,134.8 L 495.1,134.8\" style=\"fill:none;fill-rule:evenodd;stroke:#000000;stroke-width:2.0px;stroke-linecap:butt;stroke-linejoin:miter;stroke-opacity:1\"/>\n",
       "<path class=\"atom-0\" d=\"M 404.9 123.1 L 408.1 123.1 L 408.1 133.2 L 420.2 133.2 L 420.2 123.1 L 423.5 123.1 L 423.5 146.8 L 420.2 146.8 L 420.2 135.9 L 408.1 135.9 L 408.1 146.8 L 404.9 146.8 L 404.9 123.1 \" fill=\"#FF0000\"/>\n",
       "<path class=\"atom-0\" d=\"M 428.3 134.9 Q 428.3 129.2, 431.1 126.0 Q 434.0 122.8, 439.2 122.8 Q 444.5 122.8, 447.3 126.0 Q 450.1 129.2, 450.1 134.9 Q 450.1 140.7, 447.3 143.9 Q 444.4 147.2, 439.2 147.2 Q 434.0 147.2, 431.1 143.9 Q 428.3 140.7, 428.3 134.9 M 439.2 144.5 Q 442.8 144.5, 444.8 142.1 Q 446.8 139.6, 446.8 134.9 Q 446.8 130.2, 444.8 127.9 Q 442.8 125.5, 439.2 125.5 Q 435.6 125.5, 433.6 127.8 Q 431.7 130.2, 431.7 134.9 Q 431.7 139.7, 433.6 142.1 Q 435.6 144.5, 439.2 144.5 \" fill=\"#FF0000\"/>\n",
       "<path class=\"legend\" d=\"M 426.2 283.9 Q 427.5 283.9, 428.2 284.7 Q 429.0 285.4, 429.0 286.9 L 429.0 292.3 L 427.4 292.3 L 427.4 287.0 Q 427.4 286.0, 427.1 285.6 Q 426.7 285.1, 425.9 285.1 Q 425.1 285.1, 424.5 285.5 Q 423.9 285.8, 423.5 286.4 Q 423.6 286.6, 423.6 286.9 L 423.6 292.3 L 422.1 292.3 L 422.1 287.0 Q 422.1 286.0, 421.7 285.6 Q 421.3 285.1, 420.5 285.1 Q 419.8 285.1, 419.1 285.5 Q 418.5 285.8, 418.2 286.4 L 418.2 292.3 L 416.6 292.3 L 416.6 284.1 L 417.9 284.1 L 418.0 285.2 Q 419.1 283.9, 420.8 283.9 Q 422.7 283.9, 423.3 285.4 Q 424.4 283.9, 426.2 283.9 \" fill=\"#000000\"/>\n",
       "<path class=\"legend\" d=\"M 430.9 288.2 Q 430.9 286.2, 431.9 285.1 Q 432.9 283.9, 434.7 283.9 Q 436.5 283.9, 437.3 285.0 Q 438.2 286.1, 438.2 288.1 L 438.2 288.4 L 432.4 288.4 Q 432.4 289.8, 433.1 290.5 Q 433.7 291.3, 434.9 291.3 Q 435.5 291.3, 436.1 291.1 Q 436.7 290.9, 437.4 290.6 L 437.8 291.7 Q 437.0 292.1, 436.3 292.3 Q 435.5 292.4, 434.8 292.4 Q 432.9 292.4, 431.9 291.3 Q 430.9 290.2, 430.9 288.2 M 434.7 285.1 Q 433.8 285.1, 433.2 285.7 Q 432.7 286.2, 432.5 287.3 L 436.6 287.3 Q 436.5 286.2, 436.0 285.7 Q 435.6 285.1, 434.7 285.1 \" fill=\"#000000\"/>\n",
       "<path class=\"legend\" d=\"M 439.5 285.2 L 439.5 284.1 L 441.0 284.1 L 441.3 281.7 L 442.4 281.7 L 442.4 284.1 L 444.9 284.1 L 444.9 285.2 L 442.4 285.2 L 442.4 289.8 Q 442.4 291.2, 443.6 291.2 Q 444.1 291.2, 444.8 291.0 L 445.0 292.0 Q 444.2 292.4, 443.3 292.4 Q 442.3 292.4, 441.6 291.8 Q 440.9 291.1, 440.9 289.9 L 440.9 285.2 L 439.5 285.2 \" fill=\"#000000\"/>\n",
       "<path class=\"legend\" d=\"M 450.4 283.9 Q 451.7 283.9, 452.4 284.7 Q 453.1 285.4, 453.1 286.9 L 453.1 292.3 L 451.6 292.3 L 451.6 287.0 Q 451.6 286.0, 451.2 285.6 Q 450.9 285.1, 450.0 285.1 Q 449.3 285.1, 448.7 285.5 Q 448.0 285.8, 447.6 286.4 L 447.6 292.3 L 446.1 292.3 L 446.1 280.2 L 447.6 280.2 L 447.6 285.1 Q 448.7 283.9, 450.4 283.9 \" fill=\"#000000\"/>\n",
       "<path class=\"legend\" d=\"M 455.0 290.1 Q 455.0 288.8, 456.1 288.1 Q 457.2 287.3, 459.1 287.3 L 460.3 287.3 L 460.3 287.0 Q 460.3 286.0, 459.9 285.6 Q 459.5 285.1, 458.4 285.1 Q 457.8 285.1, 457.3 285.3 Q 456.8 285.4, 456.0 285.7 L 455.5 284.7 Q 457.0 283.9, 458.5 283.9 Q 460.2 283.9, 461.0 284.7 Q 461.8 285.4, 461.8 287.0 L 461.8 292.3 L 460.6 292.3 Q 460.6 292.2, 460.6 292.0 Q 460.5 291.7, 460.4 291.3 Q 459.3 292.5, 457.7 292.5 Q 456.5 292.5, 455.8 291.8 Q 455.0 291.2, 455.0 290.1 M 456.5 290.1 Q 456.5 290.7, 456.9 291.0 Q 457.3 291.3, 458.0 291.3 Q 458.7 291.3, 459.3 291.0 Q 459.9 290.7, 460.3 290.2 L 460.3 288.5 L 459.2 288.5 Q 457.9 288.5, 457.2 288.9 Q 456.5 289.3, 456.5 290.1 \" fill=\"#000000\"/>\n",
       "<path class=\"legend\" d=\"M 468.0 283.9 Q 469.3 283.9, 470.0 284.7 Q 470.7 285.4, 470.7 286.9 L 470.7 292.3 L 469.2 292.3 L 469.2 287.0 Q 469.2 286.0, 468.8 285.6 Q 468.5 285.1, 467.6 285.1 Q 466.9 285.1, 466.3 285.5 Q 465.6 285.8, 465.2 286.4 L 465.2 292.3 L 463.7 292.3 L 463.7 284.1 L 465.0 284.1 L 465.1 285.2 Q 466.2 283.9, 468.0 283.9 \" fill=\"#000000\"/>\n",
       "<path class=\"legend\" d=\"M 472.6 288.2 Q 472.6 286.2, 473.7 285.1 Q 474.7 283.9, 476.5 283.9 Q 478.4 283.9, 479.4 285.1 Q 480.5 286.2, 480.5 288.2 Q 480.5 290.2, 479.4 291.3 Q 478.4 292.4, 476.5 292.4 Q 474.7 292.4, 473.7 291.3 Q 472.6 290.2, 472.6 288.2 M 474.2 288.2 Q 474.2 289.7, 474.8 290.5 Q 475.4 291.3, 476.5 291.3 Q 477.7 291.3, 478.3 290.5 Q 478.9 289.7, 478.9 288.2 Q 478.9 286.7, 478.3 285.9 Q 477.7 285.1, 476.5 285.1 Q 475.4 285.1, 474.8 285.9 Q 474.2 286.7, 474.2 288.2 \" fill=\"#000000\"/>\n",
       "<path class=\"legend\" d=\"M 481.9 280.2 L 483.4 280.2 L 483.4 292.3 L 481.9 292.3 L 481.9 280.2 \" fill=\"#000000\"/>\n",
       "<path class=\"bond-0 atom-0 atom-1\" d=\"M 825.3,163.2 L 776.7,190.9\" style=\"fill:none;fill-rule:evenodd;stroke:#000000;stroke-width:2.0px;stroke-linecap:butt;stroke-linejoin:miter;stroke-opacity:1\"/>\n",
       "<path class=\"bond-0 atom-0 atom-1\" d=\"M 817.0,158.4 L 776.8,181.2\" style=\"fill:none;fill-rule:evenodd;stroke:#000000;stroke-width:2.0px;stroke-linecap:butt;stroke-linejoin:miter;stroke-opacity:1\"/>\n",
       "<path class=\"bond-1 atom-1 atom-2\" d=\"M 776.7,190.9 L 728.5,162.6\" style=\"fill:none;fill-rule:evenodd;stroke:#000000;stroke-width:2.0px;stroke-linecap:butt;stroke-linejoin:miter;stroke-opacity:1\"/>\n",
       "<path class=\"bond-2 atom-2 atom-3\" d=\"M 728.5,162.6 L 708.0,174.3\" style=\"fill:none;fill-rule:evenodd;stroke:#000000;stroke-width:2.0px;stroke-linecap:butt;stroke-linejoin:miter;stroke-opacity:1\"/>\n",
       "<path class=\"bond-2 atom-2 atom-3\" d=\"M 708.0,174.3 L 687.4,186.0\" style=\"fill:none;fill-rule:evenodd;stroke:#191919;stroke-width:2.0px;stroke-linecap:butt;stroke-linejoin:miter;stroke-opacity:1\"/>\n",
       "<path class=\"bond-3 atom-2 atom-4\" d=\"M 728.5,162.6 L 728.9,106.7\" style=\"fill:none;fill-rule:evenodd;stroke:#000000;stroke-width:2.0px;stroke-linecap:butt;stroke-linejoin:miter;stroke-opacity:1\"/>\n",
       "<path class=\"bond-3 atom-2 atom-4\" d=\"M 736.9,157.8 L 737.2,111.6\" style=\"fill:none;fill-rule:evenodd;stroke:#000000;stroke-width:2.0px;stroke-linecap:butt;stroke-linejoin:miter;stroke-opacity:1\"/>\n",
       "<path class=\"bond-4 atom-4 atom-5\" d=\"M 728.9,106.7 L 777.5,79.1\" style=\"fill:none;fill-rule:evenodd;stroke:#000000;stroke-width:2.0px;stroke-linecap:butt;stroke-linejoin:miter;stroke-opacity:1\"/>\n",
       "<path class=\"bond-5 atom-5 atom-6\" d=\"M 777.5,79.1 L 825.7,107.4\" style=\"fill:none;fill-rule:evenodd;stroke:#000000;stroke-width:2.0px;stroke-linecap:butt;stroke-linejoin:miter;stroke-opacity:1\"/>\n",
       "<path class=\"bond-5 atom-5 atom-6\" d=\"M 777.4,88.8 L 817.3,112.2\" style=\"fill:none;fill-rule:evenodd;stroke:#000000;stroke-width:2.0px;stroke-linecap:butt;stroke-linejoin:miter;stroke-opacity:1\"/>\n",
       "<path class=\"bond-6 atom-6 atom-0\" d=\"M 825.7,107.4 L 825.3,163.2\" style=\"fill:none;fill-rule:evenodd;stroke:#000000;stroke-width:2.0px;stroke-linecap:butt;stroke-linejoin:miter;stroke-opacity:1\"/>\n",
       "<path d=\"M 822.9,164.6 L 825.3,163.2 L 825.3,160.5\" style=\"fill:none;stroke:#000000;stroke-width:2.0px;stroke-linecap:butt;stroke-linejoin:miter;stroke-opacity:1;\"/>\n",
       "<path d=\"M 779.2,189.5 L 776.7,190.9 L 774.3,189.5\" style=\"fill:none;stroke:#000000;stroke-width:2.0px;stroke-linecap:butt;stroke-linejoin:miter;stroke-opacity:1;\"/>\n",
       "<path d=\"M 728.9,109.5 L 728.9,106.7 L 731.3,105.4\" style=\"fill:none;stroke:#000000;stroke-width:2.0px;stroke-linecap:butt;stroke-linejoin:miter;stroke-opacity:1;\"/>\n",
       "<path d=\"M 775.0,80.5 L 777.5,79.1 L 779.9,80.5\" style=\"fill:none;stroke:#000000;stroke-width:2.0px;stroke-linecap:butt;stroke-linejoin:miter;stroke-opacity:1;\"/>\n",
       "<path d=\"M 823.3,106.0 L 825.7,107.4 L 825.7,110.2\" style=\"fill:none;stroke:#000000;stroke-width:2.0px;stroke-linecap:butt;stroke-linejoin:miter;stroke-opacity:1;\"/>\n",
       "<path class=\"atom-3\" d=\"M 675.5 187.6 L 678.9 184.1 L 674.3 183.1 L 675.0 180.7 L 679.3 182.9 L 678.7 178.2 L 681.2 178.2 L 680.5 182.9 L 684.8 180.8 L 685.6 183.1 L 680.9 184.0 L 684.2 187.6 L 682.2 189.1 L 679.9 184.6 L 677.5 189.1 L 675.5 187.6 \" fill=\"#191919\"/>\n",
       "<path class=\"legend\" d=\"M 707.2 280.1 Q 708.9 280.1, 709.8 281.2 Q 710.8 282.2, 710.8 284.2 Q 710.8 286.3, 709.6 287.5 Q 708.5 288.6, 706.6 288.6 Q 705.6 288.6, 704.8 288.4 L 704.8 292.4 L 703.3 292.4 L 703.3 280.3 L 704.6 280.3 L 704.8 281.3 Q 705.2 280.7, 705.8 280.4 Q 706.4 280.1, 707.2 280.1 M 706.5 287.4 Q 707.8 287.4, 708.5 286.6 Q 709.2 285.7, 709.2 284.2 Q 709.2 282.8, 708.7 282.1 Q 708.1 281.3, 707.1 281.3 Q 706.3 281.3, 705.7 281.7 Q 705.1 282.2, 704.8 282.9 L 704.8 287.2 Q 705.7 287.4, 706.5 287.4 \" fill=\"#000000\"/>\n",
       "<path class=\"legend\" d=\"M 716.4 280.1 Q 717.7 280.1, 718.4 280.9 Q 719.1 281.6, 719.1 283.0 L 719.1 288.5 L 717.6 288.5 L 717.6 283.2 Q 717.6 282.2, 717.2 281.7 Q 716.8 281.3, 716.0 281.3 Q 715.3 281.3, 714.6 281.7 Q 714.0 282.0, 713.6 282.6 L 713.6 288.5 L 712.1 288.5 L 712.1 276.3 L 713.6 276.3 L 713.6 281.3 Q 714.7 280.1, 716.4 280.1 \" fill=\"#000000\"/>\n",
       "<path class=\"legend\" d=\"M 720.9 284.4 Q 720.9 282.3, 721.9 281.2 Q 722.9 280.1, 724.8 280.1 Q 726.6 280.1, 727.4 281.2 Q 728.2 282.3, 728.2 284.3 L 728.2 284.6 L 722.5 284.6 Q 722.5 286.0, 723.1 286.7 Q 723.7 287.4, 724.9 287.4 Q 725.6 287.4, 726.1 287.3 Q 726.7 287.1, 727.5 286.8 L 727.9 287.8 Q 727.1 288.2, 726.3 288.4 Q 725.6 288.6, 724.8 288.6 Q 723.0 288.6, 722.0 287.5 Q 720.9 286.4, 720.9 284.4 M 724.8 281.3 Q 723.8 281.3, 723.3 281.8 Q 722.7 282.4, 722.5 283.4 L 726.6 283.4 Q 726.5 282.3, 726.1 281.8 Q 725.6 281.3, 724.8 281.3 \" fill=\"#000000\"/>\n",
       "<path class=\"legend\" d=\"M 733.7 280.1 Q 735.0 280.1, 735.7 280.9 Q 736.4 281.6, 736.4 283.0 L 736.4 288.5 L 734.9 288.5 L 734.9 283.2 Q 734.9 282.2, 734.5 281.7 Q 734.2 281.3, 733.3 281.3 Q 732.6 281.3, 732.0 281.7 Q 731.3 282.0, 730.9 282.6 L 730.9 288.5 L 729.4 288.5 L 729.4 280.3 L 730.7 280.3 L 730.8 281.4 Q 731.9 280.1, 733.7 280.1 \" fill=\"#000000\"/>\n",
       "<path class=\"legend\" d=\"M 744.6 280.3 L 746.0 280.3 L 741.8 292.4 L 740.4 292.4 L 741.8 288.5 L 741.2 288.5 L 738.3 280.3 L 739.8 280.3 L 742.2 287.2 L 744.6 280.3 \" fill=\"#000000\"/>\n",
       "<path class=\"legend\" d=\"M 746.8 276.3 L 748.3 276.3 L 748.3 288.5 L 746.8 288.5 L 746.8 276.3 \" fill=\"#000000\"/>\n",
       "<path class=\"legend\" d=\"\" fill=\"#000000\"/>\n",
       "<path class=\"legend\" d=\"M 763.7 280.2 L 763.7 289.0 Q 763.7 292.5, 759.9 292.5 Q 758.1 292.5, 756.5 291.7 L 757.0 290.6 Q 757.9 291.0, 758.5 291.2 Q 759.1 291.3, 759.9 291.3 Q 761.1 291.3, 761.6 290.8 Q 762.2 290.2, 762.2 289.0 L 762.2 287.6 Q 761.3 288.6, 759.8 288.6 Q 758.1 288.6, 757.1 287.6 Q 756.2 286.5, 756.2 284.5 Q 756.2 282.4, 757.3 281.3 Q 758.5 280.1, 760.4 280.1 Q 761.5 280.1, 762.4 280.4 L 762.5 280.2 L 763.7 280.2 M 759.9 287.4 Q 760.7 287.4, 761.3 287.0 Q 761.9 286.5, 762.2 285.7 L 762.2 281.5 Q 761.3 281.3, 760.4 281.3 Q 759.2 281.3, 758.5 282.1 Q 757.7 283.0, 757.7 284.5 Q 757.7 285.9, 758.3 286.7 Q 758.9 287.4, 759.9 287.4 \" fill=\"#000000\"/>\n",
       "<path class=\"legend\" d=\"M 766.8 280.3 L 767.0 281.4 Q 767.9 280.1, 769.3 280.1 Q 769.7 280.1, 770.3 280.3 L 770.1 281.6 Q 769.4 281.5, 769.0 281.5 Q 768.3 281.5, 767.9 281.7 Q 767.5 282.0, 767.1 282.6 L 767.1 288.5 L 765.6 288.5 L 765.6 280.3 L 766.8 280.3 \" fill=\"#000000\"/>\n",
       "<path class=\"legend\" d=\"M 771.2 284.4 Q 771.2 282.4, 772.2 281.2 Q 773.2 280.1, 775.1 280.1 Q 776.9 280.1, 777.9 281.2 Q 779.0 282.4, 779.0 284.4 Q 779.0 286.4, 777.9 287.5 Q 776.9 288.6, 775.1 288.6 Q 773.2 288.6, 772.2 287.5 Q 771.2 286.4, 771.2 284.4 M 772.7 284.4 Q 772.7 285.9, 773.3 286.6 Q 773.9 287.4, 775.1 287.4 Q 776.2 287.4, 776.8 286.6 Q 777.4 285.9, 777.4 284.4 Q 777.4 282.9, 776.8 282.1 Q 776.2 281.3, 775.1 281.3 Q 773.9 281.3, 773.3 282.1 Q 772.7 282.9, 772.7 284.4 \" fill=\"#000000\"/>\n",
       "<path class=\"legend\" d=\"M 787.3 280.3 L 787.3 288.5 L 786.1 288.5 L 785.9 287.3 Q 784.8 288.6, 783.1 288.6 Q 781.7 288.6, 781.0 287.9 Q 780.3 287.1, 780.3 285.7 L 780.3 280.3 L 781.8 280.3 L 781.8 285.6 Q 781.8 286.6, 782.2 287.0 Q 782.6 287.4, 783.4 287.4 Q 784.1 287.4, 784.8 287.1 Q 785.4 286.8, 785.8 286.1 L 785.8 280.3 L 787.3 280.3 \" fill=\"#000000\"/>\n",
       "<path class=\"legend\" d=\"M 793.0 280.1 Q 794.8 280.1, 795.7 281.2 Q 796.7 282.2, 796.7 284.2 Q 796.7 286.3, 795.5 287.5 Q 794.4 288.6, 792.4 288.6 Q 791.5 288.6, 790.7 288.4 L 790.7 292.4 L 789.2 292.4 L 789.2 280.3 L 790.4 280.3 L 790.6 281.3 Q 791.1 280.7, 791.7 280.4 Q 792.3 280.1, 793.0 280.1 M 792.4 287.4 Q 793.7 287.4, 794.4 286.6 Q 795.1 285.7, 795.1 284.2 Q 795.1 282.8, 794.5 282.1 Q 794.0 281.3, 792.9 281.3 Q 792.1 281.3, 791.5 281.7 Q 791.0 282.2, 790.7 282.9 L 790.7 287.2 Q 791.5 287.4, 792.4 287.4 \" fill=\"#000000\"/>\n",
       "<path class=\"bond-0 atom-0 atom-1\" d=\"M 1040.1,134.4 L 1026.0,142.5\" style=\"fill:none;fill-rule:evenodd;stroke:#FF0000;stroke-width:2.0px;stroke-linecap:butt;stroke-linejoin:miter;stroke-opacity:1\"/>\n",
       "<path class=\"bond-0 atom-0 atom-1\" d=\"M 1026.0,142.5 L 1011.9,150.6\" style=\"fill:none;fill-rule:evenodd;stroke:#191919;stroke-width:2.0px;stroke-linecap:butt;stroke-linejoin:miter;stroke-opacity:1\"/>\n",
       "<path class=\"bond-1 atom-0 atom-2\" d=\"M 1065.6,134.4 L 1083.4,144.7\" style=\"fill:none;fill-rule:evenodd;stroke:#FF0000;stroke-width:2.0px;stroke-linecap:butt;stroke-linejoin:miter;stroke-opacity:1\"/>\n",
       "<path class=\"bond-1 atom-0 atom-2\" d=\"M 1083.4,144.7 L 1101.2,155.0\" style=\"fill:none;fill-rule:evenodd;stroke:#000000;stroke-width:2.0px;stroke-linecap:butt;stroke-linejoin:miter;stroke-opacity:1\"/>\n",
       "<path class=\"atom-0\" d=\"M 1041.9 127.1 Q 1041.9 121.4, 1044.7 118.2 Q 1047.6 115.0, 1052.8 115.0 Q 1058.1 115.0, 1060.9 118.2 Q 1063.7 121.4, 1063.7 127.1 Q 1063.7 132.8, 1060.9 136.1 Q 1058.0 139.4, 1052.8 139.4 Q 1047.6 139.4, 1044.7 136.1 Q 1041.9 132.9, 1041.9 127.1 M 1052.8 136.7 Q 1056.5 136.7, 1058.4 134.3 Q 1060.4 131.8, 1060.4 127.1 Q 1060.4 122.4, 1058.4 120.1 Q 1056.5 117.7, 1052.8 117.7 Q 1049.2 117.7, 1047.2 120.0 Q 1045.3 122.4, 1045.3 127.1 Q 1045.3 131.9, 1047.2 134.3 Q 1049.2 136.7, 1052.8 136.7 \" fill=\"#FF0000\"/>\n",
       "<path class=\"atom-1\" d=\"M 999.9 152.3 L 1003.4 148.7 L 998.8 147.8 L 999.5 145.4 L 1003.8 147.5 L 1003.1 142.9 L 1005.7 142.8 L 1005.0 147.5 L 1009.3 145.5 L 1010.0 147.8 L 1005.3 148.6 L 1008.7 152.2 L 1006.6 153.7 L 1004.3 149.3 L 1002.0 153.7 L 999.9 152.3 \" fill=\"#191919\"/>\n",
       "<path class=\"legend\" d=\"M 1006.8 288.5 L 1005.4 288.5 L 1004.2 279.2 L 1001.1 288.5 L 999.6 288.5 L 996.5 279.2 L 995.3 288.5 L 993.9 288.5 L 995.3 277.2 L 997.2 277.2 L 1000.4 286.3 L 1003.5 277.2 L 1005.4 277.2 L 1006.8 288.5 \" fill=\"#000000\"/>\n",
       "<path class=\"legend\" d=\"M 1008.6 284.4 Q 1008.6 282.3, 1009.6 281.2 Q 1010.6 280.1, 1012.4 280.1 Q 1014.2 280.1, 1015.0 281.2 Q 1015.8 282.3, 1015.8 284.3 L 1015.8 284.6 L 1010.1 284.6 Q 1010.1 286.0, 1010.8 286.7 Q 1011.4 287.4, 1012.6 287.4 Q 1013.2 287.4, 1013.8 287.3 Q 1014.4 287.1, 1015.1 286.8 L 1015.5 287.8 Q 1014.7 288.2, 1014.0 288.4 Q 1013.2 288.6, 1012.5 288.6 Q 1010.6 288.6, 1009.6 287.5 Q 1008.6 286.4, 1008.6 284.4 M 1012.4 281.3 Q 1011.5 281.3, 1010.9 281.8 Q 1010.3 282.4, 1010.2 283.4 L 1014.3 283.4 Q 1014.2 282.3, 1013.7 281.8 Q 1013.3 281.3, 1012.4 281.3 \" fill=\"#000000\"/>\n",
       "<path class=\"legend\" d=\"M 1017.2 281.4 L 1017.2 280.3 L 1018.7 280.3 L 1019.0 277.9 L 1020.1 277.9 L 1020.1 280.3 L 1022.6 280.3 L 1022.6 281.4 L 1020.1 281.4 L 1020.1 286.0 Q 1020.1 287.4, 1021.3 287.4 Q 1021.8 287.4, 1022.5 287.2 L 1022.7 288.2 Q 1021.9 288.6, 1021.0 288.6 Q 1020.0 288.6, 1019.3 287.9 Q 1018.6 287.3, 1018.6 286.0 L 1018.6 281.4 L 1017.2 281.4 \" fill=\"#000000\"/>\n",
       "<path class=\"legend\" d=\"M 1028.1 280.1 Q 1029.4 280.1, 1030.1 280.9 Q 1030.8 281.6, 1030.8 283.0 L 1030.8 288.5 L 1029.3 288.5 L 1029.3 283.2 Q 1029.3 282.2, 1028.9 281.7 Q 1028.6 281.3, 1027.7 281.3 Q 1027.0 281.3, 1026.4 281.7 Q 1025.7 282.0, 1025.3 282.6 L 1025.3 288.5 L 1023.8 288.5 L 1023.8 276.3 L 1025.3 276.3 L 1025.3 281.3 Q 1026.4 280.1, 1028.1 280.1 \" fill=\"#000000\"/>\n",
       "<path class=\"legend\" d=\"M 1032.8 284.4 Q 1032.8 282.4, 1033.8 281.2 Q 1034.8 280.1, 1036.7 280.1 Q 1038.5 280.1, 1039.5 281.2 Q 1040.6 282.4, 1040.6 284.4 Q 1040.6 286.4, 1039.5 287.5 Q 1038.5 288.6, 1036.7 288.6 Q 1034.8 288.6, 1033.8 287.5 Q 1032.8 286.4, 1032.8 284.4 M 1034.3 284.4 Q 1034.3 285.9, 1034.9 286.6 Q 1035.5 287.4, 1036.7 287.4 Q 1037.8 287.4, 1038.4 286.6 Q 1039.0 285.9, 1039.0 284.4 Q 1039.0 282.9, 1038.4 282.1 Q 1037.8 281.3, 1036.7 281.3 Q 1035.5 281.3, 1034.9 282.1 Q 1034.3 282.9, 1034.3 284.4 \" fill=\"#000000\"/>\n",
       "<path class=\"legend\" d=\"M 1045.0 284.2 L 1042.2 280.3 L 1043.9 280.3 L 1045.9 283.1 L 1047.9 280.3 L 1049.5 280.3 L 1046.7 284.2 L 1049.8 288.5 L 1048.0 288.5 L 1045.8 285.4 L 1043.6 288.5 L 1042.0 288.5 L 1045.0 284.2 \" fill=\"#000000\"/>\n",
       "<path class=\"legend\" d=\"M 1056.9 280.3 L 1058.4 280.3 L 1054.1 292.4 L 1052.8 292.4 L 1054.1 288.5 L 1053.5 288.5 L 1050.6 280.3 L 1052.1 280.3 L 1054.6 287.2 L 1056.9 280.3 \" fill=\"#000000\"/>\n",
       "<path class=\"legend\" d=\"\" fill=\"#000000\"/>\n",
       "<path class=\"legend\" d=\"M 1072.7 280.2 L 1072.7 289.0 Q 1072.7 292.5, 1069.0 292.5 Q 1067.2 292.5, 1065.6 291.7 L 1066.1 290.6 Q 1067.0 291.0, 1067.6 291.2 Q 1068.2 291.3, 1069.0 291.3 Q 1070.2 291.3, 1070.7 290.8 Q 1071.2 290.2, 1071.2 289.0 L 1071.2 287.6 Q 1070.4 288.6, 1068.9 288.6 Q 1067.2 288.6, 1066.2 287.6 Q 1065.3 286.5, 1065.3 284.5 Q 1065.3 282.4, 1066.4 281.3 Q 1067.5 280.1, 1069.5 280.1 Q 1070.5 280.1, 1071.5 280.4 L 1071.5 280.2 L 1072.7 280.2 M 1069.0 287.4 Q 1069.8 287.4, 1070.4 287.0 Q 1071.0 286.5, 1071.2 285.7 L 1071.2 281.5 Q 1070.4 281.3, 1069.5 281.3 Q 1068.3 281.3, 1067.5 282.1 Q 1066.8 283.0, 1066.8 284.5 Q 1066.8 285.9, 1067.4 286.7 Q 1067.9 287.4, 1069.0 287.4 \" fill=\"#000000\"/>\n",
       "<path class=\"legend\" d=\"M 1076.0 280.3 L 1076.2 281.4 Q 1077.0 280.1, 1078.4 280.1 Q 1078.9 280.1, 1079.5 280.3 L 1079.3 281.6 Q 1078.6 281.5, 1078.2 281.5 Q 1077.5 281.5, 1077.1 281.7 Q 1076.6 282.0, 1076.3 282.6 L 1076.3 288.5 L 1074.8 288.5 L 1074.8 280.3 L 1076.0 280.3 \" fill=\"#000000\"/>\n",
       "<path class=\"legend\" d=\"M 1080.4 284.4 Q 1080.4 282.4, 1081.4 281.2 Q 1082.5 280.1, 1084.3 280.1 Q 1086.2 280.1, 1087.2 281.2 Q 1088.2 282.4, 1088.2 284.4 Q 1088.2 286.4, 1087.2 287.5 Q 1086.2 288.6, 1084.3 288.6 Q 1082.5 288.6, 1081.4 287.5 Q 1080.4 286.4, 1080.4 284.4 M 1082.0 284.4 Q 1082.0 285.9, 1082.6 286.6 Q 1083.2 287.4, 1084.3 287.4 Q 1085.5 287.4, 1086.1 286.6 Q 1086.7 285.9, 1086.7 284.4 Q 1086.7 282.9, 1086.1 282.1 Q 1085.5 281.3, 1084.3 281.3 Q 1083.2 281.3, 1082.6 282.1 Q 1082.0 282.9, 1082.0 284.4 \" fill=\"#000000\"/>\n",
       "<path class=\"legend\" d=\"M 1096.7 280.3 L 1096.7 288.5 L 1095.4 288.5 L 1095.3 287.3 Q 1094.2 288.6, 1092.5 288.6 Q 1091.1 288.6, 1090.4 287.9 Q 1089.7 287.1, 1089.7 285.7 L 1089.7 280.3 L 1091.2 280.3 L 1091.2 285.6 Q 1091.2 286.6, 1091.5 287.0 Q 1091.9 287.4, 1092.8 287.4 Q 1093.5 287.4, 1094.1 287.1 Q 1094.8 286.8, 1095.2 286.1 L 1095.2 280.3 L 1096.7 280.3 \" fill=\"#000000\"/>\n",
       "<path class=\"legend\" d=\"M 1102.5 280.1 Q 1104.2 280.1, 1105.2 281.2 Q 1106.1 282.2, 1106.1 284.2 Q 1106.1 286.3, 1105.0 287.5 Q 1103.9 288.6, 1101.9 288.6 Q 1101.0 288.6, 1100.2 288.4 L 1100.2 292.4 L 1098.7 292.4 L 1098.7 280.3 L 1099.9 280.3 L 1100.1 281.3 Q 1100.5 280.7, 1101.1 280.4 Q 1101.7 280.1, 1102.5 280.1 M 1101.9 287.4 Q 1103.1 287.4, 1103.9 286.6 Q 1104.6 285.7, 1104.6 284.2 Q 1104.6 282.8, 1104.0 282.1 Q 1103.4 281.3, 1102.4 281.3 Q 1101.6 281.3, 1101.0 281.7 Q 1100.4 282.2, 1100.2 282.9 L 1100.2 287.2 Q 1101.0 287.4, 1101.9 287.4 \" fill=\"#000000\"/>\n",
       "<path class=\"bond-0 atom-0 atom-1\" d=\"M 1425.3,96.4 L 1376.7,124.1\" style=\"fill:none;fill-rule:evenodd;stroke:#000000;stroke-width:2.0px;stroke-linecap:butt;stroke-linejoin:miter;stroke-opacity:1\"/>\n",
       "<path class=\"bond-0 atom-0 atom-1\" d=\"M 1417.0,91.5 L 1376.8,114.4\" style=\"fill:none;fill-rule:evenodd;stroke:#000000;stroke-width:2.0px;stroke-linecap:butt;stroke-linejoin:miter;stroke-opacity:1\"/>\n",
       "<path class=\"bond-1 atom-1 atom-2\" d=\"M 1376.7,124.1 L 1328.5,95.8\" style=\"fill:none;fill-rule:evenodd;stroke:#000000;stroke-width:2.0px;stroke-linecap:butt;stroke-linejoin:miter;stroke-opacity:1\"/>\n",
       "<path class=\"bond-2 atom-2 atom-3\" d=\"M 1328.5,95.8 L 1308.0,107.5\" style=\"fill:none;fill-rule:evenodd;stroke:#000000;stroke-width:2.0px;stroke-linecap:butt;stroke-linejoin:miter;stroke-opacity:1\"/>\n",
       "<path class=\"bond-2 atom-2 atom-3\" d=\"M 1308.0,107.5 L 1287.4,119.2\" style=\"fill:none;fill-rule:evenodd;stroke:#191919;stroke-width:2.0px;stroke-linecap:butt;stroke-linejoin:miter;stroke-opacity:1\"/>\n",
       "<path class=\"bond-3 atom-2 atom-4\" d=\"M 1328.5,95.8 L 1328.9,39.9\" style=\"fill:none;fill-rule:evenodd;stroke:#000000;stroke-width:2.0px;stroke-linecap:butt;stroke-linejoin:miter;stroke-opacity:1\"/>\n",
       "<path class=\"bond-3 atom-2 atom-4\" d=\"M 1336.9,91.0 L 1337.2,44.8\" style=\"fill:none;fill-rule:evenodd;stroke:#000000;stroke-width:2.0px;stroke-linecap:butt;stroke-linejoin:miter;stroke-opacity:1\"/>\n",
       "<path class=\"bond-4 atom-4 atom-5\" d=\"M 1328.9,39.9 L 1377.5,12.3\" style=\"fill:none;fill-rule:evenodd;stroke:#000000;stroke-width:2.0px;stroke-linecap:butt;stroke-linejoin:miter;stroke-opacity:1\"/>\n",
       "<path class=\"bond-5 atom-5 atom-6\" d=\"M 1377.5,12.3 L 1425.7,40.5\" style=\"fill:none;fill-rule:evenodd;stroke:#000000;stroke-width:2.0px;stroke-linecap:butt;stroke-linejoin:miter;stroke-opacity:1\"/>\n",
       "<path class=\"bond-5 atom-5 atom-6\" d=\"M 1377.4,22.0 L 1417.3,45.3\" style=\"fill:none;fill-rule:evenodd;stroke:#000000;stroke-width:2.0px;stroke-linecap:butt;stroke-linejoin:miter;stroke-opacity:1\"/>\n",
       "<path class=\"bond-6 atom-7 atom-8\" d=\"M 1350.5,237.1 L 1336.4,245.2\" style=\"fill:none;fill-rule:evenodd;stroke:#FF0000;stroke-width:2.0px;stroke-linecap:butt;stroke-linejoin:miter;stroke-opacity:1\"/>\n",
       "<path class=\"bond-6 atom-7 atom-8\" d=\"M 1336.4,245.2 L 1322.3,253.3\" style=\"fill:none;fill-rule:evenodd;stroke:#191919;stroke-width:2.0px;stroke-linecap:butt;stroke-linejoin:miter;stroke-opacity:1\"/>\n",
       "<path class=\"bond-7 atom-7 atom-9\" d=\"M 1376.0,237.1 L 1393.8,247.4\" style=\"fill:none;fill-rule:evenodd;stroke:#FF0000;stroke-width:2.0px;stroke-linecap:butt;stroke-linejoin:miter;stroke-opacity:1\"/>\n",
       "<path class=\"bond-7 atom-7 atom-9\" d=\"M 1393.8,247.4 L 1411.6,257.7\" style=\"fill:none;fill-rule:evenodd;stroke:#000000;stroke-width:2.0px;stroke-linecap:butt;stroke-linejoin:miter;stroke-opacity:1\"/>\n",
       "<path class=\"bond-8 atom-6 atom-0\" d=\"M 1425.7,40.5 L 1425.3,96.4\" style=\"fill:none;fill-rule:evenodd;stroke:#000000;stroke-width:2.0px;stroke-linecap:butt;stroke-linejoin:miter;stroke-opacity:1\"/>\n",
       "<path d=\"M 1422.9,97.8 L 1425.3,96.4 L 1425.3,93.6\" style=\"fill:none;stroke:#000000;stroke-width:2.0px;stroke-linecap:butt;stroke-linejoin:miter;stroke-opacity:1;\"/>\n",
       "<path d=\"M 1379.2,122.7 L 1376.7,124.1 L 1374.3,122.6\" style=\"fill:none;stroke:#000000;stroke-width:2.0px;stroke-linecap:butt;stroke-linejoin:miter;stroke-opacity:1;\"/>\n",
       "<path d=\"M 1328.9,42.7 L 1328.9,39.9 L 1331.3,38.5\" style=\"fill:none;stroke:#000000;stroke-width:2.0px;stroke-linecap:butt;stroke-linejoin:miter;stroke-opacity:1;\"/>\n",
       "<path d=\"M 1375.0,13.7 L 1377.5,12.3 L 1379.9,13.7\" style=\"fill:none;stroke:#000000;stroke-width:2.0px;stroke-linecap:butt;stroke-linejoin:miter;stroke-opacity:1;\"/>\n",
       "<path d=\"M 1423.3,39.1 L 1425.7,40.5 L 1425.7,43.3\" style=\"fill:none;stroke:#000000;stroke-width:2.0px;stroke-linecap:butt;stroke-linejoin:miter;stroke-opacity:1;\"/>\n",
       "<path class=\"atom-3\" d=\"M 1275.5 120.8 L 1278.9 117.2 L 1274.3 116.3 L 1275.0 113.9 L 1279.3 116.1 L 1278.7 111.4 L 1281.2 111.4 L 1280.5 116.0 L 1284.8 114.0 L 1285.6 116.3 L 1280.9 117.2 L 1284.2 120.7 L 1282.2 122.2 L 1279.9 117.8 L 1277.5 122.2 L 1275.5 120.8 \" fill=\"#191919\"/>\n",
       "<path class=\"atom-7\" d=\"M 1352.3 229.8 Q 1352.3 224.1, 1355.2 220.9 Q 1358.0 217.7, 1363.2 217.7 Q 1368.5 217.7, 1371.3 220.9 Q 1374.1 224.1, 1374.1 229.8 Q 1374.1 235.6, 1371.3 238.9 Q 1368.4 242.1, 1363.2 242.1 Q 1358.0 242.1, 1355.2 238.9 Q 1352.3 235.6, 1352.3 229.8 M 1363.2 239.4 Q 1366.9 239.4, 1368.8 237.0 Q 1370.8 234.6, 1370.8 229.8 Q 1370.8 225.1, 1368.8 222.8 Q 1366.9 220.4, 1363.2 220.4 Q 1359.6 220.4, 1357.6 222.8 Q 1355.7 225.1, 1355.7 229.8 Q 1355.7 234.6, 1357.6 237.0 Q 1359.6 239.4, 1363.2 239.4 \" fill=\"#FF0000\"/>\n",
       "<path class=\"atom-8\" d=\"M 1310.3 255.0 L 1313.8 251.4 L 1309.2 250.5 L 1309.9 248.1 L 1314.2 250.3 L 1313.6 245.6 L 1316.1 245.6 L 1315.4 250.2 L 1319.7 248.2 L 1320.4 250.5 L 1315.7 251.4 L 1319.1 255.0 L 1317.0 256.4 L 1314.7 252.0 L 1312.4 256.4 L 1310.3 255.0 \" fill=\"#191919\"/>\n",
       "<path class=\"legend\" d=\"M 1312.9 284.5 Q 1312.9 282.5, 1313.9 281.3 Q 1314.8 280.2, 1316.8 280.2 Q 1318.7 280.2, 1319.6 281.6 L 1318.6 282.3 Q 1318.3 281.9, 1317.8 281.6 Q 1317.4 281.4, 1316.8 281.4 Q 1315.7 281.4, 1315.0 282.2 Q 1314.4 282.9, 1314.4 284.5 Q 1314.4 286.0, 1315.0 286.8 Q 1315.7 287.5, 1316.9 287.5 Q 1317.6 287.5, 1318.0 287.4 Q 1318.5 287.2, 1319.1 287.0 L 1319.5 288.0 Q 1318.3 288.7, 1316.8 288.7 Q 1314.8 288.7, 1313.9 287.6 Q 1312.9 286.4, 1312.9 284.5 \" fill=\"#000000\"/>\n",
       "<path class=\"legend\" d=\"M 1320.7 284.5 Q 1320.7 282.5, 1321.7 281.3 Q 1322.8 280.2, 1324.6 280.2 Q 1326.5 280.2, 1327.5 281.3 Q 1328.5 282.5, 1328.5 284.5 Q 1328.5 286.5, 1327.5 287.6 Q 1326.5 288.7, 1324.6 288.7 Q 1322.8 288.7, 1321.7 287.6 Q 1320.7 286.5, 1320.7 284.5 M 1322.3 284.5 Q 1322.3 286.0, 1322.9 286.7 Q 1323.5 287.5, 1324.6 287.5 Q 1325.8 287.5, 1326.4 286.7 Q 1327.0 286.0, 1327.0 284.5 Q 1327.0 282.9, 1326.4 282.2 Q 1325.8 281.4, 1324.6 281.4 Q 1323.5 281.4, 1322.9 282.2 Q 1322.3 282.9, 1322.3 284.5 \" fill=\"#000000\"/>\n",
       "<path class=\"legend\" d=\"M 1339.5 280.2 Q 1340.9 280.2, 1341.6 281.0 Q 1342.3 281.7, 1342.3 283.1 L 1342.3 288.6 L 1340.8 288.6 L 1340.8 283.3 Q 1340.8 282.3, 1340.4 281.8 Q 1340.0 281.4, 1339.2 281.4 Q 1338.5 281.4, 1337.8 281.7 Q 1337.2 282.1, 1336.9 282.7 Q 1336.9 282.8, 1336.9 283.1 L 1336.9 288.6 L 1335.4 288.6 L 1335.4 283.3 Q 1335.4 282.3, 1335.0 281.8 Q 1334.6 281.4, 1333.8 281.4 Q 1333.1 281.4, 1332.5 281.7 Q 1331.8 282.1, 1331.5 282.7 L 1331.5 288.6 L 1330.0 288.6 L 1330.0 280.4 L 1331.2 280.4 L 1331.4 281.5 Q 1332.4 280.2, 1334.1 280.2 Q 1336.0 280.2, 1336.6 281.7 Q 1337.7 280.2, 1339.5 280.2 \" fill=\"#000000\"/>\n",
       "<path class=\"legend\" d=\"M 1348.0 280.2 Q 1349.7 280.2, 1350.7 281.3 Q 1351.6 282.3, 1351.6 284.3 Q 1351.6 286.4, 1350.5 287.6 Q 1349.4 288.7, 1347.4 288.7 Q 1346.5 288.7, 1345.7 288.5 L 1345.7 292.5 L 1344.2 292.5 L 1344.2 280.4 L 1345.4 280.4 L 1345.6 281.3 Q 1346.0 280.8, 1346.6 280.5 Q 1347.3 280.2, 1348.0 280.2 M 1347.4 287.5 Q 1348.7 287.5, 1349.4 286.7 Q 1350.1 285.8, 1350.1 284.3 Q 1350.1 282.9, 1349.5 282.2 Q 1349.0 281.4, 1347.9 281.4 Q 1347.1 281.4, 1346.5 281.8 Q 1345.9 282.3, 1345.7 283.0 L 1345.7 287.3 Q 1346.5 287.5, 1347.4 287.5 \" fill=\"#000000\"/>\n",
       "<path class=\"legend\" d=\"M 1353.0 284.5 Q 1353.0 282.5, 1354.0 281.3 Q 1355.1 280.2, 1356.9 280.2 Q 1358.8 280.2, 1359.8 281.3 Q 1360.8 282.5, 1360.8 284.5 Q 1360.8 286.5, 1359.8 287.6 Q 1358.8 288.7, 1356.9 288.7 Q 1355.1 288.7, 1354.0 287.6 Q 1353.0 286.5, 1353.0 284.5 M 1354.6 284.5 Q 1354.6 286.0, 1355.2 286.7 Q 1355.8 287.5, 1356.9 287.5 Q 1358.1 287.5, 1358.7 286.7 Q 1359.3 286.0, 1359.3 284.5 Q 1359.3 282.9, 1358.7 282.2 Q 1358.1 281.4, 1356.9 281.4 Q 1355.8 281.4, 1355.2 282.2 Q 1354.6 282.9, 1354.6 284.5 \" fill=\"#000000\"/>\n",
       "<path class=\"legend\" d=\"M 1362.7 286.9 Q 1363.5 287.2, 1364.0 287.3 Q 1364.5 287.5, 1365.1 287.5 Q 1365.8 287.5, 1366.2 287.2 Q 1366.6 286.9, 1366.6 286.3 Q 1366.6 285.9, 1366.4 285.7 Q 1366.2 285.4, 1365.9 285.3 Q 1365.6 285.2, 1364.9 285.0 Q 1364.8 284.9, 1364.1 284.7 Q 1363.3 284.4, 1362.9 283.9 Q 1362.5 283.3, 1362.5 282.5 Q 1362.5 281.6, 1363.3 280.9 Q 1364.1 280.2, 1365.6 280.2 Q 1366.2 280.2, 1366.7 280.4 Q 1367.3 280.5, 1367.9 280.7 L 1367.5 281.9 Q 1367.0 281.7, 1366.5 281.6 Q 1366.1 281.5, 1365.6 281.5 Q 1364.8 281.5, 1364.4 281.8 Q 1364.1 282.1, 1364.1 282.5 Q 1364.1 283.0, 1364.4 283.2 Q 1364.7 283.4, 1365.3 283.7 Q 1365.5 283.7, 1365.7 283.8 L 1366.0 283.9 Q 1366.7 284.1, 1367.1 284.4 Q 1367.5 284.6, 1367.8 285.0 Q 1368.1 285.5, 1368.1 286.2 Q 1368.1 287.4, 1367.3 288.1 Q 1366.4 288.7, 1365.1 288.7 Q 1364.3 288.7, 1363.6 288.6 Q 1362.9 288.4, 1362.3 288.1 L 1362.7 286.9 \" fill=\"#000000\"/>\n",
       "<path class=\"legend\" d=\"M 1369.6 277.3 L 1371.1 277.3 L 1371.1 278.6 L 1369.6 278.6 L 1369.6 277.3 M 1369.6 280.4 L 1371.1 280.4 L 1371.1 288.6 L 1369.6 288.6 L 1369.6 280.4 \" fill=\"#000000\"/>\n",
       "<path class=\"legend\" d=\"M 1373.2 281.5 L 1373.2 280.4 L 1374.7 280.4 L 1375.0 278.0 L 1376.1 278.0 L 1376.1 280.4 L 1378.6 280.4 L 1378.6 281.5 L 1376.1 281.5 L 1376.1 286.1 Q 1376.1 287.5, 1377.3 287.5 Q 1377.8 287.5, 1378.5 287.3 L 1378.8 288.3 Q 1377.9 288.7, 1377.1 288.7 Q 1376.0 288.7, 1375.3 288.0 Q 1374.6 287.4, 1374.6 286.1 L 1374.6 281.5 L 1373.2 281.5 \" fill=\"#000000\"/>\n",
       "<path class=\"legend\" d=\"M 1379.9 284.5 Q 1379.9 282.4, 1380.9 281.3 Q 1381.9 280.2, 1383.7 280.2 Q 1385.5 280.2, 1386.3 281.3 Q 1387.1 282.4, 1387.1 284.4 L 1387.1 284.7 L 1381.4 284.7 Q 1381.4 286.1, 1382.0 286.8 Q 1382.7 287.5, 1383.8 287.5 Q 1384.5 287.5, 1385.1 287.4 Q 1385.7 287.2, 1386.4 286.9 L 1386.8 287.9 Q 1386.0 288.3, 1385.3 288.5 Q 1384.5 288.7, 1383.8 288.7 Q 1381.9 288.7, 1380.9 287.6 Q 1379.9 286.5, 1379.9 284.5 M 1383.7 281.4 Q 1382.8 281.4, 1382.2 281.9 Q 1381.6 282.5, 1381.5 283.5 L 1385.6 283.5 Q 1385.4 282.4, 1385.0 281.9 Q 1384.5 281.4, 1383.7 281.4 \" fill=\"#000000\"/>\n",
       "</svg>"
      ],
      "text/plain": [
       "<IPython.core.display.SVG object>"
      ]
     },
     "execution_count": 20,
     "metadata": {},
     "output_type": "execute_result"
    }
   ],
   "source": [
    "smiles = ['c1ccccc1', 'OC', 'c1cc(*)ccc1', 'O(*)C', 'c1cc(*)ccc1.O(*)C']\n",
    "legends = ['benzene', 'methanol', 'phenyl group', 'Methoxy group', 'composite']\n",
    "dm.viz.to_image([dm.to_mol(x) for x in smiles], legends=legends, n_cols=len(smiles), use_svg=True)"
   ]
  },
  {
   "attachments": {},
   "cell_type": "markdown",
   "metadata": {},
   "source": [
    "In the example above, we can see that `phenol` can be represented as two fragments that can be connected given proper attachment point. \n",
    "\n",
    "To achieve this we are interested in attaching 2 fragments together (the `methoxy` and the `phenyl` groups). In RDKit, this can usually be achieved using chemical reactions. For convenience, we will prefer a standardized representation of attachment points that includes an atom mapping."
   ]
  },
  {
   "cell_type": "code",
   "execution_count": 21,
   "metadata": {},
   "outputs": [
    {
     "data": {
      "image/svg+xml": [
       "<svg xmlns=\"http://www.w3.org/2000/svg\" xmlns:rdkit=\"http://www.rdkit.org/xml\" xmlns:xlink=\"http://www.w3.org/1999/xlink\" version=\"1.1\" baseProfile=\"full\" xml:space=\"preserve\" width=\"600px\" height=\"300px\" viewBox=\"0 0 600 300\">\n",
       "<!-- END OF HEADER -->\n",
       "<rect style=\"opacity:1.0;fill:#FFFFFF;stroke:none\" width=\"600.0\" height=\"300.0\" x=\"0.0\" y=\"0.0\"> </rect>\n",
       "<path class=\"bond-0 atom-0 atom-1\" d=\"M 229.8,109.1 L 178.3,138.4\" style=\"fill:none;fill-rule:evenodd;stroke:#000000;stroke-width:2.0px;stroke-linecap:butt;stroke-linejoin:miter;stroke-opacity:1\"/>\n",
       "<path class=\"bond-0 atom-0 atom-1\" d=\"M 220.9,103.9 L 178.4,128.2\" style=\"fill:none;fill-rule:evenodd;stroke:#000000;stroke-width:2.0px;stroke-linecap:butt;stroke-linejoin:miter;stroke-opacity:1\"/>\n",
       "<path class=\"bond-1 atom-1 atom-2\" d=\"M 178.3,138.4 L 127.2,108.5\" style=\"fill:none;fill-rule:evenodd;stroke:#000000;stroke-width:2.0px;stroke-linecap:butt;stroke-linejoin:miter;stroke-opacity:1\"/>\n",
       "<path class=\"bond-2 atom-2 atom-3\" d=\"M 127.2,108.5 L 105.5,120.9\" style=\"fill:none;fill-rule:evenodd;stroke:#000000;stroke-width:2.0px;stroke-linecap:butt;stroke-linejoin:miter;stroke-opacity:1\"/>\n",
       "<path class=\"bond-2 atom-2 atom-3\" d=\"M 105.5,120.9 L 83.7,133.2\" style=\"fill:none;fill-rule:evenodd;stroke:#191919;stroke-width:2.0px;stroke-linecap:butt;stroke-linejoin:miter;stroke-opacity:1\"/>\n",
       "<path class=\"bond-3 atom-2 atom-4\" d=\"M 127.2,108.5 L 127.6,49.3\" style=\"fill:none;fill-rule:evenodd;stroke:#000000;stroke-width:2.0px;stroke-linecap:butt;stroke-linejoin:miter;stroke-opacity:1\"/>\n",
       "<path class=\"bond-3 atom-2 atom-4\" d=\"M 136.2,103.4 L 136.5,54.4\" style=\"fill:none;fill-rule:evenodd;stroke:#000000;stroke-width:2.0px;stroke-linecap:butt;stroke-linejoin:miter;stroke-opacity:1\"/>\n",
       "<path class=\"bond-4 atom-4 atom-5\" d=\"M 127.6,49.3 L 179.1,20.0\" style=\"fill:none;fill-rule:evenodd;stroke:#000000;stroke-width:2.0px;stroke-linecap:butt;stroke-linejoin:miter;stroke-opacity:1\"/>\n",
       "<path class=\"bond-5 atom-5 atom-6\" d=\"M 179.1,20.0 L 230.2,49.9\" style=\"fill:none;fill-rule:evenodd;stroke:#000000;stroke-width:2.0px;stroke-linecap:butt;stroke-linejoin:miter;stroke-opacity:1\"/>\n",
       "<path class=\"bond-5 atom-5 atom-6\" d=\"M 179.0,30.2 L 221.3,55.0\" style=\"fill:none;fill-rule:evenodd;stroke:#000000;stroke-width:2.0px;stroke-linecap:butt;stroke-linejoin:miter;stroke-opacity:1\"/>\n",
       "<path class=\"bond-6 atom-7 atom-8\" d=\"M 150.5,258.1 L 135.6,266.8\" style=\"fill:none;fill-rule:evenodd;stroke:#FF0000;stroke-width:2.0px;stroke-linecap:butt;stroke-linejoin:miter;stroke-opacity:1\"/>\n",
       "<path class=\"bond-6 atom-7 atom-8\" d=\"M 135.6,266.8 L 120.6,275.4\" style=\"fill:none;fill-rule:evenodd;stroke:#191919;stroke-width:2.0px;stroke-linecap:butt;stroke-linejoin:miter;stroke-opacity:1\"/>\n",
       "<path class=\"bond-7 atom-7 atom-9\" d=\"M 177.5,258.2 L 196.4,269.1\" style=\"fill:none;fill-rule:evenodd;stroke:#FF0000;stroke-width:2.0px;stroke-linecap:butt;stroke-linejoin:miter;stroke-opacity:1\"/>\n",
       "<path class=\"bond-7 atom-7 atom-9\" d=\"M 196.4,269.1 L 215.3,280.0\" style=\"fill:none;fill-rule:evenodd;stroke:#000000;stroke-width:2.0px;stroke-linecap:butt;stroke-linejoin:miter;stroke-opacity:1\"/>\n",
       "<path class=\"bond-8 atom-6 atom-0\" d=\"M 230.2,49.9 L 229.8,109.1\" style=\"fill:none;fill-rule:evenodd;stroke:#000000;stroke-width:2.0px;stroke-linecap:butt;stroke-linejoin:miter;stroke-opacity:1\"/>\n",
       "<path d=\"M 227.2,110.6 L 229.8,109.1 L 229.8,106.2\" style=\"fill:none;stroke:#000000;stroke-width:2.0px;stroke-linecap:butt;stroke-linejoin:miter;stroke-opacity:1;\"/>\n",
       "<path d=\"M 180.9,136.9 L 178.3,138.4 L 175.8,136.9\" style=\"fill:none;stroke:#000000;stroke-width:2.0px;stroke-linecap:butt;stroke-linejoin:miter;stroke-opacity:1;\"/>\n",
       "<path d=\"M 127.6,52.2 L 127.6,49.3 L 130.2,47.8\" style=\"fill:none;stroke:#000000;stroke-width:2.0px;stroke-linecap:butt;stroke-linejoin:miter;stroke-opacity:1;\"/>\n",
       "<path d=\"M 176.5,21.5 L 179.1,20.0 L 181.6,21.5\" style=\"fill:none;stroke:#000000;stroke-width:2.0px;stroke-linecap:butt;stroke-linejoin:miter;stroke-opacity:1;\"/>\n",
       "<path d=\"M 227.6,48.4 L 230.2,49.9 L 230.2,52.9\" style=\"fill:none;stroke:#000000;stroke-width:2.0px;stroke-linecap:butt;stroke-linejoin:miter;stroke-opacity:1;\"/>\n",
       "<path class=\"atom-3\" d=\"M 71.0 134.9 L 74.7 131.2 L 69.8 130.2 L 70.6 127.7 L 75.1 129.9 L 74.4 125.0 L 77.1 125.0 L 76.4 129.9 L 80.9 127.8 L 81.7 130.2 L 76.8 131.1 L 80.3 134.9 L 78.1 136.5 L 75.7 131.8 L 73.2 136.5 L 71.0 134.9 \" fill=\"#191919\"/>\n",
       "<path class=\"atom-7\" d=\"M 152.5 250.4 Q 152.5 244.4, 155.5 241.0 Q 158.4 237.6, 164.0 237.6 Q 169.6 237.6, 172.6 241.0 Q 175.6 244.4, 175.6 250.4 Q 175.6 256.5, 172.6 260.0 Q 169.5 263.5, 164.0 263.5 Q 158.5 263.5, 155.5 260.0 Q 152.5 256.6, 152.5 250.4 M 164.0 260.6 Q 167.9 260.6, 169.9 258.1 Q 172.0 255.5, 172.0 250.4 Q 172.0 245.5, 169.9 243.0 Q 167.9 240.5, 164.0 240.5 Q 160.2 240.5, 158.1 243.0 Q 156.0 245.5, 156.0 250.4 Q 156.0 255.5, 158.1 258.1 Q 160.2 260.6, 164.0 260.6 \" fill=\"#FF0000\"/>\n",
       "<path class=\"atom-8\" d=\"M 108.0 277.1 L 111.7 273.4 L 106.8 272.4 L 107.5 269.8 L 112.0 272.1 L 111.4 267.2 L 114.1 267.1 L 113.3 272.1 L 117.9 269.9 L 118.7 272.4 L 113.7 273.3 L 117.3 277.1 L 115.1 278.6 L 112.6 274.0 L 110.2 278.6 L 108.0 277.1 \" fill=\"#191919\"/>\n",
       "<path class=\"bond-0 atom-0 atom-1\" d=\"M 541.2,102.8 L 489.8,132.1\" style=\"fill:none;fill-rule:evenodd;stroke:#000000;stroke-width:2.0px;stroke-linecap:butt;stroke-linejoin:miter;stroke-opacity:1\"/>\n",
       "<path class=\"bond-0 atom-0 atom-1\" d=\"M 532.4,97.6 L 489.8,121.8\" style=\"fill:none;fill-rule:evenodd;stroke:#000000;stroke-width:2.0px;stroke-linecap:butt;stroke-linejoin:miter;stroke-opacity:1\"/>\n",
       "<path class=\"bond-1 atom-1 atom-2\" d=\"M 489.8,132.1 L 438.7,102.1\" style=\"fill:none;fill-rule:evenodd;stroke:#000000;stroke-width:2.0px;stroke-linecap:butt;stroke-linejoin:miter;stroke-opacity:1\"/>\n",
       "<path class=\"bond-2 atom-2 atom-3\" d=\"M 438.7,102.1 L 417.7,114.0\" style=\"fill:none;fill-rule:evenodd;stroke:#000000;stroke-width:2.0px;stroke-linecap:butt;stroke-linejoin:miter;stroke-opacity:1\"/>\n",
       "<path class=\"bond-2 atom-2 atom-3\" d=\"M 417.7,114.0 L 396.7,126.0\" style=\"fill:none;fill-rule:evenodd;stroke:#191919;stroke-width:2.0px;stroke-linecap:butt;stroke-linejoin:miter;stroke-opacity:1\"/>\n",
       "<path class=\"bond-3 atom-2 atom-4\" d=\"M 438.7,102.1 L 439.1,42.9\" style=\"fill:none;fill-rule:evenodd;stroke:#000000;stroke-width:2.0px;stroke-linecap:butt;stroke-linejoin:miter;stroke-opacity:1\"/>\n",
       "<path class=\"bond-3 atom-2 atom-4\" d=\"M 447.6,97.0 L 447.9,48.1\" style=\"fill:none;fill-rule:evenodd;stroke:#000000;stroke-width:2.0px;stroke-linecap:butt;stroke-linejoin:miter;stroke-opacity:1\"/>\n",
       "<path class=\"bond-4 atom-4 atom-5\" d=\"M 439.1,42.9 L 490.5,13.6\" style=\"fill:none;fill-rule:evenodd;stroke:#000000;stroke-width:2.0px;stroke-linecap:butt;stroke-linejoin:miter;stroke-opacity:1\"/>\n",
       "<path class=\"bond-5 atom-5 atom-6\" d=\"M 490.5,13.6 L 541.6,43.6\" style=\"fill:none;fill-rule:evenodd;stroke:#000000;stroke-width:2.0px;stroke-linecap:butt;stroke-linejoin:miter;stroke-opacity:1\"/>\n",
       "<path class=\"bond-5 atom-5 atom-6\" d=\"M 490.4,23.9 L 532.7,48.6\" style=\"fill:none;fill-rule:evenodd;stroke:#000000;stroke-width:2.0px;stroke-linecap:butt;stroke-linejoin:miter;stroke-opacity:1\"/>\n",
       "<path class=\"bond-6 atom-7 atom-8\" d=\"M 462.0,251.8 L 447.8,259.9\" style=\"fill:none;fill-rule:evenodd;stroke:#FF0000;stroke-width:2.0px;stroke-linecap:butt;stroke-linejoin:miter;stroke-opacity:1\"/>\n",
       "<path class=\"bond-6 atom-7 atom-8\" d=\"M 447.8,259.9 L 433.7,268.1\" style=\"fill:none;fill-rule:evenodd;stroke:#191919;stroke-width:2.0px;stroke-linecap:butt;stroke-linejoin:miter;stroke-opacity:1\"/>\n",
       "<path class=\"bond-7 atom-7 atom-9\" d=\"M 489.0,251.8 L 507.8,262.7\" style=\"fill:none;fill-rule:evenodd;stroke:#FF0000;stroke-width:2.0px;stroke-linecap:butt;stroke-linejoin:miter;stroke-opacity:1\"/>\n",
       "<path class=\"bond-7 atom-7 atom-9\" d=\"M 507.8,262.7 L 526.7,273.7\" style=\"fill:none;fill-rule:evenodd;stroke:#000000;stroke-width:2.0px;stroke-linecap:butt;stroke-linejoin:miter;stroke-opacity:1\"/>\n",
       "<path class=\"bond-8 atom-6 atom-0\" d=\"M 541.6,43.6 L 541.2,102.8\" style=\"fill:none;fill-rule:evenodd;stroke:#000000;stroke-width:2.0px;stroke-linecap:butt;stroke-linejoin:miter;stroke-opacity:1\"/>\n",
       "<path d=\"M 538.6,104.2 L 541.2,102.8 L 541.2,99.8\" style=\"fill:none;stroke:#000000;stroke-width:2.0px;stroke-linecap:butt;stroke-linejoin:miter;stroke-opacity:1;\"/>\n",
       "<path d=\"M 492.3,130.6 L 489.8,132.1 L 487.2,130.6\" style=\"fill:none;stroke:#000000;stroke-width:2.0px;stroke-linecap:butt;stroke-linejoin:miter;stroke-opacity:1;\"/>\n",
       "<path d=\"M 439.0,45.9 L 439.1,42.9 L 441.6,41.4\" style=\"fill:none;stroke:#000000;stroke-width:2.0px;stroke-linecap:butt;stroke-linejoin:miter;stroke-opacity:1;\"/>\n",
       "<path d=\"M 487.9,15.1 L 490.5,13.6 L 493.1,15.1\" style=\"fill:none;stroke:#000000;stroke-width:2.0px;stroke-linecap:butt;stroke-linejoin:miter;stroke-opacity:1;\"/>\n",
       "<path d=\"M 539.0,42.1 L 541.6,43.6 L 541.6,46.5\" style=\"fill:none;stroke:#000000;stroke-width:2.0px;stroke-linecap:butt;stroke-linejoin:miter;stroke-opacity:1;\"/>\n",
       "<path class=\"atom-3\" d=\"M 359.6 128.6 L 363.3 124.8 L 358.4 123.8 L 359.1 121.3 L 363.7 123.6 L 363.0 118.6 L 365.7 118.6 L 364.9 123.5 L 369.5 121.4 L 370.3 123.8 L 365.3 124.7 L 368.9 128.5 L 366.7 130.1 L 364.3 125.4 L 361.8 130.1 L 359.6 128.6 \" fill=\"#191919\"/>\n",
       "<path class=\"atom-3\" d=\"M 372.4 140.0 L 375.9 140.0 L 375.9 143.6 L 372.4 143.6 L 372.4 140.0 M 372.4 127.8 L 375.9 127.8 L 375.9 131.4 L 372.4 131.4 L 372.4 127.8 \" fill=\"#191919\"/>\n",
       "<path class=\"atom-3\" d=\"M 381.0 141.3 L 386.5 141.3 L 386.5 122.5 L 380.4 124.4 L 379.6 122.3 L 387.3 118.9 L 389.9 119.3 L 389.9 141.3 L 394.8 141.3 L 394.8 144.2 L 381.0 144.2 L 381.0 141.3 \" fill=\"#191919\"/>\n",
       "<path class=\"atom-7\" d=\"M 463.9 244.1 Q 463.9 238.0, 466.9 234.7 Q 469.9 231.3, 475.5 231.3 Q 481.0 231.3, 484.0 234.7 Q 487.0 238.0, 487.0 244.1 Q 487.0 250.2, 484.0 253.7 Q 481.0 257.1, 475.5 257.1 Q 469.9 257.1, 466.9 253.7 Q 463.9 250.2, 463.9 244.1 M 475.5 254.3 Q 479.3 254.3, 481.4 251.7 Q 483.4 249.1, 483.4 244.1 Q 483.4 239.1, 481.4 236.7 Q 479.3 234.1, 475.5 234.1 Q 471.6 234.1, 469.5 236.6 Q 467.5 239.1, 467.5 244.1 Q 467.5 249.2, 469.5 251.7 Q 471.6 254.3, 475.5 254.3 \" fill=\"#FF0000\"/>\n",
       "<path class=\"atom-8\" d=\"M 396.6 270.8 L 400.3 267.0 L 395.3 266.0 L 396.1 263.5 L 400.6 265.8 L 400.0 260.8 L 402.6 260.8 L 401.9 265.7 L 406.5 263.6 L 407.2 266.0 L 402.3 266.9 L 405.8 270.7 L 403.7 272.3 L 401.2 267.6 L 398.7 272.3 L 396.6 270.8 \" fill=\"#191919\"/>\n",
       "<path class=\"atom-8\" d=\"M 409.3 282.2 L 412.9 282.2 L 412.9 285.8 L 409.3 285.8 L 409.3 282.2 M 409.3 270.0 L 412.9 270.0 L 412.9 273.5 L 409.3 273.5 L 409.3 270.0 \" fill=\"#191919\"/>\n",
       "<path class=\"atom-8\" d=\"M 418.0 283.5 L 423.5 283.5 L 423.5 264.7 L 417.4 266.6 L 416.6 264.5 L 424.3 261.1 L 426.8 261.5 L 426.8 283.5 L 431.7 283.5 L 431.7 286.4 L 418.0 286.4 L 418.0 283.5 \" fill=\"#191919\"/>\n",
       "</svg>"
      ],
      "text/plain": [
       "<IPython.core.display.SVG object>"
      ]
     },
     "execution_count": 21,
     "metadata": {},
     "output_type": "execute_result"
    }
   ],
   "source": [
    "smiles = [ 'c1cc(*)ccc1.O(*)C', 'c1cc([*:1])ccc1.O([*:1])C'] #\n",
    "dm.viz.to_image([dm.to_mol(x) for x in smiles], n_cols=len(smiles), use_svg=True)"
   ]
  },
  {
   "attachments": {},
   "cell_type": "markdown",
   "metadata": {},
   "source": [
    "To attach the two fragments, I can write a simple chemical transformation. Since smarts and smiles syntax do not mix very well when it comes to `*` I will assume an isotopic representation `[1*]` instead of `[*:1]`\n"
   ]
  },
  {
   "cell_type": "code",
   "execution_count": 22,
   "metadata": {},
   "outputs": [
    {
     "data": {
      "image/png": "[encoded data removed]",
      "text/plain": [
       "<rdkit.Chem.rdChemReactions.ChemicalReaction at 0x7feb1eb5f1b0>"
      ]
     },
     "execution_count": 22,
     "metadata": {},
     "output_type": "execute_result"
    }
   ],
   "source": [
    "rxn = rdr.ReactionFromSmarts(\"[1*][*:1].[1*][*:2]>>[*:1][*:2]\")\n",
    "rxn"
   ]
  },
  {
   "cell_type": "code",
   "execution_count": 23,
   "metadata": {},
   "outputs": [
    {
     "data": {
      "image/png": "[encoded data removed]",
      "text/plain": [
       "<rdkit.Chem.rdchem.Mol at 0x7feb1eb5e880>"
      ]
     },
     "execution_count": 23,
     "metadata": {},
     "output_type": "execute_result"
    }
   ],
   "source": [
    "# replace atom map by isotopes\n",
    "phenyl = \"c1cc([*:1])ccc1\".replace(\"[*:1]\", \"[1*]\")\n",
    "methoxy = \"O([*:1])C\".replace(\"[*:1]\", \"[1*]\")\n",
    "\n",
    "# runreactions\n",
    "prod = rxn.RunReactants((dm.to_mol(phenyl), dm.to_mol(methoxy)))\n",
    "prod[0][0]"
   ]
  },
  {
   "attachments": {},
   "cell_type": "markdown",
   "metadata": {},
   "source": [
    "We can achieve the same result by using rdkit API in an slightly more tedious way.\n"
   ]
  },
  {
   "cell_type": "code",
   "execution_count": 24,
   "metadata": {},
   "outputs": [
    {
     "name": "stderr",
     "output_type": "stream",
     "text": [
      "[14:10:33] WARNING: not removing hydrogen atom without neighbors\n"
     ]
    },
    {
     "data": {
      "image/png": "[encoded data removed]",
      "text/plain": [
       "<rdkit.Chem.rdchem.Mol at 0x7feb1eb5eb90>"
      ]
     },
     "execution_count": 24,
     "metadata": {},
     "output_type": "execute_result"
    }
   ],
   "source": [
    "replacement_sub =  Chem.MolFromSmarts(\"[1*]\")\n",
    "prod = Chem.ReplaceSubstructs(dm.to_mol(phenyl), replacement_sub, dm.to_mol(methoxy), replacementConnectionPoint=0)\n",
    "prod = dm.remove_dummies(prod[0], dummy=\"[1*]\")\n",
    "prod"
   ]
  },
  {
   "attachments": {},
   "cell_type": "markdown",
   "metadata": {},
   "source": [
    "But wait, could we attach the fragment using only the string operations on the smiles ?\n",
    "\n",
    "Well, it's not possible by trying to perform substring replacement, but recall we just said that `numbers in smiles represents connectivity points` ?"
   ]
  },
  {
   "cell_type": "code",
   "execution_count": 25,
   "metadata": {},
   "outputs": [],
   "source": [
    "phenyl = \"c1cc([*:1])ccc1\"\n",
    "methoxy = \"O([*:1])C\"\n",
    "composite = phenyl + \".\" + methoxy # c1cc([*:1])ccc1.O([*:1])C\n",
    "compo = dm.to_mol(composite)"
   ]
  },
  {
   "attachments": {},
   "cell_type": "markdown",
   "metadata": {},
   "source": [
    "Since `1` \"connectivity point\" is already present in the phenyl group. We need to start by opening a new connectivity point: `2`"
   ]
  },
  {
   "cell_type": "code",
   "execution_count": 26,
   "metadata": {},
   "outputs": [
    {
     "name": "stderr",
     "output_type": "stream",
     "text": [
      "[14:10:35] SMILES Parse Error: syntax error while parsing: c1cc(2)ccc1.O(2)C\n",
      "[14:10:35] SMILES Parse Error: Failed parsing SMILES 'c1cc(2)ccc1.O(2)C' for input: 'c1cc(2)ccc1.O(2)C'\n"
     ]
    }
   ],
   "source": [
    "attached_composite = composite.replace(\"[*:1]\", \"2\")\n",
    "dm.to_mol(attached_composite)"
   ]
  },
  {
   "attachments": {},
   "cell_type": "markdown",
   "metadata": {},
   "source": [
    "The previous line does not work because of violation in the smiles syntax. As we are not taking into account the branching bracket surrounding the attachment point.\n",
    "\n",
    "We could try to regenerate the smiles or scan the sequence and remove the brackets when it's possible, but we want to limit the operations to `str.replace`. So let's try again."
   ]
  },
  {
   "cell_type": "code",
   "execution_count": 27,
   "metadata": {},
   "outputs": [
    {
     "data": {
      "image/svg+xml": [
       "<svg xmlns=\"http://www.w3.org/2000/svg\" xmlns:rdkit=\"http://www.rdkit.org/xml\" xmlns:xlink=\"http://www.w3.org/1999/xlink\" version=\"1.1\" baseProfile=\"full\" xml:space=\"preserve\" width=\"300px\" height=\"300px\" viewBox=\"0 0 300 300\">\n",
       "<!-- END OF HEADER -->\n",
       "<rect style=\"opacity:1.0;fill:#FFFFFF;stroke:none\" width=\"300.0\" height=\"300.0\" x=\"0.0\" y=\"0.0\"> </rect>\n",
       "<path class=\"bond-0 atom-0 atom-1\" d=\"M 285.9,167.8 L 217.6,206.6\" style=\"fill:none;fill-rule:evenodd;stroke:#000000;stroke-width:2.0px;stroke-linecap:butt;stroke-linejoin:miter;stroke-opacity:1\"/>\n",
       "<path class=\"bond-0 atom-0 atom-1\" d=\"M 274.1,160.9 L 217.6,193.0\" style=\"fill:none;fill-rule:evenodd;stroke:#000000;stroke-width:2.0px;stroke-linecap:butt;stroke-linejoin:miter;stroke-opacity:1\"/>\n",
       "<path class=\"bond-1 atom-1 atom-2\" d=\"M 217.6,206.6 L 149.7,166.9\" style=\"fill:none;fill-rule:evenodd;stroke:#000000;stroke-width:2.0px;stroke-linecap:butt;stroke-linejoin:miter;stroke-opacity:1\"/>\n",
       "<path class=\"bond-2 atom-2 atom-3\" d=\"M 149.7,166.9 L 150.3,88.3\" style=\"fill:none;fill-rule:evenodd;stroke:#000000;stroke-width:2.0px;stroke-linecap:butt;stroke-linejoin:miter;stroke-opacity:1\"/>\n",
       "<path class=\"bond-2 atom-2 atom-3\" d=\"M 161.6,160.2 L 162.0,95.2\" style=\"fill:none;fill-rule:evenodd;stroke:#000000;stroke-width:2.0px;stroke-linecap:butt;stroke-linejoin:miter;stroke-opacity:1\"/>\n",
       "<path class=\"bond-3 atom-3 atom-4\" d=\"M 150.3,88.3 L 218.6,49.5\" style=\"fill:none;fill-rule:evenodd;stroke:#000000;stroke-width:2.0px;stroke-linecap:butt;stroke-linejoin:miter;stroke-opacity:1\"/>\n",
       "<path class=\"bond-4 atom-4 atom-5\" d=\"M 218.6,49.5 L 286.4,89.2\" style=\"fill:none;fill-rule:evenodd;stroke:#000000;stroke-width:2.0px;stroke-linecap:butt;stroke-linejoin:miter;stroke-opacity:1\"/>\n",
       "<path class=\"bond-4 atom-4 atom-5\" d=\"M 218.5,63.1 L 274.5,95.9\" style=\"fill:none;fill-rule:evenodd;stroke:#000000;stroke-width:2.0px;stroke-linecap:butt;stroke-linejoin:miter;stroke-opacity:1\"/>\n",
       "<path class=\"bond-5 atom-6 atom-7\" d=\"M 65.8,196.6 L 39.7,181.3\" style=\"fill:none;fill-rule:evenodd;stroke:#FF0000;stroke-width:2.0px;stroke-linecap:butt;stroke-linejoin:miter;stroke-opacity:1\"/>\n",
       "<path class=\"bond-5 atom-6 atom-7\" d=\"M 39.7,181.3 L 13.6,166.0\" style=\"fill:none;fill-rule:evenodd;stroke:#000000;stroke-width:2.0px;stroke-linecap:butt;stroke-linejoin:miter;stroke-opacity:1\"/>\n",
       "<path class=\"bond-6 atom-5 atom-0\" d=\"M 286.4,89.2 L 285.9,167.8\" style=\"fill:none;fill-rule:evenodd;stroke:#000000;stroke-width:2.0px;stroke-linecap:butt;stroke-linejoin:miter;stroke-opacity:1\"/>\n",
       "<path class=\"bond-7 atom-6 atom-2\" d=\"M 97.0,196.9 L 123.4,181.9\" style=\"fill:none;fill-rule:evenodd;stroke:#FF0000;stroke-width:2.0px;stroke-linecap:butt;stroke-linejoin:miter;stroke-opacity:1\"/>\n",
       "<path class=\"bond-7 atom-6 atom-2\" d=\"M 123.4,181.9 L 149.7,166.9\" style=\"fill:none;fill-rule:evenodd;stroke:#000000;stroke-width:2.0px;stroke-linecap:butt;stroke-linejoin:miter;stroke-opacity:1\"/>\n",
       "<path d=\"M 282.4,169.7 L 285.9,167.8 L 285.9,163.9\" style=\"fill:none;stroke:#000000;stroke-width:2.0px;stroke-linecap:butt;stroke-linejoin:miter;stroke-opacity:1;\"/>\n",
       "<path d=\"M 221.0,204.7 L 217.6,206.6 L 214.2,204.7\" style=\"fill:none;stroke:#000000;stroke-width:2.0px;stroke-linecap:butt;stroke-linejoin:miter;stroke-opacity:1;\"/>\n",
       "<path d=\"M 150.2,92.3 L 150.3,88.3 L 153.7,86.4\" style=\"fill:none;stroke:#000000;stroke-width:2.0px;stroke-linecap:butt;stroke-linejoin:miter;stroke-opacity:1;\"/>\n",
       "<path d=\"M 215.1,51.4 L 218.6,49.5 L 221.9,51.5\" style=\"fill:none;stroke:#000000;stroke-width:2.0px;stroke-linecap:butt;stroke-linejoin:miter;stroke-opacity:1;\"/>\n",
       "<path d=\"M 283.0,87.2 L 286.4,89.2 L 286.3,93.1\" style=\"fill:none;stroke:#000000;stroke-width:2.0px;stroke-linecap:butt;stroke-linejoin:miter;stroke-opacity:1;\"/>\n",
       "<path class=\"atom-6\" d=\"M 68.4 205.8 Q 68.4 199.0, 71.8 195.2 Q 75.2 191.4, 81.4 191.4 Q 87.7 191.4, 91.1 195.2 Q 94.4 199.0, 94.4 205.8 Q 94.4 212.7, 91.0 216.6 Q 87.6 220.5, 81.4 220.5 Q 75.2 220.5, 71.8 216.6 Q 68.4 212.8, 68.4 205.8 M 81.4 217.3 Q 85.8 217.3, 88.1 214.4 Q 90.4 211.5, 90.4 205.8 Q 90.4 200.3, 88.1 197.5 Q 85.8 194.6, 81.4 194.6 Q 77.1 194.6, 74.8 197.4 Q 72.4 200.2, 72.4 205.8 Q 72.4 211.6, 74.8 214.4 Q 77.1 217.3, 81.4 217.3 \" fill=\"#FF0000\"/>\n",
       "<path class=\"legend\" d=\"M 96.9 288.2 Q 96.9 286.2, 97.9 285.1 Q 98.9 284.0, 100.9 284.0 Q 102.7 284.0, 103.7 285.3 L 102.7 286.1 Q 102.3 285.6, 101.9 285.4 Q 101.5 285.1, 100.9 285.1 Q 99.7 285.1, 99.1 285.9 Q 98.5 286.7, 98.5 288.2 Q 98.5 289.7, 99.1 290.5 Q 99.8 291.3, 101.0 291.3 Q 101.6 291.3, 102.1 291.1 Q 102.6 291.0, 103.1 290.7 L 103.6 291.7 Q 102.4 292.4, 100.9 292.4 Q 98.9 292.4, 97.9 291.3 Q 96.9 290.2, 96.9 288.2 \" fill=\"#000000\"/>\n",
       "<path class=\"legend\" d=\"M 105.4 291.0 L 107.9 291.0 L 107.9 282.6 L 105.2 283.4 L 104.8 282.5 L 108.3 280.9 L 109.4 281.1 L 109.4 291.0 L 111.6 291.0 L 111.6 292.3 L 105.4 292.3 L 105.4 291.0 \" fill=\"#000000\"/>\n",
       "<path class=\"legend\" d=\"M 113.0 288.2 Q 113.0 286.2, 114.0 285.1 Q 115.0 284.0, 116.9 284.0 Q 118.8 284.0, 119.8 285.3 L 118.8 286.1 Q 118.4 285.6, 117.9 285.4 Q 117.5 285.1, 116.9 285.1 Q 115.8 285.1, 115.2 285.9 Q 114.5 286.7, 114.5 288.2 Q 114.5 289.7, 115.2 290.5 Q 115.8 291.3, 117.0 291.3 Q 117.7 291.3, 118.2 291.1 Q 118.6 291.0, 119.2 290.7 L 119.6 291.7 Q 118.4 292.4, 116.9 292.4 Q 115.0 292.4, 114.0 291.3 Q 113.0 290.2, 113.0 288.2 \" fill=\"#000000\"/>\n",
       "<path class=\"legend\" d=\"M 120.9 288.2 Q 120.9 286.2, 121.9 285.1 Q 122.9 284.0, 124.8 284.0 Q 126.7 284.0, 127.7 285.3 L 126.6 286.1 Q 126.3 285.6, 125.8 285.4 Q 125.4 285.1, 124.8 285.1 Q 123.7 285.1, 123.0 285.9 Q 122.4 286.7, 122.4 288.2 Q 122.4 289.7, 123.0 290.5 Q 123.7 291.3, 124.9 291.3 Q 125.6 291.3, 126.0 291.1 Q 126.5 291.0, 127.1 290.7 L 127.5 291.7 Q 126.3 292.4, 124.8 292.4 Q 122.9 292.4, 121.9 291.3 Q 120.9 290.2, 120.9 288.2 \" fill=\"#000000\"/>\n",
       "<path class=\"legend\" d=\"M 128.8 283.1 Q 129.2 282.1, 130.2 281.5 Q 131.2 280.9, 132.5 280.9 Q 134.2 280.9, 135.2 281.8 Q 136.2 282.7, 136.2 284.4 Q 136.2 286.1, 134.9 287.6 Q 133.7 289.2, 131.1 291.0 L 136.4 291.0 L 136.4 292.3 L 128.7 292.3 L 128.7 291.3 Q 130.8 289.7, 132.1 288.6 Q 133.4 287.5, 134.0 286.5 Q 134.6 285.5, 134.6 284.5 Q 134.6 283.4, 134.0 282.8 Q 133.5 282.1, 132.5 282.1 Q 131.6 282.1, 131.0 282.5 Q 130.4 282.9, 130.0 283.7 L 128.8 283.1 \" fill=\"#000000\"/>\n",
       "<path class=\"legend\" d=\"M 138.0 288.2 Q 138.0 286.2, 139.0 285.1 Q 140.0 284.0, 142.0 284.0 Q 143.8 284.0, 144.8 285.3 L 143.8 286.1 Q 143.4 285.6, 143.0 285.4 Q 142.5 285.1, 142.0 285.1 Q 140.8 285.1, 140.2 285.9 Q 139.6 286.7, 139.6 288.2 Q 139.6 289.7, 140.2 290.5 Q 140.8 291.3, 142.0 291.3 Q 142.7 291.3, 143.2 291.1 Q 143.6 291.0, 144.2 290.7 L 144.6 291.7 Q 143.5 292.4, 141.9 292.4 Q 140.0 292.4, 139.0 291.3 Q 138.0 290.2, 138.0 288.2 \" fill=\"#000000\"/>\n",
       "<path class=\"legend\" d=\"M 145.9 288.2 Q 145.9 286.2, 146.9 285.1 Q 147.9 284.0, 149.8 284.0 Q 151.7 284.0, 152.7 285.3 L 151.7 286.1 Q 151.3 285.6, 150.8 285.4 Q 150.4 285.1, 149.8 285.1 Q 148.7 285.1, 148.0 285.9 Q 147.4 286.7, 147.4 288.2 Q 147.4 289.7, 148.1 290.5 Q 148.7 291.3, 149.9 291.3 Q 150.6 291.3, 151.0 291.1 Q 151.5 291.0, 152.1 290.7 L 152.5 291.7 Q 151.3 292.4, 149.8 292.4 Q 147.9 292.4, 146.9 291.3 Q 145.9 290.2, 145.9 288.2 \" fill=\"#000000\"/>\n",
       "<path class=\"legend\" d=\"M 153.7 288.2 Q 153.7 286.2, 154.7 285.1 Q 155.7 284.0, 157.7 284.0 Q 159.6 284.0, 160.5 285.3 L 159.5 286.1 Q 159.1 285.6, 158.7 285.4 Q 158.3 285.1, 157.7 285.1 Q 156.5 285.1, 155.9 285.9 Q 155.3 286.7, 155.3 288.2 Q 155.3 289.7, 155.9 290.5 Q 156.6 291.3, 157.8 291.3 Q 158.4 291.3, 158.9 291.1 Q 159.4 291.0, 160.0 290.7 L 160.4 291.7 Q 159.2 292.4, 157.7 292.4 Q 155.7 292.4, 154.7 291.3 Q 153.7 290.2, 153.7 288.2 \" fill=\"#000000\"/>\n",
       "<path class=\"legend\" d=\"M 162.2 291.0 L 164.7 291.0 L 164.7 282.6 L 162.0 283.4 L 161.6 282.5 L 165.1 280.9 L 166.2 281.1 L 166.2 291.0 L 168.4 291.0 L 168.4 292.3 L 162.2 292.3 L 162.2 291.0 \" fill=\"#000000\"/>\n",
       "<path class=\"legend\" d=\"M 169.8 290.7 L 171.4 290.7 L 171.4 292.3 L 169.8 292.3 L 169.8 290.7 \" fill=\"#000000\"/>\n",
       "<path class=\"legend\" d=\"M 173.1 286.6 Q 173.1 283.9, 174.5 282.4 Q 175.8 280.9, 178.3 280.9 Q 180.9 280.9, 182.2 282.4 Q 183.5 283.9, 183.5 286.6 Q 183.5 289.4, 182.2 290.9 Q 180.8 292.5, 178.3 292.5 Q 175.8 292.5, 174.5 290.9 Q 173.1 289.4, 173.1 286.6 M 178.3 291.2 Q 180.1 291.2, 181.0 290.1 Q 181.9 288.9, 181.9 286.6 Q 181.9 284.4, 181.0 283.3 Q 180.1 282.1, 178.3 282.1 Q 176.6 282.1, 175.7 283.3 Q 174.7 284.4, 174.7 286.6 Q 174.7 288.9, 175.7 290.1 Q 176.6 291.2, 178.3 291.2 \" fill=\"#000000\"/>\n",
       "<path class=\"legend\" d=\"M 185.1 283.1 Q 185.5 282.1, 186.5 281.5 Q 187.5 280.9, 188.8 280.9 Q 190.6 280.9, 191.5 281.8 Q 192.5 282.7, 192.5 284.4 Q 192.5 286.1, 191.2 287.6 Q 190.0 289.2, 187.4 291.0 L 192.7 291.0 L 192.7 292.3 L 185.0 292.3 L 185.0 291.3 Q 187.1 289.7, 188.4 288.6 Q 189.7 287.5, 190.3 286.5 Q 190.9 285.5, 190.9 284.5 Q 190.9 283.4, 190.3 282.8 Q 189.8 282.1, 188.8 282.1 Q 187.9 282.1, 187.3 282.5 Q 186.7 282.9, 186.3 283.7 L 185.1 283.1 \" fill=\"#000000\"/>\n",
       "<path class=\"legend\" d=\"M 194.3 286.6 Q 194.3 283.8, 195.6 282.4 Q 197.0 280.9, 199.5 280.9 Q 201.8 280.9, 203.1 282.5 L 202.0 283.4 Q 201.1 282.2, 199.5 282.2 Q 197.8 282.2, 196.9 283.3 Q 196.0 284.5, 196.0 286.6 Q 196.0 288.9, 196.9 290.0 Q 197.8 291.2, 199.7 291.2 Q 200.9 291.2, 202.4 290.4 L 202.8 291.6 Q 202.2 292.0, 201.3 292.2 Q 200.4 292.5, 199.4 292.5 Q 197.0 292.5, 195.6 291.0 Q 194.3 289.5, 194.3 286.6 \" fill=\"#000000\"/>\n",
       "</svg>"
      ],
      "text/plain": [
       "<IPython.core.display.SVG object>"
      ]
     },
     "execution_count": 27,
     "metadata": {},
     "output_type": "execute_result"
    }
   ],
   "source": [
    "attached_composite = composite.replace(\"([*:1])\", \"2\").replace(\"[*:1]\", \"2\")\n",
    "dm.to_image(attached_composite, legends=[attached_composite])\n"
   ]
  },
  {
   "attachments": {},
   "cell_type": "markdown",
   "metadata": {},
   "source": [
    "You can see that the phenol molecule is represented as two \"fragments\" `[Fragment1].[Fragment2]`. That is what SAFE is about."
   ]
  },
  {
   "attachments": {},
   "cell_type": "markdown",
   "metadata": {},
   "source": [
    "In summary, to build a SAFE string, we just need to follow the step below:\n",
    "\n",
    "![safe](../assets/safe-construction.svg)"
   ]
  }
 ],
 "metadata": {
  "kernelspec": {
   "display_name": "safe",
   "language": "python",
   "name": "python3"
  },
  "language_info": {
   "codemirror_mode": {
    "name": "ipython",
    "version": 3
   },
   "file_extension": ".py",
   "mimetype": "text/x-python",
   "name": "python",
   "nbconvert_exporter": "python",
   "pygments_lexer": "ipython3",
   "version": "3.11.4"
  },
  "orig_nbformat": 4
 },
 "nbformat": 4,
 "nbformat_minor": 2
}
