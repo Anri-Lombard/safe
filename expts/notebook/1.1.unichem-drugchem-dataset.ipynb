{
 "cells": [
  {
   "cell_type": "code",
   "execution_count": 1,
   "metadata": {},
   "outputs": [],
   "source": [
    "%load_ext autoreload\n",
    "%autoreload 2"
   ]
  },
  {
   "cell_type": "code",
   "execution_count": 2,
   "metadata": {},
   "outputs": [],
   "source": [
    "from datasets import load_dataset\n",
    "from datasets import Dataset"
   ]
  },
  {
   "cell_type": "code",
   "execution_count": 3,
   "metadata": {},
   "outputs": [],
   "source": [
    "import pandas as pd\n",
    "import datamol as dm\n",
    "import dask\n",
    "import dask.distributed as dd\n",
    "import dask.dataframe as ddf"
   ]
  },
  {
   "cell_type": "code",
   "execution_count": 5,
   "metadata": {},
   "outputs": [],
   "source": [
    "unichem = pd.read_csv(\"/storage/shared_data/manu/unichem.tsv.gz\", sep=\"\\t\", engine=\"pyarrow\")"
   ]
  },
  {
   "cell_type": "code",
   "execution_count": 6,
   "metadata": {},
   "outputs": [],
   "source": [
    "unichem = unichem.rename(columns=dict(STANDARDINCHI=\"inchi\", STANDARDINCHIKEY=\"inchikey\", UCI=\"id\"))"
   ]
  },
  {
   "cell_type": "code",
   "execution_count": 7,
   "metadata": {},
   "outputs": [
    {
     "data": {
      "text/html": [
       "<div>\n",
       "<style scoped>\n",
       "    .dataframe tbody tr th:only-of-type {\n",
       "        vertical-align: middle;\n",
       "    }\n",
       "\n",
       "    .dataframe tbody tr th {\n",
       "        vertical-align: top;\n",
       "    }\n",
       "\n",
       "    .dataframe thead th {\n",
       "        text-align: right;\n",
       "    }\n",
       "</style>\n",
       "<table border=\"1\" class=\"dataframe\">\n",
       "  <thead>\n",
       "    <tr style=\"text-align: right;\">\n",
       "      <th></th>\n",
       "      <th>id</th>\n",
       "      <th>inchi</th>\n",
       "      <th>inchikey</th>\n",
       "    </tr>\n",
       "  </thead>\n",
       "  <tbody>\n",
       "    <tr>\n",
       "      <th>0</th>\n",
       "      <td>2151003</td>\n",
       "      <td>InChI=1S/C18H33N3O3/c1-12(2)10-16(23)20-17(13(...</td>\n",
       "      <td>GPODNYXNIDSMQH-QGZVFWFLSA-N</td>\n",
       "    </tr>\n",
       "    <tr>\n",
       "      <th>1</th>\n",
       "      <td>4440473</td>\n",
       "      <td>InChI=1S/C21H21FN2O2S2/c1-2-27-16-6-3-5-14(13-...</td>\n",
       "      <td>RSWXSSYVOOWIEE-UHFFFAOYSA-N</td>\n",
       "    </tr>\n",
       "    <tr>\n",
       "      <th>2</th>\n",
       "      <td>5301143</td>\n",
       "      <td>InChI=1S/C18H15N7OS2/c1-12-21-23-17(28-12)20-1...</td>\n",
       "      <td>XRFZVGUPNZXOCQ-UHFFFAOYSA-N</td>\n",
       "    </tr>\n",
       "    <tr>\n",
       "      <th>3</th>\n",
       "      <td>7973252</td>\n",
       "      <td>InChI=1S/C18H26N2O3S/c1-5-8-9-10-18(21)19-15(4...</td>\n",
       "      <td>XYBQNOZXTZLFET-BCNJTZCHSA-N</td>\n",
       "    </tr>\n",
       "    <tr>\n",
       "      <th>4</th>\n",
       "      <td>8331947</td>\n",
       "      <td>InChI=1S/C20H18N2O4/c1-14(15-7-3-2-4-8-15)22-2...</td>\n",
       "      <td>IDNXMURNGDUUPN-SWEABUAFSA-M</td>\n",
       "    </tr>\n",
       "    <tr>\n",
       "      <th>...</th>\n",
       "      <td>...</td>\n",
       "      <td>...</td>\n",
       "      <td>...</td>\n",
       "    </tr>\n",
       "    <tr>\n",
       "      <th>178083701</th>\n",
       "      <td>183684662</td>\n",
       "      <td>InChI=1S/C21H21BrF3N3O6/c1-32-12-15(20(30)31)1...</td>\n",
       "      <td>WVKBHCBDZQCCRW-NTCAYCPXSA-N</td>\n",
       "    </tr>\n",
       "    <tr>\n",
       "      <th>178083702</th>\n",
       "      <td>185400182</td>\n",
       "      <td>InChI=1S/C20H36O5/c1-14(2)8-5-9-15(3)10-6-11-1...</td>\n",
       "      <td>DNYNTPITISCIRZ-UHFFFAOYSA-N</td>\n",
       "    </tr>\n",
       "    <tr>\n",
       "      <th>178083703</th>\n",
       "      <td>186836143</td>\n",
       "      <td>InChI=1S/C22H34N4O2/c1-17(2)22(18(3)4)20(27)26...</td>\n",
       "      <td>FIOASZRTVBIGDI-UHFFFAOYSA-N</td>\n",
       "    </tr>\n",
       "    <tr>\n",
       "      <th>178083704</th>\n",
       "      <td>187186204</td>\n",
       "      <td>InChI=1S/C22H34O5/c1-21(2,20(25)26)14-7-5-10-1...</td>\n",
       "      <td>MSZHYKOTINDQOI-UHFFFAOYSA-N</td>\n",
       "    </tr>\n",
       "    <tr>\n",
       "      <th>178083705</th>\n",
       "      <td>187252272</td>\n",
       "      <td>InChI=1S/C18H23N3O.C2HF3O2/c1-20(2)16-10-12-21...</td>\n",
       "      <td>TUHGMJUZEACGSB-PPPUBMIESA-N</td>\n",
       "    </tr>\n",
       "  </tbody>\n",
       "</table>\n",
       "<p>178083706 rows × 3 columns</p>\n",
       "</div>"
      ],
      "text/plain": [
       "                  id                                              inchi  \\\n",
       "0            2151003  InChI=1S/C18H33N3O3/c1-12(2)10-16(23)20-17(13(...   \n",
       "1            4440473  InChI=1S/C21H21FN2O2S2/c1-2-27-16-6-3-5-14(13-...   \n",
       "2            5301143  InChI=1S/C18H15N7OS2/c1-12-21-23-17(28-12)20-1...   \n",
       "3            7973252  InChI=1S/C18H26N2O3S/c1-5-8-9-10-18(21)19-15(4...   \n",
       "4            8331947  InChI=1S/C20H18N2O4/c1-14(15-7-3-2-4-8-15)22-2...   \n",
       "...              ...                                                ...   \n",
       "178083701  183684662  InChI=1S/C21H21BrF3N3O6/c1-32-12-15(20(30)31)1...   \n",
       "178083702  185400182  InChI=1S/C20H36O5/c1-14(2)8-5-9-15(3)10-6-11-1...   \n",
       "178083703  186836143  InChI=1S/C22H34N4O2/c1-17(2)22(18(3)4)20(27)26...   \n",
       "178083704  187186204  InChI=1S/C22H34O5/c1-21(2,20(25)26)14-7-5-10-1...   \n",
       "178083705  187252272  InChI=1S/C18H23N3O.C2HF3O2/c1-20(2)16-10-12-21...   \n",
       "\n",
       "                              inchikey  \n",
       "0          GPODNYXNIDSMQH-QGZVFWFLSA-N  \n",
       "1          RSWXSSYVOOWIEE-UHFFFAOYSA-N  \n",
       "2          XRFZVGUPNZXOCQ-UHFFFAOYSA-N  \n",
       "3          XYBQNOZXTZLFET-BCNJTZCHSA-N  \n",
       "4          IDNXMURNGDUUPN-SWEABUAFSA-M  \n",
       "...                                ...  \n",
       "178083701  WVKBHCBDZQCCRW-NTCAYCPXSA-N  \n",
       "178083702  DNYNTPITISCIRZ-UHFFFAOYSA-N  \n",
       "178083703  FIOASZRTVBIGDI-UHFFFAOYSA-N  \n",
       "178083704  MSZHYKOTINDQOI-UHFFFAOYSA-N  \n",
       "178083705  TUHGMJUZEACGSB-PPPUBMIESA-N  \n",
       "\n",
       "[178083706 rows x 3 columns]"
      ]
     },
     "execution_count": 7,
     "metadata": {},
     "output_type": "execute_result"
    }
   ],
   "source": [
    "unichem"
   ]
  },
  {
   "cell_type": "code",
   "execution_count": 8,
   "metadata": {},
   "outputs": [],
   "source": [
    "unichem[\"source\"] = \"unichem\""
   ]
  },
  {
   "cell_type": "code",
   "execution_count": 9,
   "metadata": {},
   "outputs": [],
   "source": [
    "def as_smiles(inchi_list):        \n",
    "    with dm.without_rdkit_log():\n",
    "        if isinstance(inchi_list, str):\n",
    "            mol = dm.from_inchi(inchi_list)\n",
    "            return dm.to_smiles(mol)\n",
    "        mols = [dm.from_inchi(inchi) for inchi in inchi_list]\n",
    "        return [dm.to_smiles(mol) for mol in mols]"
   ]
  },
  {
   "cell_type": "code",
   "execution_count": 10,
   "metadata": {},
   "outputs": [
    {
     "data": {
      "application/vnd.jupyter.widget-view+json": {
       "model_id": "848f20c9280e4be89c243111075fc58b",
       "version_major": 2,
       "version_minor": 0
      },
      "text/plain": [
       "  0%|          | 0/17808 [00:00<?, ?it/s]"
      ]
     },
     "metadata": {},
     "output_type": "display_data"
    }
   ],
   "source": [
    "unichem[\"smiles\"] = dm.parallelized_with_batches(as_smiles, unichem.inchi, batch_size=10000, total=unichem.shape[0], n_jobs=64, tqdm_kwargs=dict(leave=True, disable=False))"
   ]
  },
  {
   "cell_type": "code",
   "execution_count": 12,
   "metadata": {},
   "outputs": [
    {
     "name": "stderr",
     "output_type": "stream",
     "text": [
      "100%|█████████████████████████████████████████████████████████████████████████████████████████████████████████████████████████████| 64/64 [00:16<00:00,  3.90it/s]\n"
     ]
    }
   ],
   "source": [
    "import tqdm\n",
    "import numpy as np\n",
    "n_partitions = 64\n",
    "\n",
    "# Randomize the rows\n",
    "permuted_indices = np.arange(unichem.shape[0])\n",
    "\n",
    "# Init partitions\n",
    "unichem[\"parquet_partition\"] = None\n",
    "\n",
    "# Make the partitions\n",
    "for i in tqdm.tqdm(range(n_partitions), total=n_partitions):\n",
    "    unichem.loc[\n",
    "        permuted_indices[i::n_partitions], \"parquet_partition\"\n",
    "    ] = f\"PARTITION_{i:02d}\"\n"
   ]
  },
  {
   "cell_type": "code",
   "execution_count": 15,
   "metadata": {},
   "outputs": [
    {
     "name": "stdout",
     "output_type": "stream",
     "text": [
      "Collecting fastparquet\n",
      "  Downloading fastparquet-2023.7.0-cp311-cp311-manylinux_2_17_x86_64.manylinux2014_x86_64.whl (1.6 MB)\n",
      "\u001b[2K     \u001b[38;2;114;156;31m━━━━━━━━━━━━━━━━━━━━━━━━━━━━━━━━━━━━━━━━\u001b[0m \u001b[32m1.6/1.6 MB\u001b[0m \u001b[31m13.1 MB/s\u001b[0m eta \u001b[36m0:00:00\u001b[0m31m13.4 MB/s\u001b[0m eta \u001b[36m0:00:01\u001b[0m\n",
      "\u001b[?25hRequirement already satisfied: pandas>=1.5.0 in /home/emmanuel/.conda/envs/safe/lib/python3.11/site-packages (from fastparquet) (2.0.3)\n",
      "Requirement already satisfied: numpy>=1.20.3 in /home/emmanuel/.conda/envs/safe/lib/python3.11/site-packages (from fastparquet) (1.25.0)\n",
      "Collecting cramjam>=2.3 (from fastparquet)\n",
      "  Downloading cramjam-2.6.2-cp311-cp311-manylinux_2_17_x86_64.manylinux2014_x86_64.whl (2.0 MB)\n",
      "\u001b[2K     \u001b[38;2;114;156;31m━━━━━━━━━━━━━━━━━━━━━━━━━━━━━━━━━━━━━━━━\u001b[0m \u001b[32m2.0/2.0 MB\u001b[0m \u001b[31m16.4 MB/s\u001b[0m eta \u001b[36m0:00:00\u001b[0m MB/s\u001b[0m eta \u001b[36m0:00:01\u001b[0m:01\u001b[0m\n",
      "\u001b[?25hRequirement already satisfied: fsspec in /home/emmanuel/.conda/envs/safe/lib/python3.11/site-packages (from fastparquet) (2023.6.0)\n",
      "Requirement already satisfied: packaging in /home/emmanuel/.conda/envs/safe/lib/python3.11/site-packages (from fastparquet) (23.1)\n",
      "Requirement already satisfied: python-dateutil>=2.8.2 in /home/emmanuel/.conda/envs/safe/lib/python3.11/site-packages (from pandas>=1.5.0->fastparquet) (2.8.2)\n",
      "Requirement already satisfied: pytz>=2020.1 in /home/emmanuel/.conda/envs/safe/lib/python3.11/site-packages (from pandas>=1.5.0->fastparquet) (2023.3)\n",
      "Requirement already satisfied: tzdata>=2022.1 in /home/emmanuel/.conda/envs/safe/lib/python3.11/site-packages (from pandas>=1.5.0->fastparquet) (2023.3)\n",
      "Requirement already satisfied: six>=1.5 in /home/emmanuel/.conda/envs/safe/lib/python3.11/site-packages (from python-dateutil>=2.8.2->pandas>=1.5.0->fastparquet) (1.16.0)\n",
      "Installing collected packages: cramjam, fastparquet\n",
      "Successfully installed cramjam-2.6.2 fastparquet-2023.7.0\n"
     ]
    }
   ],
   "source": [
    "! pip install fastparquet"
   ]
  },
  {
   "cell_type": "code",
   "execution_count": 35,
   "metadata": {},
   "outputs": [],
   "source": [
    "unichem = unichem.drop(\"inchi\", axis=1).drop_duplicates(\"inchikey\").reset_index(drop=True)"
   ]
  },
  {
   "cell_type": "code",
   "execution_count": 36,
   "metadata": {},
   "outputs": [],
   "source": [
    "unichem.to_parquet(\"/storage/shared_data/manu/unichem.parquet\",  partition_cols=\"parquet_partition\", engine=\"fastparquet\")"
   ]
  },
  {
   "cell_type": "code",
   "execution_count": 19,
   "metadata": {},
   "outputs": [],
   "source": [
    "drugchem = pd.read_csv(\"/storage/shared_data/manu/drugspace.smi.tar.gz\", engine=\"pyarrow\", sep='\\t')"
   ]
  },
  {
   "cell_type": "code",
   "execution_count": 21,
   "metadata": {},
   "outputs": [],
   "source": [
    "drugchem = drugchem.rename(columns={\"SMILES\":\"smiles\", \"DE ID\":\"id\"})"
   ]
  },
  {
   "cell_type": "code",
   "execution_count": 22,
   "metadata": {},
   "outputs": [],
   "source": [
    "drugchem[\"source\"] = \"drugspacex\""
   ]
  },
  {
   "cell_type": "code",
   "execution_count": 26,
   "metadata": {},
   "outputs": [],
   "source": [
    "def as_inchikey(sm_list):        \n",
    "    with dm.without_rdkit_log():\n",
    "        if isinstance(sm_list, str):\n",
    "            return dm.to_inchikey(sm_list)\n",
    "        return [dm.to_inchikey(sm) for sm in sm_list]\n",
    "    "
   ]
  },
  {
   "cell_type": "code",
   "execution_count": 27,
   "metadata": {},
   "outputs": [
    {
     "data": {
      "application/vnd.jupyter.widget-view+json": {
       "model_id": "64d4e803f8264bd6a99a7c2b0528030a",
       "version_major": 2,
       "version_minor": 0
      },
      "text/plain": [
       "  0%|          | 0/10094 [00:00<?, ?it/s]"
      ]
     },
     "metadata": {},
     "output_type": "display_data"
    }
   ],
   "source": [
    "drugchem[\"inchikey\"] = dm.parallelized_with_batches(as_inchikey, drugchem.smiles, batch_size=10000, total=drugchem.shape[0], n_jobs=72, tqdm_kwargs=dict(leave=True, disable=False))\n"
   ]
  },
  {
   "cell_type": "code",
   "execution_count": 29,
   "metadata": {},
   "outputs": [],
   "source": [
    "drugchem = drugchem.drop_duplicates(\"inchikey\")"
   ]
  },
  {
   "cell_type": "code",
   "execution_count": 32,
   "metadata": {},
   "outputs": [],
   "source": [
    "drugchem =  drugchem.reset_index(drop=True)"
   ]
  },
  {
   "cell_type": "code",
   "execution_count": 33,
   "metadata": {},
   "outputs": [
    {
     "name": "stderr",
     "output_type": "stream",
     "text": [
      "100%|█████████████████████████████████████████████████████████████████████████████████████████████████████████████████████████████| 64/64 [00:08<00:00,  7.30it/s]\n"
     ]
    }
   ],
   "source": [
    "import tqdm\n",
    "import numpy as np\n",
    "n_partitions = 64\n",
    "\n",
    "# Randomize the rows\n",
    "permuted_indices = np.arange(drugchem.shape[0])\n",
    "\n",
    "# Init partitions\n",
    "drugchem[\"parquet_partition\"] = None\n",
    "\n",
    "# Make the partitions\n",
    "for i in tqdm.tqdm(range(n_partitions), total=n_partitions):\n",
    "    drugchem.loc[\n",
    "        permuted_indices[i::n_partitions], \"parquet_partition\"\n",
    "    ] = f\"PARTITION_{i:02d}\"\n",
    "\n",
    "drugchem.to_parquet(\"/storage/shared_data/manu/druspacex.parquet\",  partition_cols=\"parquet_partition\", engine=\"fastparquet\")"
   ]
  },
  {
   "cell_type": "markdown",
   "metadata": {},
   "source": [
    "---"
   ]
  },
  {
   "cell_type": "markdown",
   "metadata": {},
   "source": [
    "### Apply transformation as SAFE strings to unichem. "
   ]
  },
  {
   "cell_type": "code",
   "execution_count": 38,
   "metadata": {},
   "outputs": [],
   "source": [
    "import safe as sf"
   ]
  },
  {
   "cell_type": "code",
   "execution_count": 48,
   "metadata": {},
   "outputs": [
    {
     "data": {
      "text/plain": [
       "'c1ccccc12.C2'"
      ]
     },
     "execution_count": 48,
     "metadata": {},
     "output_type": "execute_result"
    }
   ],
   "source": [
    "sf.encode(\"c1ccccc(C)1\", slicer=\"hr\")"
   ]
  },
  {
   "cell_type": "code",
   "execution_count": null,
   "metadata": {},
   "outputs": [],
   "source": []
  }
 ],
 "metadata": {
  "kernelspec": {
   "display_name": "Python 3 (ipykernel)",
   "language": "python",
   "name": "python3"
  },
  "language_info": {
   "codemirror_mode": {
    "name": "ipython",
    "version": 3
   },
   "file_extension": ".py",
   "mimetype": "text/x-python",
   "name": "python",
   "nbconvert_exporter": "python",
   "pygments_lexer": "ipython3",
   "version": "3.11.4"
  }
 },
 "nbformat": 4,
 "nbformat_minor": 4
}
