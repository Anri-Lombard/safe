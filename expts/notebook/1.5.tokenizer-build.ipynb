{
 "cells": [
  {
   "cell_type": "code",
   "execution_count": 3,
   "id": "c842eba5-f621-44a7-8abc-0d9224567465",
   "metadata": {},
   "outputs": [
    {
     "name": "stdout",
     "output_type": "stream",
     "text": [
      "The autoreload extension is already loaded. To reload it, use:\n",
      "  %reload_ext autoreload\n"
     ]
    }
   ],
   "source": [
    "%load_ext autoreload\n",
    "%autoreload 2"
   ]
  },
  {
   "cell_type": "code",
   "execution_count": 12,
   "id": "96435135-ae5c-40e4-8d53-af4941be4e3c",
   "metadata": {},
   "outputs": [],
   "source": [
    "import datasets\n",
    "from datasets import load_dataset\n",
    "from datasets import Dataset\n",
    "from tqdm.auto import tqdm\n",
    "from itertools import chain"
   ]
  },
  {
   "cell_type": "code",
   "execution_count": 5,
   "id": "fee419c4-a4b4-47aa-babe-fda0d355112e",
   "metadata": {},
   "outputs": [
    {
     "data": {
      "application/vnd.jupyter.widget-view+json": {
       "model_id": "1166c955f4c94e838cf35ad981f9671a",
       "version_major": 2,
       "version_minor": 0
      },
      "text/plain": [
       "Resolving data files:   0%|          | 0/127 [00:00<?, ?it/s]"
      ]
     },
     "metadata": {},
     "output_type": "display_data"
    },
    {
     "data": {
      "application/vnd.jupyter.widget-view+json": {
       "model_id": "f9de1dc6be274501a658895a8a1e9f8b",
       "version_major": 2,
       "version_minor": 0
      },
      "text/plain": [
       "Resolving data files:   0%|          | 0/66 [00:00<?, ?it/s]"
      ]
     },
     "metadata": {},
     "output_type": "display_data"
    },
    {
     "data": {
      "application/vnd.jupyter.widget-view+json": {
       "model_id": "a0b8d7ee41864ee2893acec2dea098a1",
       "version_major": 2,
       "version_minor": 0
      },
      "text/plain": [
       "Resolving data files:   0%|          | 0/66 [00:00<?, ?it/s]"
      ]
     },
     "metadata": {},
     "output_type": "display_data"
    }
   ],
   "source": [
    "#ri = datasets.ReadInstruction(\"train\") + datasets.ReadInstruction(\"test\")\n",
    "dt = datasets.load_dataset(\"/storage/shared_data/manu/zinc_dump/\", streaming=True)"
   ]
  },
  {
   "cell_type": "code",
   "execution_count": 8,
   "id": "050d5e87-ef21-456b-a50d-074553b94957",
   "metadata": {},
   "outputs": [],
   "source": [
    "def batch_iterator(iter_dataset, batch_size=10, n_examples=100):\n",
    "    for _ in tqdm(range(0, n_examples, batch_size)):\n",
    "        yield [next(iter_dataset)[\"smiles\"] for _ in range(batch_size)]\n"
   ]
  },
  {
   "cell_type": "code",
   "execution_count": 18,
   "id": "fb7b3b98-0a6d-4484-9852-227263a2384e",
   "metadata": {},
   "outputs": [
    {
     "ename": "TypeError",
     "evalue": "object of type 'IterableDataset' has no len()",
     "output_type": "error",
     "traceback": [
      "\u001b[0;31m---------------------------------------------------------------------------\u001b[0m",
      "\u001b[0;31mTypeError\u001b[0m                                 Traceback (most recent call last)",
      "Cell \u001b[0;32mIn[18], line 1\u001b[0m\n\u001b[0;32m----> 1\u001b[0m \u001b[38;5;28;43mlen\u001b[39;49m\u001b[43m(\u001b[49m\u001b[43mdt\u001b[49m\u001b[43m[\u001b[49m\u001b[38;5;124;43m\"\u001b[39;49m\u001b[38;5;124;43mtest\u001b[39;49m\u001b[38;5;124;43m\"\u001b[39;49m\u001b[43m]\u001b[49m\u001b[43m)\u001b[49m\n",
      "\u001b[0;31mTypeError\u001b[0m: object of type 'IterableDataset' has no len()"
     ]
    }
   ],
   "source": [
    "dt[\"test\"]"
   ]
  },
  {
   "cell_type": "code",
   "execution_count": 14,
   "id": "f75bfc7b-2d54-48d5-a16c-6e2d1fa3ab52",
   "metadata": {},
   "outputs": [],
   "source": [
    "total_length = dt[\n",
    "iter_dt = chain(dt[\"test\"], dt[\"validation\"])"
   ]
  },
  {
   "cell_type": "code",
   "execution_count": 15,
   "id": "2e43c26e-31ce-4d01-a902-8ea9bc88333d",
   "metadata": {},
   "outputs": [
    {
     "data": {
      "application/vnd.jupyter.widget-view+json": {
       "model_id": "21a6d7e7b323449a93a379f5b4346694",
       "version_major": 2,
       "version_minor": 0
      },
      "text/plain": [
       "  0%|          | 0/10 [00:00<?, ?it/s]"
      ]
     },
     "metadata": {},
     "output_type": "display_data"
    }
   ],
   "source": [
    "for batch in batch_iterator(iter_dt):\n",
    "    break"
   ]
  },
  {
   "cell_type": "code",
   "execution_count": 16,
   "id": "c40f4aae-9aef-41c2-960c-e14d82f85d25",
   "metadata": {},
   "outputs": [
    {
     "data": {
      "text/plain": [
       "['CC(C)[C@](C)(Cn1c(nnc1N2CCCN(CC2)C(=O)C)[C@H]3CCCCO3)O',\n",
       " 'CC(C)[C@@](C)(Cn1c(nnc1N2CCCN(CC2)C(=O)C)[C@H]3CCCCO3)O',\n",
       " 'Cc1cccc(n1)c2nnc(n2Cc3ccn(n3)C)N4CCCN(CC4)C(=O)C',\n",
       " 'CC(=O)N1CCCN(CC1)c2nnc(n2Cc3ccc(nc3)N(C)C)C4CC4',\n",
       " 'CC(=O)N1CCCN(CC1)c2nnc(n2CC3(CCC3)S(=O)(=O)C)C4CC4',\n",
       " 'CC(C)Cc1nnc(n1CCCN2CCOC2=O)N3CCCN(CC3)C(=O)C',\n",
       " 'CC(=O)N1CCCN(CC1)c2nnc(n2C[C@H]3COCCO3)CC(C)(C)C',\n",
       " 'CC(=O)N1CCCN(CC1)c2nnc(n2C[C@@H]3COCCO3)CC(C)(C)C',\n",
       " 'C[C@@H]1CCC[NH+]1CCn2c(nnc2N3CCCN(CC3)C(=O)C)[C@H]4CCOC4',\n",
       " 'C[C@H]1CCC[NH+]1CCn2c(nnc2N3CCCN(CC3)C(=O)C)[C@@H]4CCOC4']"
      ]
     },
     "execution_count": 16,
     "metadata": {},
     "output_type": "execute_result"
    }
   ],
   "source": [
    "batch"
   ]
  },
  {
   "cell_type": "code",
   "execution_count": null,
   "id": "75b18a9d-9596-449a-b68e-35c4f5213b3d",
   "metadata": {},
   "outputs": [],
   "source": []
  }
 ],
 "metadata": {
  "kernelspec": {
   "display_name": "Python 3 (ipykernel)",
   "language": "python",
   "name": "python3"
  },
  "language_info": {
   "codemirror_mode": {
    "name": "ipython",
    "version": 3
   },
   "file_extension": ".py",
   "mimetype": "text/x-python",
   "name": "python",
   "nbconvert_exporter": "python",
   "pygments_lexer": "ipython3",
   "version": "3.11.4"
  }
 },
 "nbformat": 4,
 "nbformat_minor": 5
}
