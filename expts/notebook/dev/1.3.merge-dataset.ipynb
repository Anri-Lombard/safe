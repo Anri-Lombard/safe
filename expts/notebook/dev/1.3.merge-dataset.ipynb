{
 "cells": [
  {
   "cell_type": "code",
   "execution_count": 1,
   "id": "c842eba5-f621-44a7-8abc-0d9224567465",
   "metadata": {},
   "outputs": [],
   "source": [
    "%load_ext autoreload\n",
    "%autoreload 2"
   ]
  },
  {
   "cell_type": "code",
   "execution_count": 2,
   "id": "96435135-ae5c-40e4-8d53-af4941be4e3c",
   "metadata": {},
   "outputs": [],
   "source": [
    "import datasets\n",
    "import pandas as pd\n",
    "from tqdm.auto import tqdm\n",
    "from itertools import chain"
   ]
  },
  {
   "cell_type": "code",
   "execution_count": 3,
   "id": "fee419c4-a4b4-47aa-babe-fda0d355112e",
   "metadata": {},
   "outputs": [
    {
     "data": {
      "application/vnd.jupyter.widget-view+json": {
       "model_id": "b5ca8686220a418597f56a515d02d30a",
       "version_major": 2,
       "version_minor": 0
      },
      "text/plain": [
       "Resolving data files:   0%|          | 0/127 [00:00<?, ?it/s]"
      ]
     },
     "metadata": {},
     "output_type": "display_data"
    },
    {
     "data": {
      "application/vnd.jupyter.widget-view+json": {
       "model_id": "453699879a234949bce4d878949be17e",
       "version_major": 2,
       "version_minor": 0
      },
      "text/plain": [
       "Resolving data files:   0%|          | 0/66 [00:00<?, ?it/s]"
      ]
     },
     "metadata": {},
     "output_type": "display_data"
    },
    {
     "data": {
      "application/vnd.jupyter.widget-view+json": {
       "model_id": "e3715efe3ca74928b66b390a165ca5d5",
       "version_major": 2,
       "version_minor": 0
      },
      "text/plain": [
       "Resolving data files:   0%|          | 0/66 [00:00<?, ?it/s]"
      ]
     },
     "metadata": {},
     "output_type": "display_data"
    },
    {
     "name": "stderr",
     "output_type": "stream",
     "text": [
      "Found cached dataset arrow (/storage/shared_data/manu/.cache/arrow/zinc_dump-c4ef570674f58a63/0.0.0/74f69db2c14c2860059d39860b1f400a03d11bf7fb5a8258ca38c501c878c137)\n"
     ]
    },
    {
     "data": {
      "application/vnd.jupyter.widget-view+json": {
       "model_id": "a432f8d9afcb457391885a8cbb345f34",
       "version_major": 2,
       "version_minor": 0
      },
      "text/plain": [
       "  0%|          | 0/3 [00:00<?, ?it/s]"
      ]
     },
     "metadata": {},
     "output_type": "display_data"
    }
   ],
   "source": [
    "#ri = datasets.ReadInstruction(\"train\") + datasets.ReadInstruction(\"test\")\n",
    "dt = datasets.load_dataset(\"/storage/shared_data/manu/zinc_dump/\", streaming=False, num_proc=32, cache_dir=\"/storage/shared_data/manu/.cache\")"
   ]
  },
  {
   "cell_type": "code",
   "execution_count": 4,
   "id": "0776ac30-07df-40b2-804a-2b5c5658d5ce",
   "metadata": {},
   "outputs": [
    {
     "name": "stderr",
     "output_type": "stream",
     "text": [
      "Loading cached processed dataset at /storage/shared_data/manu/.cache/arrow/zinc_dump-c4ef570674f58a63/0.0.0/74f69db2c14c2860059d39860b1f400a03d11bf7fb5a8258ca38c501c878c137/cache-28a161d2699fd303.arrow\n",
      "Loading cached processed dataset at /storage/shared_data/manu/.cache/arrow/zinc_dump-c4ef570674f58a63/0.0.0/74f69db2c14c2860059d39860b1f400a03d11bf7fb5a8258ca38c501c878c137/cache-dc4d6324982b4506.arrow\n",
      "Loading cached processed dataset at /storage/shared_data/manu/.cache/arrow/zinc_dump-c4ef570674f58a63/0.0.0/74f69db2c14c2860059d39860b1f400a03d11bf7fb5a8258ca38c501c878c137/cache-4a4b63c77f3cba59.arrow\n"
     ]
    }
   ],
   "source": [
    "dt = dt.cast_column(\"id\", datasets.Value(\"string\"))"
   ]
  },
  {
   "cell_type": "code",
   "execution_count": 5,
   "id": "0e759917-8bc4-47e7-89a3-3689ded03102",
   "metadata": {},
   "outputs": [
    {
     "name": "stderr",
     "output_type": "stream",
     "text": [
      "Loading cached processed dataset at /storage/shared_data/manu/.cache/arrow/zinc_dump-c4ef570674f58a63/0.0.0/74f69db2c14c2860059d39860b1f400a03d11bf7fb5a8258ca38c501c878c137/cache-e309a2078735483d_*_of_00032.arrow\n",
      "Loading cached processed dataset at /storage/shared_data/manu/.cache/arrow/zinc_dump-c4ef570674f58a63/0.0.0/74f69db2c14c2860059d39860b1f400a03d11bf7fb5a8258ca38c501c878c137/cache-fcb8d27b42171c00_*_of_00032.arrow\n",
      "Loading cached processed dataset at /storage/shared_data/manu/.cache/arrow/zinc_dump-c4ef570674f58a63/0.0.0/74f69db2c14c2860059d39860b1f400a03d11bf7fb5a8258ca38c501c878c137/cache-dc8e5007ce21b30e_*_of_00032.arrow\n"
     ]
    }
   ],
   "source": [
    "def update_info(examples):\n",
    "    return {\"source\": [\"zinc-20\"]*len(examples[\"id\"])}\n",
    "updated_dt =  dt.map(update_info, num_proc=32, batched=True, batch_size=5000)"
   ]
  },
  {
   "cell_type": "code",
   "execution_count": 6,
   "id": "fd5defcb-d0a8-4c31-84db-da81b443efbf",
   "metadata": {},
   "outputs": [],
   "source": [
    "unichem_df = pd.read_parquet(\"/storage/shared_data/manu/unichem\", engine=\"fastparquet\")"
   ]
  },
  {
   "cell_type": "code",
   "execution_count": 7,
   "id": "cfbee5a6-6445-43f9-92d0-cafadb80615e",
   "metadata": {},
   "outputs": [],
   "source": [
    "unichem_df[\"id\"] = unichem_df[\"id\"].astype(\"str\")"
   ]
  },
  {
   "cell_type": "code",
   "execution_count": 8,
   "id": "050d5e87-ef21-456b-a50d-074553b94957",
   "metadata": {},
   "outputs": [],
   "source": [
    "unichem_dt_tmp = datasets.Dataset.from_pandas(unichem_df.drop(columns=[\"parquet_partition\"]))"
   ]
  },
  {
   "cell_type": "code",
   "execution_count": 9,
   "id": "fb7b3b98-0a6d-4484-9852-227263a2384e",
   "metadata": {},
   "outputs": [],
   "source": [
    "# 80% train, 20% test + validation\n",
    "train_test_valid = unichem_dt_tmp.train_test_split(test_size=0.2)\n",
    "# split the 20 % test into  test and validation\n",
    "test_valid = train_test_valid[\"test\"].train_test_split(test_size=0.5)\n",
    "# gather everyone if you want to have a single DatasetDict\n",
    "unichem_dt = datasets.DatasetDict({\n",
    "    \"train\": train_test_valid[\"train\"],\n",
    "    \"test\": test_valid[\"test\"],\n",
    "    \"validation\": test_valid[\"train\"]})"
   ]
  },
  {
   "cell_type": "code",
   "execution_count": 10,
   "id": "6f033741-eeb7-48b6-93ab-3191eceb66ef",
   "metadata": {},
   "outputs": [],
   "source": [
    "unichem_dt = unichem_dt.select_columns(['id', 'smiles', 'source'])"
   ]
  },
  {
   "cell_type": "code",
   "execution_count": 11,
   "id": "3aea2b86-d5a0-44ef-be09-807f3823c824",
   "metadata": {},
   "outputs": [],
   "source": [
    "test_dt = datasets.concatenate_datasets([unichem_dt[\"test\"], updated_dt[\"test\"]])"
   ]
  },
  {
   "cell_type": "code",
   "execution_count": 12,
   "id": "8b5f2bdc-d79d-4f3d-86ba-3bd4386e8c4b",
   "metadata": {},
   "outputs": [],
   "source": [
    "validation_dt = datasets.concatenate_datasets([unichem_dt[\"validation\"], dt[\"validation\"]])"
   ]
  },
  {
   "cell_type": "code",
   "execution_count": 14,
   "id": "6f48b474-f5f0-4996-b789-6b2f52d76388",
   "metadata": {},
   "outputs": [],
   "source": [
    "train_dt = datasets.concatenate_datasets([unichem_dt[\"train\"], dt[\"train\"]])"
   ]
  },
  {
   "cell_type": "code",
   "execution_count": 15,
   "id": "f2e7cffb-d078-4b1e-a0eb-3ca4df1ada6e",
   "metadata": {},
   "outputs": [],
   "source": [
    "dataset = datasets.DatasetDict(dict(train=train_dt, test=test_dt, validation=validation_dt))"
   ]
  },
  {
   "cell_type": "code",
   "execution_count": null,
   "id": "85edb09a-433e-4d4a-9e59-b24687ec1833",
   "metadata": {},
   "outputs": [
    {
     "data": {
      "application/vnd.jupyter.widget-view+json": {
       "model_id": "a320af6df65e45b991d9dd18cbd3c1ac",
       "version_major": 2,
       "version_minor": 0
      },
      "text/plain": [
       "Saving the dataset (0/39 shards):   0%|          | 0/947392825 [00:00<?, ? examples/s]"
      ]
     },
     "metadata": {},
     "output_type": "display_data"
    }
   ],
   "source": [
    "dataset.save_to_disk(\"/storage/shared_data/manu/processed_zinc_unichem\", max_shard_size=\"2GB\", num_proc=8)"
   ]
  },
  {
   "cell_type": "code",
   "execution_count": null,
   "id": "11bf1e44-e8f4-40d3-97ee-d14aaf124ba3",
   "metadata": {},
   "outputs": [],
   "source": []
  }
 ],
 "metadata": {
  "kernelspec": {
   "display_name": "Python 3 (ipykernel)",
   "language": "python",
   "name": "python3"
  },
  "language_info": {
   "codemirror_mode": {
    "name": "ipython",
    "version": 3
   },
   "file_extension": ".py",
   "mimetype": "text/x-python",
   "name": "python",
   "nbconvert_exporter": "python",
   "pygments_lexer": "ipython3",
   "version": "3.11.4"
  }
 },
 "nbformat": 4,
 "nbformat_minor": 5
}
