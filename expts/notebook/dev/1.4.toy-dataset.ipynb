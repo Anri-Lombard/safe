{
 "cells": [
  {
   "cell_type": "code",
   "execution_count": 1,
   "id": "c842eba5-f621-44a7-8abc-0d9224567465",
   "metadata": {},
   "outputs": [],
   "source": [
    "%load_ext autoreload\n",
    "%autoreload 2"
   ]
  },
  {
   "cell_type": "code",
   "execution_count": 12,
   "id": "96435135-ae5c-40e4-8d53-af4941be4e3c",
   "metadata": {},
   "outputs": [],
   "source": [
    "import datasets\n",
    "from datasets import load_dataset\n",
    "from datasets import Dataset\n",
    "from tqdm.auto import tqdm\n",
    "from itertools import chain\n",
    "import datamol as dm\n",
    "import safe as sf"
   ]
  },
  {
   "cell_type": "code",
   "execution_count": 13,
   "id": "91c3f8c8-bab6-46bc-b963-0fcfb27b4df2",
   "metadata": {},
   "outputs": [
    {
     "data": {
      "application/vnd.jupyter.widget-view+json": {
       "model_id": "03ccf0d33b5e44d5b4bd4320074e77e0",
       "version_major": 2,
       "version_minor": 0
      },
      "text/plain": [
       "Resolving data files:   0%|          | 0/24 [00:00<?, ?it/s]"
      ]
     },
     "metadata": {},
     "output_type": "display_data"
    },
    {
     "name": "stderr",
     "output_type": "stream",
     "text": [
      "Found cached dataset arrow (/home/emmanuel/.cache/huggingface/datasets/arrow/processed_unichem-f0e43c1679512fb4/0.0.0/74f69db2c14c2860059d39860b1f400a03d11bf7fb5a8258ca38c501c878c137)\n"
     ]
    }
   ],
   "source": [
    "toy_dt = datasets.load_dataset(\"/storage/shared_data/manu/processed_unichem/\", split=\"test[:100000]\")"
   ]
  },
  {
   "cell_type": "code",
   "execution_count": null,
   "id": "d2d1ebf5-c9a9-4c96-a839-bc94aec98324",
   "metadata": {},
   "outputs": [],
   "source": [
    "ClP1OCCCCCCO1\n",
    "O=c1oc2ccccc2c(F)c1Br\n",
    "[Si]=C1C=CC=C1BrC1=C2CCc3ccc(Br)c4c3C2C(C=C1)CC4"
   ]
  },
  {
   "cell_type": "code",
   "execution_count": 55,
   "id": "4739af8c-f3f2-407c-bf2b-35eb1a16d064",
   "metadata": {},
   "outputs": [
    {
     "name": "stdout",
     "output_type": "stream",
     "text": [
      "deque([[{0, 1, 2, 3, 4, 5, 6, 7, 8, 9, 10, 11, 12, 13, 14}]])\n"
     ]
    },
    {
     "data": {
      "image/png": "[encoded data removed]",
      "text/plain": [
       "<rdkit.Chem.rdchem.Mol at 0x7efc023df300>"
      ]
     },
     "metadata": {},
     "output_type": "display_data"
    },
    {
     "data": {
      "text/plain": [
       "[]"
      ]
     },
     "execution_count": 55,
     "metadata": {},
     "output_type": "execute_result"
    }
   ],
   "source": [
    "out = sf.trainer.utils.fragment_aware_spliting(dm.to_mol(\"O=c1oc2ccccc2c(F)c1Br\"), fraction_hs=0.4)\n",
    "out"
   ]
  },
  {
   "cell_type": "code",
   "execution_count": 103,
   "id": "8181e8dd-6be1-4ce3-b25a-c2ca268d9408",
   "metadata": {},
   "outputs": [
    {
     "data": {
      "text/plain": [
       "'CC2.C2C1.C1CCC'"
      ]
     },
     "execution_count": 103,
     "metadata": {},
     "output_type": "execute_result"
    }
   ],
   "source": [
    "mol = dm.to_mol(\"CCCCCCCC\")\n",
    "sf.trainer.utils.convert_to_safe(mol, seed=1221, fraction_hs=0.1, resolution=1)"
   ]
  },
  {
   "cell_type": "code",
   "execution_count": 121,
   "id": "75b18a9d-9596-449a-b68e-35c4f5213b3d",
   "metadata": {},
   "outputs": [],
   "source": [
    "def batched_mapping(batch):\n",
    "    out = {}\n",
    "    if isinstance(batch[\"smiles\"], (list, tuple)):\n",
    "        safe_encoding = [sf.trainer.utils.convert_to_safe(x) for x in batch[\"smiles\"]]\n",
    "        non_null_pos = [i for i in range(len(batch[\"smiles\"])) if safe_encoding[i] is not None]\n",
    "        out[\"safe\"] = [safe_encoding[i] for i in non_null_pos]\n",
    "        for k in batch.keys():\n",
    "            out[k] = [batch[k][i] for i in non_null_pos]\n",
    "        return out\n",
    "    else:\n",
    "        return {'safe': sf.trainer.utils.convert_to_safe(batch[\"smiles\"])}"
   ]
  },
  {
   "cell_type": "code",
   "execution_count": null,
   "id": "e98b4a1b-3b5b-4359-8d79-adedd5f89b4e",
   "metadata": {},
   "outputs": [],
   "source": [
    "toy_dt.map(batched_mapping, batch_size=500, num_proc=32, batched=True)"
   ]
  },
  {
   "cell_type": "code",
   "execution_count": 116,
   "id": "03242fa1-9a12-4e3e-b6e4-29ba71d718d5",
   "metadata": {},
   "outputs": [
    {
     "data": {
      "application/vnd.jupyter.widget-view+json": {
       "model_id": "",
       "version_major": 2,
       "version_minor": 0
      },
      "text/plain": [
       "Filter:   0%|          | 0/100000 [00:00<?, ? examples/s]"
      ]
     },
     "metadata": {},
     "output_type": "display_data"
    }
   ],
   "source": [
    "tmp_df = toy_dt.filter(lambda x: x[\"smiles\"] is not None and '.' not in x[\"smiles\"])"
   ]
  },
  {
   "cell_type": "code",
   "execution_count": 127,
   "id": "67cfda64-1a04-4dc5-a6ef-ea7170cb9186",
   "metadata": {},
   "outputs": [
    {
     "data": {
      "application/vnd.jupyter.widget-view+json": {
       "model_id": "",
       "version_major": 2,
       "version_minor": 0
      },
      "text/plain": [
       "Map (num_proc=32):   0%|          | 0/95393 [00:00<?, ? examples/s]"
      ]
     },
     "metadata": {},
     "output_type": "display_data"
    }
   ],
   "source": [
    "out = tmp_df.map(batched_mapping, num_proc=32, batched=True, batch_size=5000)"
   ]
  },
  {
   "cell_type": "code",
   "execution_count": 128,
   "id": "6906c79a-ec13-4ec4-b53f-3f92f9ea476d",
   "metadata": {},
   "outputs": [
    {
     "data": {
      "text/plain": [
       "Dataset({\n",
       "    features: ['id', 'smiles', 'source', 'safe'],\n",
       "    num_rows: 94904\n",
       "})"
      ]
     },
     "execution_count": 128,
     "metadata": {},
     "output_type": "execute_result"
    }
   ],
   "source": [
    "out"
   ]
  },
  {
   "cell_type": "code",
   "execution_count": 129,
   "id": "d899d4eb-d050-4159-9db4-90836da32ebc",
   "metadata": {},
   "outputs": [
    {
     "data": {
      "application/vnd.jupyter.widget-view+json": {
       "model_id": "",
       "version_major": 2,
       "version_minor": 0
      },
      "text/plain": [
       "Filter:   0%|          | 0/94904 [00:00<?, ? examples/s]"
      ]
     },
     "metadata": {},
     "output_type": "display_data"
    }
   ],
   "source": [
    "tmp_df = out.filter(lambda x: x[\"safe\"] is not None)"
   ]
  },
  {
   "cell_type": "code",
   "execution_count": 130,
   "id": "1bf29c02-ea71-4394-aacb-bf54b58d2947",
   "metadata": {},
   "outputs": [
    {
     "data": {
      "text/plain": [
       "Dataset({\n",
       "    features: ['id', 'smiles', 'source', 'safe'],\n",
       "    num_rows: 94904\n",
       "})"
      ]
     },
     "execution_count": 130,
     "metadata": {},
     "output_type": "execute_result"
    }
   ],
   "source": [
    "tmp_df"
   ]
  },
  {
   "cell_type": "code",
   "execution_count": 132,
   "id": "c43b6a5b-1e7f-4a3a-a27b-add5860253f5",
   "metadata": {},
   "outputs": [
    {
     "data": {
      "text/plain": [
       "{'id': '169616212',\n",
       " 'smiles': 'CC(C)(C)[N+]1(C(=O)[O-])C2COCC1C[N+](Cc1ccccc1)(C(=O)[O-])C2',\n",
       " 'source': 'unichem',\n",
       " 'safe': 'CC6(C)C.[N+]176C2COCC1C[N+]53C2.C7(=O)[O-].C34.c14ccccc1.C5(=O)[O-]'}"
      ]
     },
     "execution_count": 132,
     "metadata": {},
     "output_type": "execute_result"
    }
   ],
   "source": [
    "tmp_df[100]\n"
   ]
  },
  {
   "cell_type": "code",
   "execution_count": null,
   "id": "cfd9c72b-caa5-48f5-90e7-b629ca0b889f",
   "metadata": {},
   "outputs": [],
   "source": []
  }
 ],
 "metadata": {
  "kernelspec": {
   "display_name": "Python 3 (ipykernel)",
   "language": "python",
   "name": "python3"
  },
  "language_info": {
   "codemirror_mode": {
    "name": "ipython",
    "version": 3
   },
   "file_extension": ".py",
   "mimetype": "text/x-python",
   "name": "python",
   "nbconvert_exporter": "python",
   "pygments_lexer": "ipython3",
   "version": "3.11.4"
  }
 },
 "nbformat": 4,
 "nbformat_minor": 5
}
