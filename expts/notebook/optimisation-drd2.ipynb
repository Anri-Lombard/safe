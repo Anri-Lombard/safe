{
 "cells": [
  {
   "cell_type": "code",
   "execution_count": 1,
   "metadata": {},
   "outputs": [],
   "source": [
    "%load_ext autoreload\n",
    "%autoreload 2"
   ]
  },
  {
   "cell_type": "code",
   "execution_count": 2,
   "metadata": {},
   "outputs": [],
   "source": [
    "import os\n",
    "os.environ[\"TOKENIZERS_PARALLELISM\"] = \"false\""
   ]
  },
  {
   "cell_type": "code",
   "execution_count": 3,
   "metadata": {},
   "outputs": [],
   "source": [
    "%%capture\n",
    "! pip install pytdc"
   ]
  },
  {
   "cell_type": "code",
   "execution_count": 4,
   "metadata": {},
   "outputs": [],
   "source": [
    "%%capture\n",
    "! pip install trl"
   ]
  },
  {
   "cell_type": "code",
   "execution_count": 5,
   "metadata": {},
   "outputs": [],
   "source": [
    "import safe as sf\n",
    "import datamol as dm\n",
    "import torch\n",
    "import numpy as np\n",
    "from tqdm.auto import tqdm\n",
    "from safe import SAFEDesign\n",
    "from tdc import Oracle\n",
    "from tdc import Evaluator\n",
    "from safe.trainer.model import SAFEDoubleHeadsModel\n",
    "from safe.tokenizer import SAFETokenizer\n",
    "from random import choices\n",
    "from trl import AutoModelForCausalLMWithValueHead, PPOConfig, PPOTrainer, create_reference_model"
   ]
  },
  {
   "cell_type": "code",
   "execution_count": 6,
   "metadata": {},
   "outputs": [],
   "source": [
    "BATCH_SIZE = 64"
   ]
  },
  {
   "cell_type": "code",
   "execution_count": 7,
   "metadata": {},
   "outputs": [],
   "source": [
    "\n",
    "def train(ppo_config, generation_kwargs, model, tokenizer, oracle, prefix=None, n_episodes=100):\n",
    "    safe_encoder = sf.SAFEConverter()\n",
    "    model_ref = create_reference_model(model)\n",
    "    config = PPOConfig(**ppo_config)\n",
    "\n",
    "    diversity_evaluator = Evaluator(name = 'Diversity')\n",
    "    uniqueness_evaluator = Evaluator(name = 'Uniqueness')\n",
    "\n",
    "    ppo_trainer = PPOTrainer(config, model, model_ref, tokenizer)\n",
    "    if isinstance(prefix, str):\n",
    "        \n",
    "        encoded_fragment = safe_encoder.encoder(\n",
    "                        prefix,\n",
    "                        canonical=False,\n",
    "                        randomize=True,\n",
    "                        constraints=None,\n",
    "                        allow_empty=True,\n",
    "                    )        \n",
    "        prefix = encoded_fragment.rstrip(\".\") + \".\"\n",
    "        \n",
    "    if prefix is None:\n",
    "        prefix = \"\"\n",
    "    \n",
    "    if isinstance(prefix, str):\n",
    "        prefix = [prefix]\n",
    "\n",
    "    batch_size = ppo_config.get(\"batch_size\", 32)\n",
    "    if len(prefix) < batch_size:\n",
    "        prefix = choices(prefix, k=batch_size)\n",
    "    \n",
    "    for episode in tqdm(range(n_episodes)): \n",
    "        game_data =  dict()\n",
    "        game_data[\"query\"] = prefix\n",
    "        batch = tokenizer([tokenizer.bos_token+x for x in prefix], return_tensors=\"pt\", add_special_tokens=False).to(model.pretrained_model.device)\n",
    "        query_tensor = batch[\"input_ids\"]\n",
    "        response_tensor = ppo_trainer.generate([item for item in query_tensor], return_prompt=False, **generation_kwargs)\n",
    "        decoded_safe_mols = tokenizer.batch_decode(response_tensor, skip_special_tokens=True)\n",
    "\n",
    "        decoded_smiles = [\n",
    "            sf.decode(x,\n",
    "                    as_mol=False,\n",
    "                    fix=True,\n",
    "                    remove_added_hs=True,\n",
    "                    canonical=True,\n",
    "                    ignore_errors=True,\n",
    "                    remove_dummies=True,\n",
    "                ) for x in decoded_safe_mols\n",
    "            ]\n",
    "        game_data[\"response\"] = decoded_safe_mols\n",
    "        rewards = np.zeros(len(decoded_smiles))\n",
    "        valid_position = []\n",
    "        valid_smiles = []\n",
    "        try:\n",
    "            valid_position, valid_smiles = zip(*[(i, x) for i, x in enumerate(decoded_smiles) if x is not None])\n",
    "            valid_smiles = list(valid_smiles)\n",
    "            batch_reward = oracle(list(valid_smiles))\n",
    "            rewards[np.asarray(valid_position)] = batch_reward\n",
    "        except:\n",
    "            pass\n",
    "    \n",
    "        rewards = torch.from_numpy(rewards).to(device=model.pretrained_model.device)\n",
    "        rewards = [item for item in rewards]\n",
    "        stats = ppo_trainer.step([_ for _ in query_tensor], [_ for _ in response_tensor], rewards)\n",
    "        stats[\"validity\"] = (len(valid_position) / BATCH_SIZE)\n",
    "        if len(valid_smiles) > 0:\n",
    "            stats[\"uniqueness\"]  = uniqueness_evaluator(list(valid_smiles))\n",
    "            stats[\"diversity\"]  = diversity_evaluator(list(valid_smiles))\n",
    "        ppo_trainer.log_stats(stats, game_data, rewards)\n",
    "    return ppo_trainer, model"
   ]
  },
  {
   "cell_type": "code",
   "execution_count": 8,
   "metadata": {},
   "outputs": [
    {
     "name": "stderr",
     "output_type": "stream",
     "text": [
      "Found local copy...\n"
     ]
    }
   ],
   "source": [
    "oracle = Oracle(name = 'DRD2')"
   ]
  },
  {
   "cell_type": "code",
   "execution_count": 9,
   "metadata": {},
   "outputs": [],
   "source": [
    "model_path = SAFEDesign._DEFAULT_MODEL_PATH\n",
    "safe_tokenizer = SAFETokenizer.load(os.path.join(model_path, 'tokenizer.json'))\n",
    "safe_model = SAFEDoubleHeadsModel.from_pretrained(model_path)"
   ]
  },
  {
   "cell_type": "code",
   "execution_count": 10,
   "metadata": {},
   "outputs": [],
   "source": [
    "tokenizer = safe_tokenizer.get_pretrained()\n",
    "model = AutoModelForCausalLMWithValueHead(safe_model)\n",
    "model.is_peft_model = False"
   ]
  },
  {
   "cell_type": "code",
   "execution_count": 11,
   "metadata": {},
   "outputs": [],
   "source": [
    "%%capture\n",
    "! pip install wandb"
   ]
  },
  {
   "cell_type": "code",
   "execution_count": 12,
   "metadata": {},
   "outputs": [],
   "source": [
    "ppo_config = {\n",
    "    \"batch_size\": BATCH_SIZE, \n",
    "    \"log_with\":\"wandb\", \n",
    "    \"model_name\": \"safe\", \n",
    "    \"tracker_project_name\":\"safe-drd2\",\n",
    "    \"vf_coef\": 0.2,\n",
    "    \"learning_rate\": 1e-4,\n",
    "}\n",
    "\n",
    "generation_kwargs = {\n",
    "    \"min_length\": -1,\n",
    "    \"top_k\": 0.0,\n",
    "    \"top_p\": 1.0,\n",
    "    \"do_sample\": True,\n",
    "    \"pad_token_id\": tokenizer.pad_token_id,\n",
    "    \"bos_token_id\": tokenizer.bos_token_id,\n",
    "    \"eos_token_id\": tokenizer.eos_token_id,\n",
    "    \"max_new_tokens\": 100,\n",
    "}\n"
   ]
  },
  {
   "cell_type": "code",
   "execution_count": 13,
   "metadata": {},
   "outputs": [],
   "source": [
    "tokenizer = safe_tokenizer.get_pretrained()\n",
    "model = AutoModelForCausalLMWithValueHead(safe_model)\n",
    "model.is_peft_model = False"
   ]
  },
  {
   "cell_type": "code",
   "execution_count": 14,
   "metadata": {},
   "outputs": [
    {
     "name": "stdout",
     "output_type": "stream",
     "text": [
      "env: WANDB_SILENT=True\n",
      "env: WANDB_LOG_MODEL=end\n",
      "env: WANDB_WATCH=all\n",
      "env: WANDB_PROJECT=safe-gpt2-drd2\n",
      "env: WANDB_NAME=safe-gpt2\n"
     ]
    }
   ],
   "source": [
    "%env WANDB_SILENT=True\n",
    "%env WANDB_LOG_MODEL=end\n",
    "%env WANDB_WATCH=all\n",
    "%env WANDB_PROJECT=safe-gpt2-drd2\n",
    "%env WANDB_NAME=safe-gpt2"
   ]
  },
  {
   "cell_type": "code",
   "execution_count": 15,
   "metadata": {},
   "outputs": [],
   "source": [
    "import wandb\n",
    "wandb.finish()"
   ]
  },
  {
   "cell_type": "code",
   "execution_count": 16,
   "metadata": {},
   "outputs": [
    {
     "data": {
      "image/png": "[encoded data removed]",
      "text/plain": [
       "<rdkit.Chem.rdchem.Mol at 0x7f0f8f9ca8f0>"
      ]
     },
     "execution_count": 16,
     "metadata": {},
     "output_type": "execute_result"
    }
   ],
   "source": [
    "drd2_scaffold = \"[*:2]N1CCN(CC1)CCCCN[*:1]\"\n",
    "dm.to_mol(drd2_scaffold)"
   ]
  },
  {
   "cell_type": "code",
   "execution_count": 17,
   "metadata": {},
   "outputs": [],
   "source": [
    "designer = SAFEDesign.load_default()\n",
    "generated = designer.scaffold_decoration(drd2_scaffold, do_not_fragment_further=True, add_dot=True)"
   ]
  },
  {
   "cell_type": "code",
   "execution_count": 18,
   "metadata": {},
   "outputs": [
    {
     "name": "stderr",
     "output_type": "stream",
     "text": [
      "fatal: No names found, cannot describe anything.\n"
     ]
    },
    {
     "data": {
      "application/vnd.jupyter.widget-view+json": {
       "model_id": "de5f29204c64468a9e1b6a702b5365e5",
       "version_major": 2,
       "version_minor": 0
      },
      "text/plain": [
       "  0%|          | 0/100 [00:00<?, ?it/s]"
      ]
     },
     "metadata": {},
     "output_type": "display_data"
    },
    {
     "name": "stderr",
     "output_type": "stream",
     "text": [
      "You're using a PreTrainedTokenizerFast tokenizer. Please note that with a fast tokenizer, using the `__call__` method is faster than using a method to encode the text followed by a call to the `pad` method to get a padded encoding.\n"
     ]
    }
   ],
   "source": [
    "%%wandb\n",
    "\n",
    "trainer, trained_model = train(ppo_config, generation_kwargs, model, tokenizer, oracle, prefix=drd2_scaffold, n_episodes=100)"
   ]
  },
  {
   "cell_type": "code",
   "execution_count": null,
   "metadata": {},
   "outputs": [],
   "source": []
  }
 ],
 "metadata": {
  "kernelspec": {
   "display_name": "safe-space",
   "language": "python",
   "name": "python3"
  },
  "language_info": {
   "codemirror_mode": {
    "name": "ipython",
    "version": 3
   },
   "file_extension": ".py",
   "mimetype": "text/x-python",
   "name": "python",
   "nbconvert_exporter": "python",
   "pygments_lexer": "ipython3",
   "version": "3.11.4"
  },
  "orig_nbformat": 4
 },
 "nbformat": 4,
 "nbformat_minor": 2
}
